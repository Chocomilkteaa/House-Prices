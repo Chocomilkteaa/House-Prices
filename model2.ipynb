{
 "cells": [
  {
   "cell_type": "markdown",
   "metadata": {},
   "source": [
    "# Import Packages and Settings"
   ]
  },
  {
   "cell_type": "code",
   "execution_count": 1,
   "metadata": {},
   "outputs": [
    {
     "name": "stdout",
     "output_type": "stream",
     "text": [
      "9\n"
     ]
    }
   ],
   "source": [
    "import os\n",
    "import numpy as np\n",
    "import pandas as pd\n",
    "from pandas.api.types import is_numeric_dtype\n",
    "\n",
    "import matplotlib.pyplot as plt\n",
    "\n",
    "from xgboost.sklearn import XGBRegressor\n",
    "\n",
    "from catboost import CatBoostRegressor\n",
    "\n",
    "%matplotlib inline\n",
    "\n",
    "pd.set_option('display.max_colwidth', None)\n",
    "pd.set_option('display.max_columns', None)\n",
    "pd.set_option('display.max_rows', None)\n",
    "\n",
    "n_core = os.cpu_count()-3\n",
    "print(n_core)"
   ]
  },
  {
   "cell_type": "code",
   "execution_count": 2,
   "metadata": {},
   "outputs": [
    {
     "name": "stderr",
     "output_type": "stream",
     "text": [
      "Intel(R) Extension for Scikit-learn* enabled (https://github.com/intel/scikit-learn-intelex)\n"
     ]
    }
   ],
   "source": [
    "from sklearn.base import clone\n",
    "from sklearn.preprocessing import OneHotEncoder\n",
    "from sklearn.linear_model import LinearRegression, Lasso, Ridge\n",
    "from sklearn.tree import DecisionTreeRegressor\n",
    "from sklearn.ensemble import RandomForestRegressor, GradientBoostingRegressor, VotingRegressor\n",
    "from sklearn.feature_selection import RFECV\n",
    "from sklearn.model_selection import ShuffleSplit, cross_val_score, GridSearchCV\n",
    "\n",
    "from sklearnex import patch_sklearn\n",
    "\n",
    "patch_sklearn()"
   ]
  },
  {
   "cell_type": "markdown",
   "metadata": {},
   "source": [
    "# Load Data and Preprocessing"
   ]
  },
  {
   "cell_type": "code",
   "execution_count": 3,
   "metadata": {},
   "outputs": [],
   "source": [
    "train_data = pd.read_csv('./Data/train.csv', index_col='Id')\n",
    "test_data = pd.read_csv('./Data/test.csv', index_col='Id')\n",
    "\n",
    "feature = 'MSSubClass'\n",
    "train_data[feature] = train_data[feature].apply(lambda x: str(x))\n",
    "test_data[feature] = test_data[feature].apply(lambda x: str(x))\n",
    "\n",
    "assert(not is_numeric_dtype(train_data[feature]))\n",
    "\n",
    "feature = 'Street'\n",
    "train_data[feature] = train_data[feature].map({'Pave': 0, 'Grvl':1})\n",
    "test_data[feature] = test_data[feature].map({'Pave': 0, 'Grvl':1})\n",
    "\n",
    "assert(is_numeric_dtype(train_data[feature]))\n",
    "\n",
    "feature = 'Alley'\n",
    "train_data[feature] = train_data[feature].fillna('None')\n",
    "test_data[feature] = test_data[feature].fillna('None')\n",
    "\n",
    "assert(train_data[feature].isna().sum() == 0)\n",
    "\n",
    "feature = 'MasVnrType'\n",
    "train_data[feature] = train_data[feature].fillna('None')\n",
    "test_data[feature] = test_data[feature].fillna('None')\n",
    "\n",
    "assert(train_data[feature].isna().sum() == 0)\n",
    "\n",
    "feature = 'MasVnrArea'\n",
    "train_data[feature] = train_data[feature].fillna(0)\n",
    "test_data[feature] = test_data[feature].fillna(0)\n",
    "\n",
    "assert(train_data[feature].isna().sum() == 0)\n",
    "\n",
    "quality_map = {'Po':1, 'Fa':2, 'TA':3, 'Gd':4, 'Ex':5}\n",
    "\n",
    "feature = 'ExterQual'\n",
    "train_data[feature] = train_data[feature].map(quality_map)\n",
    "test_data[feature] = test_data[feature].map(quality_map)\n",
    "\n",
    "assert(is_numeric_dtype(train_data[feature]))\n",
    "\n",
    "feature = 'ExterCond'\n",
    "train_data[feature] = train_data[feature].map(quality_map)\n",
    "test_data[feature] = test_data[feature].map(quality_map)\n",
    "\n",
    "assert(is_numeric_dtype(train_data[feature]))\n",
    "\n",
    "feature = 'BsmtQual'\n",
    "train_data[feature] = train_data[feature].map(quality_map)\n",
    "test_data[feature] = test_data[feature].map(quality_map)\n",
    "train_data[feature] = train_data[feature].fillna(0)\n",
    "test_data[feature] = test_data[feature].fillna(0)\n",
    "train_data[feature] = train_data[feature].astype(int)\n",
    "test_data[feature] = test_data[feature].astype(int)\n",
    "\n",
    "assert(is_numeric_dtype(train_data[feature]))\n",
    "assert(train_data[feature].isna().sum() == 0)\n",
    "\n",
    "feature = 'BsmtCond'\n",
    "train_data[feature] = train_data[feature].map(quality_map)\n",
    "test_data[feature] = test_data[feature].map(quality_map)\n",
    "train_data[feature] = train_data[feature].fillna(0)\n",
    "test_data[feature] = test_data[feature].fillna(0)\n",
    "train_data[feature] = train_data[feature].astype(int)\n",
    "test_data[feature] = test_data[feature].astype(int)\n",
    "\n",
    "assert(is_numeric_dtype(train_data[feature]))\n",
    "assert(train_data[feature].isna().sum() == 0)\n",
    "\n",
    "exposure_map = {'No':1, 'Mn':2, 'Av':3, 'Gd':4}\n",
    "\n",
    "feature = 'BsmtExposure'\n",
    "train_data[feature] = train_data[feature].map(exposure_map)\n",
    "test_data[feature] = test_data[feature].map(exposure_map)\n",
    "train_data[feature] = train_data[feature].fillna(0)\n",
    "test_data[feature] = test_data[feature].fillna(0)\n",
    "train_data[feature] = train_data[feature].astype(int)\n",
    "test_data[feature] = test_data[feature].astype(int)\n",
    "\n",
    "assert(is_numeric_dtype(train_data[feature]))\n",
    "assert(train_data[feature].isna().sum() == 0)\n",
    "\n",
    "type_map = {'Unf':1, 'LwQ':2, 'Rec':3, 'BLQ':4, 'ALQ':5, 'GLQ':6}\n",
    "\n",
    "feature = 'BsmtFinType1'\n",
    "train_data[feature] = train_data[feature].map(type_map)\n",
    "test_data[feature] = test_data[feature].map(type_map)\n",
    "train_data[feature] = train_data[feature].fillna(0)\n",
    "test_data[feature] = test_data[feature].fillna(0)\n",
    "train_data[feature] = train_data[feature].astype(int)\n",
    "test_data[feature] = test_data[feature].astype(int)\n",
    "\n",
    "assert(is_numeric_dtype(train_data[feature]))\n",
    "assert(train_data[feature].isna().sum() == 0)\n",
    "\n",
    "feature = 'BsmtFinType2'\n",
    "train_data[feature] = train_data[feature].map(type_map)\n",
    "test_data[feature] = test_data[feature].map(type_map)\n",
    "train_data[feature] = train_data[feature].fillna(0)\n",
    "test_data[feature] = test_data[feature].fillna(0)\n",
    "train_data[feature] = train_data[feature].astype(int)\n",
    "test_data[feature] = test_data[feature].astype(int)\n",
    "\n",
    "assert(is_numeric_dtype(train_data[feature]))\n",
    "assert(train_data[feature].isna().sum() == 0)\n",
    "\n",
    "feature = 'HeatingQC'\n",
    "train_data[feature] = train_data[feature].map(quality_map)\n",
    "test_data[feature] = test_data[feature].map(quality_map)\n",
    "\n",
    "assert(is_numeric_dtype(train_data[feature]))\n",
    "\n",
    "feature = 'CentralAir'\n",
    "train_data[feature] = train_data[feature].map({'N': 0, 'Y':1})\n",
    "test_data[feature] = test_data[feature].map({'N': 0, 'Y':1})\n",
    "\n",
    "assert(is_numeric_dtype(train_data[feature]))\n",
    "\n",
    "feature = 'KitchenQual'\n",
    "train_data[feature] = train_data[feature].map(quality_map)\n",
    "test_data[feature] = test_data[feature].map(quality_map)\n",
    "\n",
    "assert(is_numeric_dtype(train_data[feature]))\n",
    "\n",
    "function_map = {'Sal':1, 'Sev':2, 'Maj2':3, 'Maj1':4, 'Mod':5, 'Min2':6, 'Min1':7, 'Typ':8}\n",
    "\n",
    "feature = 'Functional'\n",
    "train_data[feature] = train_data[feature].map(function_map)\n",
    "test_data[feature] = test_data[feature].map(function_map)\n",
    "test_data[feature] = test_data[feature].fillna(8)\n",
    "\n",
    "assert(is_numeric_dtype(train_data[feature]))\n",
    "\n",
    "feature = 'FireplaceQu'\n",
    "train_data[feature] = train_data[feature].map(quality_map)\n",
    "test_data[feature] = test_data[feature].map(quality_map)\n",
    "train_data[feature] = train_data[feature].fillna(0)\n",
    "test_data[feature] = test_data[feature].fillna(0)\n",
    "train_data[feature] = train_data[feature].astype(int)\n",
    "test_data[feature] = test_data[feature].astype(int)\n",
    "\n",
    "assert(is_numeric_dtype(train_data[feature]))\n",
    "assert(train_data[feature].isna().sum() == 0)\n",
    "\n",
    "feature = 'GarageType'\n",
    "train_data[feature] = train_data[feature].fillna('None')\n",
    "test_data[feature] = test_data[feature].fillna('None')\n",
    "\n",
    "assert(train_data[feature].isna().sum() == 0)\n",
    "\n",
    "feature = 'GarageYrBlt'\n",
    "train_data[feature] = train_data[feature].fillna(-1)\n",
    "test_data[feature] = test_data[feature].fillna(-1)\n",
    "train_data[feature] = train_data[feature].astype(int)\n",
    "test_data[feature] = test_data[feature].astype(int)\n",
    "\n",
    "assert(train_data[feature].isna().sum() == 0)\n",
    "\n",
    "exposure_map = {'Unf':1, 'RFn':2, 'Fin':3}\n",
    "\n",
    "feature = 'GarageFinish'\n",
    "train_data[feature] = train_data[feature].map(exposure_map)\n",
    "test_data[feature] = test_data[feature].map(exposure_map)\n",
    "train_data[feature] = train_data[feature].fillna(0)\n",
    "test_data[feature] = test_data[feature].fillna(0)\n",
    "train_data[feature] = train_data[feature].astype(int)\n",
    "test_data[feature] = test_data[feature].astype(int)\n",
    "\n",
    "assert(is_numeric_dtype(train_data[feature]))\n",
    "assert(train_data[feature].isna().sum() == 0)\n",
    "\n",
    "feature = 'GarageQual'\n",
    "train_data[feature] = train_data[feature].map(quality_map)\n",
    "test_data[feature] = test_data[feature].map(quality_map)\n",
    "train_data[feature] = train_data[feature].fillna(0)\n",
    "test_data[feature] = test_data[feature].fillna(0)\n",
    "train_data[feature] = train_data[feature].astype(int)\n",
    "test_data[feature] = test_data[feature].astype(int)\n",
    "\n",
    "assert(is_numeric_dtype(train_data[feature]))\n",
    "assert(train_data[feature].isna().sum() == 0)\n",
    "\n",
    "feature = 'GarageCond'\n",
    "train_data[feature] = train_data[feature].map(quality_map)\n",
    "test_data[feature] = test_data[feature].map(quality_map)\n",
    "train_data[feature] = train_data[feature].fillna(0)\n",
    "test_data[feature] = test_data[feature].fillna(0)\n",
    "train_data[feature] = train_data[feature].astype(int)\n",
    "test_data[feature] = test_data[feature].astype(int)\n",
    "\n",
    "assert(is_numeric_dtype(train_data[feature]))\n",
    "assert(train_data[feature].isna().sum() == 0)\n",
    "\n",
    "feature = 'PoolQC'\n",
    "train_data[feature] = train_data[feature].map(quality_map)\n",
    "test_data[feature] = test_data[feature].map(quality_map)\n",
    "train_data[feature] = train_data[feature].fillna(0)\n",
    "test_data[feature] = test_data[feature].fillna(0)\n",
    "train_data[feature] = train_data[feature].astype(int)\n",
    "test_data[feature] = test_data[feature].astype(int)\n",
    "\n",
    "assert(is_numeric_dtype(train_data[feature]))\n",
    "assert(train_data[feature].isna().sum() == 0)\n",
    "\n",
    "fence_map = {'MnWw':1, 'GdWo':2, 'MnPrv':3, 'GdPrv':4}\n",
    "\n",
    "feature = 'Fence'\n",
    "train_data[feature] = train_data[feature].map(fence_map)\n",
    "test_data[feature] = test_data[feature].map(fence_map)\n",
    "train_data[feature] = train_data[feature].fillna(0)\n",
    "test_data[feature] = test_data[feature].fillna(0)\n",
    "train_data[feature] = train_data[feature].astype(int)\n",
    "test_data[feature] = test_data[feature].astype(int)\n",
    "\n",
    "assert(is_numeric_dtype(train_data[feature]))\n",
    "assert(train_data[feature].isna().sum() == 0)\n",
    "\n",
    "feature = 'MiscFeature'\n",
    "train_data[feature] = train_data[feature].fillna('None')\n",
    "test_data[feature] = test_data[feature].fillna('None')\n",
    "\n",
    "assert(train_data[feature].isna().sum() == 0)\n",
    "\n",
    "test_data.loc[test_data['GarageCars'].isnull(), ['GarageType', 'GarageCars', 'GarageArea']] = ['None', 0, 0]\n",
    "test_data.loc[test_data['BsmtFinSF1'].isnull(), ['BsmtFinSF1', 'BsmtFinSF2', 'BsmtUnfSF', 'TotalBsmtSF', 'BsmtFullBath', 'BsmtHalfBath']] = [0, 0, 0, 0, 0, 0]\n",
    "test_data.loc[test_data['BsmtFullBath'].isnull(), ['BsmtFullBath', 'BsmtHalfBath']] = [0, 0]\n",
    "\n",
    "assert(test_data['GarageCars'].isna().sum() == 0)\n",
    "assert(test_data['BsmtFinSF1'].isna().sum() == 0)\n",
    "assert(test_data['BsmtFullBath'].isna().sum() == 0)\n",
    "\n",
    "columns_float = train_data.select_dtypes(include=['float64']).columns\n",
    "train_data[columns_float] = train_data[columns_float].astype('float32')\n",
    "test_data[columns_float] = test_data[columns_float].astype('float32')\n",
    "\n",
    "label = 'SalePrice'\n",
    "\n",
    "id = test_data.index"
   ]
  },
  {
   "cell_type": "code",
   "execution_count": 4,
   "metadata": {},
   "outputs": [],
   "source": [
    "train_data_new, test_data_new = train_data.copy(), test_data.copy().reset_index(drop=True)\n",
    "\n",
    "train_data_new = train_data_new.drop(train_data_new[(train_data_new['OverallQual']==4) & (train_data_new['SalePrice']>200000)].index)\n",
    "train_data_new = train_data_new.drop(train_data_new[(train_data_new['GrLivArea']>4000) & (train_data_new['SalePrice']<300000)].index).reset_index(drop=True)\n",
    "\n",
    "train_data_new['TotalSF'] = train_data_new[['TotalBsmtSF', '1stFlrSF', '2ndFlrSF']].sum(axis=1)\n",
    "test_data_new['TotalSF'] = test_data_new[['TotalBsmtSF', '1stFlrSF', '2ndFlrSF']].sum(axis=1)\n",
    "\n",
    "train_data_new['TotalFinSF'] = train_data_new[['BsmtFinSF1', 'BsmtFinSF2', '1stFlrSF', '2ndFlrSF']].sum(axis=1)\n",
    "test_data_new['TotalFinSF'] = test_data_new[['BsmtFinSF1', 'BsmtFinSF2', '1stFlrSF', '2ndFlrSF']].sum(axis=1)\n",
    "\n",
    "train_data_new['YearSinceBuilt'] = train_data_new['YrSold'] - train_data_new['YearBuilt']\n",
    "test_data_new['YearSinceBuilt'] = test_data_new['YrSold'] - test_data_new['YearBuilt']\n",
    "\n",
    "train_data_new['YearSinceRemod'] = train_data_new['YrSold'] - train_data_new['YearRemodAdd']\n",
    "test_data_new['YearSinceRemod'] = test_data_new['YrSold'] - test_data_new['YearRemodAdd']\n",
    "\n",
    "train_data_new['TotalBath'] = train_data_new[['FullBath', 'BsmtFullBath']].sum(axis=1) + 0.5 * train_data_new[['HalfBath', 'BsmtHalfBath']].sum(axis=1)\n",
    "test_data_new['TotalBath'] = test_data_new[['FullBath', 'BsmtFullBath']].sum(axis=1) + 0.5 * test_data_new[['HalfBath', 'BsmtHalfBath']].sum(axis=1)\n",
    "\n",
    "train_data_new['TotalPorch'] = train_data_new[['OpenPorchSF', 'EnclosedPorch', '3SsnPorch', 'ScreenPorch', 'WoodDeckSF']].sum(axis=1)\n",
    "test_data_new['TotalPorch'] = test_data_new[['OpenPorchSF', 'EnclosedPorch', '3SsnPorch', 'ScreenPorch', 'WoodDeckSF']].sum(axis=1)\n",
    "\n",
    "train_data_new['HasPool'] = train_data_new['PoolArea'].apply(lambda x: 1 if x > 0 else 0)\n",
    "test_data_new['HasPool'] = test_data_new['PoolArea'].apply(lambda x: 1 if x > 0 else 0)\n",
    "\n",
    "train_data_new['Has2ndFloor'] = train_data_new['2ndFlrSF'].apply(lambda x: 1 if x > 0 else 0)\n",
    "test_data_new['Has2ndFloor'] = test_data_new['2ndFlrSF'].apply(lambda x: 1 if x > 0 else 0)\n",
    "\n",
    "train_data_new['HasBsmt'] = train_data_new['TotalBsmtSF'].apply(lambda x: 1 if x > 0 else 0)\n",
    "test_data_new['HasBsmt'] = test_data_new['TotalBsmtSF'].apply(lambda x: 1 if x > 0 else 0)\n",
    "\n",
    "train_data_new['HasFireplace'] = train_data_new['Fireplaces'].apply(lambda x: 1 if x > 0 else 0)\n",
    "test_data_new['HasFireplace'] = test_data_new['Fireplaces'].apply(lambda x: 1 if x > 0 else 0)\n",
    "\n",
    "train_data_new['HasGarage'] = train_data_new['GarageArea'].apply(lambda x: 1 if x > 0 else 0)\n",
    "test_data_new['HasGarage'] = test_data_new['GarageArea'].apply(lambda x: 1 if x > 0 else 0)\n",
    "\n",
    "train_data_new['HasFence'] = train_data_new['Fence'].apply(lambda x: 1 if x > 0 else 0)\n",
    "test_data_new['HasFence'] = test_data_new['Fence'].apply(lambda x: 1 if x > 0 else 0)\n",
    "\n",
    "train_data_new['HasPorch'] = train_data_new['TotalPorch'].apply(lambda x: 1 if x > 0 else 0)\n",
    "test_data_new['HasPorch'] = test_data_new['TotalPorch'].apply(lambda x: 1 if x > 0 else 0)\n",
    "\n",
    "train_data_new['HasWoodDeck'] = train_data_new['WoodDeckSF'].apply(lambda x: 1 if x > 0 else 0)\n",
    "test_data_new['HasWoodDeck'] = test_data_new['WoodDeckSF'].apply(lambda x: 1 if x > 0 else 0)"
   ]
  },
  {
   "cell_type": "code",
   "execution_count": 5,
   "metadata": {},
   "outputs": [],
   "source": [
    "columns_to_log = ['LotFrontage', 'LotArea', 'MasVnrArea', \n",
    "                  'BsmtFinSF1', 'BsmtFinSF2', 'BsmtUnfSF', \n",
    "                  'TotalBsmtSF', '1stFlrSF', '2ndFlrSF', \n",
    "                  'LowQualFinSF', 'GrLivArea', 'WoodDeckSF', \n",
    "                  'OpenPorchSF', 'EnclosedPorch', '3SsnPorch', \n",
    "                  'ScreenPorch', 'PoolArea', 'MiscVal']\n",
    "\n",
    "skews = train_data_new.select_dtypes(include='number').skew().sort_values(ascending=False)\n",
    "columns_to_skew = skews[columns_to_log][skews > 0.75].index\n",
    "\n",
    "train_data_new[columns_to_skew] = np.log1p(train_data_new[columns_to_skew])\n",
    "test_data_new[columns_to_skew] = np.log1p(test_data_new[columns_to_skew])"
   ]
  },
  {
   "cell_type": "markdown",
   "metadata": {},
   "source": [
    "# Functions"
   ]
  },
  {
   "cell_type": "code",
   "execution_count": 7,
   "metadata": {},
   "outputs": [],
   "source": [
    "def prepareDataDrop(columns_to_drop, label, train_data, test_data, islog):\n",
    "    X_train = train_data.drop([label] + columns_to_drop, axis=1)\n",
    "    Y_train = np.log(train_data[label]) if islog else train_data[label]\n",
    "    X_test = test_data.drop(columns_to_drop, axis=1)\n",
    "    return X_train, Y_train, X_test\n",
    "\n",
    "def prepareDataSelect(columns_to_select, label, train_data, test_data, islog):\n",
    "    X_train = train_data[columns_to_select]\n",
    "    Y_train = np.log(train_data[label]) if islog else train_data[label]\n",
    "    X_test = test_data[columns_to_select]\n",
    "    return X_train, Y_train, X_test\n",
    "\n",
    "def preprocess(X_train, X_test):\n",
    "    columns_num = X_train.select_dtypes(include='number').columns\n",
    "    columns_cat = X_train.select_dtypes(include='O').columns\n",
    "\n",
    "    X_train[columns_num] = X_train[columns_num].fillna(X_train[columns_num].median())\n",
    "    X_train[columns_cat] = X_train[columns_cat].fillna(X_train[columns_cat].mode().loc[0])\n",
    "\n",
    "    X_test[columns_num] = X_test[columns_num].fillna(X_train[columns_num].median())\n",
    "    X_test[columns_cat] = X_test[columns_cat].fillna(X_train[columns_cat].mode().loc[0])\n",
    "\n",
    "    encoder_onehot = OneHotEncoder(dtype=int, sparse_output=False, handle_unknown='ignore')\n",
    "\n",
    "    train_data_onehot = encoder_onehot.fit_transform(X_train[columns_cat])\n",
    "    train_feature_name_onehot = encoder_onehot.get_feature_names_out()\n",
    "    train_data_onehot = pd.DataFrame(train_data_onehot, columns=train_feature_name_onehot)\n",
    "\n",
    "    test_data_onehot = encoder_onehot.transform(X_test[columns_cat])\n",
    "    test_data_onehot = pd.DataFrame(test_data_onehot, columns=train_feature_name_onehot)\n",
    "\n",
    "    X_train = pd.concat([X_train[columns_num], train_data_onehot], axis=1)\n",
    "    X_test = pd.concat([X_test[columns_num], test_data_onehot], axis=1)\n",
    "\n",
    "    return X_train, X_test\n",
    "\n",
    "def tuneParameters(models, tuning_parameters, X_train, Y_train, scoring, n_core):\n",
    "    model_names = [model.__class__.__name__ for model in models]\n",
    "    model_scores = []\n",
    "    model_params = []\n",
    "\n",
    "    cv = ShuffleSplit(random_state=0)\n",
    "\n",
    "    for model, params in zip(models, tuning_parameters):\n",
    "        model = clone(model)\n",
    "        tune_model = GridSearchCV(model, param_grid=params, scoring=scoring, cv=cv, n_jobs=n_core)\n",
    "        tune_model.fit(X_train, Y_train)\n",
    "        model_scores.append(-tune_model.best_score_)\n",
    "        model_params.append(tune_model.best_params_)\n",
    "    \n",
    "    tuning_results = pd.DataFrame(columns=['name', 'best_score', 'best_params'])\n",
    "    tuning_results['name'] = model_names\n",
    "    tuning_results['best_score'] = model_scores\n",
    "    tuning_results['best_params'] = model_params\n",
    "\n",
    "    return tuning_results\n",
    "\n",
    "def predict(model, X_train, Y_train, X_test, islog, id, label, file_name = 'result.csv'):\n",
    "    model = clone(model)\n",
    "    model.fit(X_train, Y_train)\n",
    "    predictions = model.predict(X_test)\n",
    "\n",
    "    result = pd.DataFrame({\n",
    "        id.name: id,\n",
    "        label: np.exp(predictions) if islog else predictions\n",
    "    })\n",
    "    result.to_csv('./Result/' + file_name, index=False)"
   ]
  },
  {
   "cell_type": "markdown",
   "metadata": {},
   "source": [
    "# Hyperparameters Tuning"
   ]
  },
  {
   "cell_type": "code",
   "execution_count": 7,
   "metadata": {},
   "outputs": [],
   "source": [
    "columns_to_drop = ['GarageArea', 'GarageYrBlt', 'GarageFinish', \n",
    "                   'GarageQual', 'GarageCond', 'BsmtCond', \n",
    "                   'BsmtFinType1', 'BsmtFinType2', 'Utilities',\n",
    "                   'Street', 'PoolQC', 'PoolArea',\n",
    "                   'YearBuilt', 'YearRemodAdd', 'FullBath', \n",
    "                   'BsmtFullBath', 'HalfBath', 'TotalBsmtSF',\n",
    "                   '1stFlrSF', 'GrLivArea']\n",
    "\n",
    "X_train, Y_train, X_test = prepareDataDrop(columns_to_drop, label, train_data_new, test_data_new, True)\n",
    "X_train, X_test = preprocess(X_train, X_test)"
   ]
  },
  {
   "cell_type": "markdown",
   "metadata": {},
   "source": [
    "## Random Forest Regressor"
   ]
  },
  {
   "cell_type": "code",
   "execution_count": 8,
   "metadata": {},
   "outputs": [
    {
     "data": {
      "text/html": [
       "<div>\n",
       "<style scoped>\n",
       "    .dataframe tbody tr th:only-of-type {\n",
       "        vertical-align: middle;\n",
       "    }\n",
       "\n",
       "    .dataframe tbody tr th {\n",
       "        vertical-align: top;\n",
       "    }\n",
       "\n",
       "    .dataframe thead th {\n",
       "        text-align: right;\n",
       "    }\n",
       "</style>\n",
       "<table border=\"1\" class=\"dataframe\">\n",
       "  <thead>\n",
       "    <tr style=\"text-align: right;\">\n",
       "      <th></th>\n",
       "      <th>name</th>\n",
       "      <th>best_score</th>\n",
       "      <th>best_params</th>\n",
       "    </tr>\n",
       "  </thead>\n",
       "  <tbody>\n",
       "    <tr>\n",
       "      <th>0</th>\n",
       "      <td>RandomForestRegressor</td>\n",
       "      <td>0.124681</td>\n",
       "      <td>{'max_features': 'sqrt', 'min_samples_split': 2, 'n_estimators': 1000}</td>\n",
       "    </tr>\n",
       "  </tbody>\n",
       "</table>\n",
       "</div>"
      ],
      "text/plain": [
       "                    name  best_score  \\\n",
       "0  RandomForestRegressor    0.124681   \n",
       "\n",
       "                                                              best_params  \n",
       "0  {'max_features': 'sqrt', 'min_samples_split': 2, 'n_estimators': 1000}  "
      ]
     },
     "execution_count": 8,
     "metadata": {},
     "output_type": "execute_result"
    }
   ],
   "source": [
    "tuning_parameters = {\n",
    "    'n_estimators': [50, 100, 300, 500, 1000],\n",
    "    'min_samples_split': [2, 4, 6, 8, 10],\n",
    "    'max_features': ['sqrt', 'log2', 1]\n",
    "}\n",
    "\n",
    "model = RandomForestRegressor(random_state=0, oob_score=True)\n",
    "\n",
    "tuneParameters([model], [tuning_parameters], X_train, Y_train, 'neg_root_mean_squared_error', n_core)"
   ]
  },
  {
   "cell_type": "markdown",
   "metadata": {},
   "source": [
    "## Lasso"
   ]
  },
  {
   "cell_type": "code",
   "execution_count": 9,
   "metadata": {},
   "outputs": [
    {
     "data": {
      "text/html": [
       "<div>\n",
       "<style scoped>\n",
       "    .dataframe tbody tr th:only-of-type {\n",
       "        vertical-align: middle;\n",
       "    }\n",
       "\n",
       "    .dataframe tbody tr th {\n",
       "        vertical-align: top;\n",
       "    }\n",
       "\n",
       "    .dataframe thead th {\n",
       "        text-align: right;\n",
       "    }\n",
       "</style>\n",
       "<table border=\"1\" class=\"dataframe\">\n",
       "  <thead>\n",
       "    <tr style=\"text-align: right;\">\n",
       "      <th></th>\n",
       "      <th>name</th>\n",
       "      <th>best_score</th>\n",
       "      <th>best_params</th>\n",
       "    </tr>\n",
       "  </thead>\n",
       "  <tbody>\n",
       "    <tr>\n",
       "      <th>0</th>\n",
       "      <td>Lasso</td>\n",
       "      <td>0.163342</td>\n",
       "      <td>{'alpha': 0.1}</td>\n",
       "    </tr>\n",
       "  </tbody>\n",
       "</table>\n",
       "</div>"
      ],
      "text/plain": [
       "    name  best_score     best_params\n",
       "0  Lasso    0.163342  {'alpha': 0.1}"
      ]
     },
     "execution_count": 9,
     "metadata": {},
     "output_type": "execute_result"
    }
   ],
   "source": [
    "tuning_parameters = {\n",
    "    'alpha': [0.1, 0.5, 1, 2, 5],\n",
    "}\n",
    "\n",
    "model = Lasso(max_iter=100000, random_state=0)\n",
    "\n",
    "tuneParameters([model], [tuning_parameters], X_train, Y_train, 'neg_root_mean_squared_error', n_core)"
   ]
  },
  {
   "cell_type": "markdown",
   "metadata": {},
   "source": [
    "## Ridge"
   ]
  },
  {
   "cell_type": "code",
   "execution_count": 10,
   "metadata": {},
   "outputs": [
    {
     "data": {
      "text/html": [
       "<div>\n",
       "<style scoped>\n",
       "    .dataframe tbody tr th:only-of-type {\n",
       "        vertical-align: middle;\n",
       "    }\n",
       "\n",
       "    .dataframe tbody tr th {\n",
       "        vertical-align: top;\n",
       "    }\n",
       "\n",
       "    .dataframe thead th {\n",
       "        text-align: right;\n",
       "    }\n",
       "</style>\n",
       "<table border=\"1\" class=\"dataframe\">\n",
       "  <thead>\n",
       "    <tr style=\"text-align: right;\">\n",
       "      <th></th>\n",
       "      <th>name</th>\n",
       "      <th>best_score</th>\n",
       "      <th>best_params</th>\n",
       "    </tr>\n",
       "  </thead>\n",
       "  <tbody>\n",
       "    <tr>\n",
       "      <th>0</th>\n",
       "      <td>Ridge</td>\n",
       "      <td>0.109439</td>\n",
       "      <td>{'alpha': 5}</td>\n",
       "    </tr>\n",
       "  </tbody>\n",
       "</table>\n",
       "</div>"
      ],
      "text/plain": [
       "    name  best_score   best_params\n",
       "0  Ridge    0.109439  {'alpha': 5}"
      ]
     },
     "execution_count": 10,
     "metadata": {},
     "output_type": "execute_result"
    }
   ],
   "source": [
    "tuning_parameters = {\n",
    "    'alpha': [0.1, 0.5, 1, 2, 5],\n",
    "}\n",
    "\n",
    "model = Ridge(max_iter=100000, random_state=0)\n",
    "\n",
    "tuneParameters([model], [tuning_parameters], X_train, Y_train, 'neg_root_mean_squared_error', n_core)"
   ]
  },
  {
   "cell_type": "markdown",
   "metadata": {},
   "source": [
    "## Decision Tree"
   ]
  },
  {
   "cell_type": "code",
   "execution_count": 11,
   "metadata": {},
   "outputs": [
    {
     "name": "stderr",
     "output_type": "stream",
     "text": [
      "c:\\Users\\knigh\\anaconda3\\envs\\ml2\\lib\\site-packages\\numpy\\ma\\core.py:2820: RuntimeWarning: invalid value encountered in cast\n",
      "  _data = np.array(data, dtype=dtype, copy=copy,\n"
     ]
    },
    {
     "data": {
      "text/html": [
       "<div>\n",
       "<style scoped>\n",
       "    .dataframe tbody tr th:only-of-type {\n",
       "        vertical-align: middle;\n",
       "    }\n",
       "\n",
       "    .dataframe tbody tr th {\n",
       "        vertical-align: top;\n",
       "    }\n",
       "\n",
       "    .dataframe thead th {\n",
       "        text-align: right;\n",
       "    }\n",
       "</style>\n",
       "<table border=\"1\" class=\"dataframe\">\n",
       "  <thead>\n",
       "    <tr style=\"text-align: right;\">\n",
       "      <th></th>\n",
       "      <th>name</th>\n",
       "      <th>best_score</th>\n",
       "      <th>best_params</th>\n",
       "    </tr>\n",
       "  </thead>\n",
       "  <tbody>\n",
       "    <tr>\n",
       "      <th>0</th>\n",
       "      <td>DecisionTreeRegressor</td>\n",
       "      <td>0.175553</td>\n",
       "      <td>{'max_depth': 8, 'max_features': None, 'min_samples_split': 10, 'splitter': 'best'}</td>\n",
       "    </tr>\n",
       "  </tbody>\n",
       "</table>\n",
       "</div>"
      ],
      "text/plain": [
       "                    name  best_score  \\\n",
       "0  DecisionTreeRegressor    0.175553   \n",
       "\n",
       "                                                                           best_params  \n",
       "0  {'max_depth': 8, 'max_features': None, 'min_samples_split': 10, 'splitter': 'best'}  "
      ]
     },
     "execution_count": 11,
     "metadata": {},
     "output_type": "execute_result"
    }
   ],
   "source": [
    "tuning_parameters = {\n",
    "    'splitter': ['best', 'random'],\n",
    "    'max_depth': [2, 4, 6, 8, 10],\n",
    "    'min_samples_split': [2, 4, 6, 8, 10],\n",
    "    'max_features': ['sqrt', 'log2', None]\n",
    "}\n",
    "\n",
    "model = DecisionTreeRegressor(random_state=0)\n",
    "\n",
    "tuneParameters([model], [tuning_parameters], X_train, Y_train, 'neg_root_mean_squared_error', n_core)"
   ]
  },
  {
   "cell_type": "markdown",
   "metadata": {},
   "source": [
    "## Gradient Boosting Regressor"
   ]
  },
  {
   "cell_type": "code",
   "execution_count": 12,
   "metadata": {},
   "outputs": [
    {
     "data": {
      "text/html": [
       "<div>\n",
       "<style scoped>\n",
       "    .dataframe tbody tr th:only-of-type {\n",
       "        vertical-align: middle;\n",
       "    }\n",
       "\n",
       "    .dataframe tbody tr th {\n",
       "        vertical-align: top;\n",
       "    }\n",
       "\n",
       "    .dataframe thead th {\n",
       "        text-align: right;\n",
       "    }\n",
       "</style>\n",
       "<table border=\"1\" class=\"dataframe\">\n",
       "  <thead>\n",
       "    <tr style=\"text-align: right;\">\n",
       "      <th></th>\n",
       "      <th>name</th>\n",
       "      <th>best_score</th>\n",
       "      <th>best_params</th>\n",
       "    </tr>\n",
       "  </thead>\n",
       "  <tbody>\n",
       "    <tr>\n",
       "      <th>0</th>\n",
       "      <td>GradientBoostingRegressor</td>\n",
       "      <td>0.115643</td>\n",
       "      <td>{'n_estimators': 500}</td>\n",
       "    </tr>\n",
       "  </tbody>\n",
       "</table>\n",
       "</div>"
      ],
      "text/plain": [
       "                        name  best_score            best_params\n",
       "0  GradientBoostingRegressor    0.115643  {'n_estimators': 500}"
      ]
     },
     "execution_count": 12,
     "metadata": {},
     "output_type": "execute_result"
    }
   ],
   "source": [
    "tuning_parameters = {\n",
    "    'n_estimators': [50, 100, 300, 500, 1000],\n",
    "}\n",
    "\n",
    "model = GradientBoostingRegressor(random_state=0)\n",
    "\n",
    "tuneParameters([model], [tuning_parameters], X_train, Y_train, 'neg_root_mean_squared_error', n_core)"
   ]
  },
  {
   "cell_type": "code",
   "execution_count": 13,
   "metadata": {},
   "outputs": [
    {
     "data": {
      "text/html": [
       "<div>\n",
       "<style scoped>\n",
       "    .dataframe tbody tr th:only-of-type {\n",
       "        vertical-align: middle;\n",
       "    }\n",
       "\n",
       "    .dataframe tbody tr th {\n",
       "        vertical-align: top;\n",
       "    }\n",
       "\n",
       "    .dataframe thead th {\n",
       "        text-align: right;\n",
       "    }\n",
       "</style>\n",
       "<table border=\"1\" class=\"dataframe\">\n",
       "  <thead>\n",
       "    <tr style=\"text-align: right;\">\n",
       "      <th></th>\n",
       "      <th>name</th>\n",
       "      <th>best_score</th>\n",
       "      <th>best_params</th>\n",
       "    </tr>\n",
       "  </thead>\n",
       "  <tbody>\n",
       "    <tr>\n",
       "      <th>0</th>\n",
       "      <td>GradientBoostingRegressor</td>\n",
       "      <td>0.115086</td>\n",
       "      <td>{'max_depth': 2, 'min_samples_split': 4, 'n_estimators': 500}</td>\n",
       "    </tr>\n",
       "  </tbody>\n",
       "</table>\n",
       "</div>"
      ],
      "text/plain": [
       "                        name  best_score  \\\n",
       "0  GradientBoostingRegressor    0.115086   \n",
       "\n",
       "                                                     best_params  \n",
       "0  {'max_depth': 2, 'min_samples_split': 4, 'n_estimators': 500}  "
      ]
     },
     "execution_count": 13,
     "metadata": {},
     "output_type": "execute_result"
    }
   ],
   "source": [
    "tuning_parameters = {\n",
    "    'n_estimators': [500],\n",
    "    'max_depth': [2, 4, 6, 8, 10],\n",
    "    'min_samples_split': [2, 4, 6, 8, 10],\n",
    "}\n",
    "\n",
    "model = GradientBoostingRegressor(random_state=0)\n",
    "\n",
    "tuneParameters([model], [tuning_parameters], X_train, Y_train, 'neg_root_mean_squared_error', n_core)"
   ]
  },
  {
   "cell_type": "code",
   "execution_count": 14,
   "metadata": {},
   "outputs": [
    {
     "data": {
      "text/html": [
       "<div>\n",
       "<style scoped>\n",
       "    .dataframe tbody tr th:only-of-type {\n",
       "        vertical-align: middle;\n",
       "    }\n",
       "\n",
       "    .dataframe tbody tr th {\n",
       "        vertical-align: top;\n",
       "    }\n",
       "\n",
       "    .dataframe thead th {\n",
       "        text-align: right;\n",
       "    }\n",
       "</style>\n",
       "<table border=\"1\" class=\"dataframe\">\n",
       "  <thead>\n",
       "    <tr style=\"text-align: right;\">\n",
       "      <th></th>\n",
       "      <th>name</th>\n",
       "      <th>best_score</th>\n",
       "      <th>best_params</th>\n",
       "    </tr>\n",
       "  </thead>\n",
       "  <tbody>\n",
       "    <tr>\n",
       "      <th>0</th>\n",
       "      <td>GradientBoostingRegressor</td>\n",
       "      <td>0.114108</td>\n",
       "      <td>{'max_depth': 2, 'max_features': 'sqrt', 'min_samples_split': 4, 'n_estimators': 500}</td>\n",
       "    </tr>\n",
       "  </tbody>\n",
       "</table>\n",
       "</div>"
      ],
      "text/plain": [
       "                        name  best_score  \\\n",
       "0  GradientBoostingRegressor    0.114108   \n",
       "\n",
       "                                                                             best_params  \n",
       "0  {'max_depth': 2, 'max_features': 'sqrt', 'min_samples_split': 4, 'n_estimators': 500}  "
      ]
     },
     "execution_count": 14,
     "metadata": {},
     "output_type": "execute_result"
    }
   ],
   "source": [
    "tuning_parameters = {\n",
    "    'n_estimators': [500],\n",
    "    'max_depth': [2],\n",
    "    'min_samples_split': [4],\n",
    "    'max_features': ['sqrt', 'log2', None]\n",
    "}\n",
    "\n",
    "model = GradientBoostingRegressor(random_state=0)\n",
    "\n",
    "tuneParameters([model], [tuning_parameters], X_train, Y_train, 'neg_root_mean_squared_error', n_core)"
   ]
  },
  {
   "cell_type": "code",
   "execution_count": 15,
   "metadata": {},
   "outputs": [
    {
     "data": {
      "text/html": [
       "<div>\n",
       "<style scoped>\n",
       "    .dataframe tbody tr th:only-of-type {\n",
       "        vertical-align: middle;\n",
       "    }\n",
       "\n",
       "    .dataframe tbody tr th {\n",
       "        vertical-align: top;\n",
       "    }\n",
       "\n",
       "    .dataframe thead th {\n",
       "        text-align: right;\n",
       "    }\n",
       "</style>\n",
       "<table border=\"1\" class=\"dataframe\">\n",
       "  <thead>\n",
       "    <tr style=\"text-align: right;\">\n",
       "      <th></th>\n",
       "      <th>name</th>\n",
       "      <th>best_score</th>\n",
       "      <th>best_params</th>\n",
       "    </tr>\n",
       "  </thead>\n",
       "  <tbody>\n",
       "    <tr>\n",
       "      <th>0</th>\n",
       "      <td>GradientBoostingRegressor</td>\n",
       "      <td>0.114108</td>\n",
       "      <td>{'learning_rate': 0.1, 'max_depth': 2, 'max_features': 'sqrt', 'min_samples_split': 4, 'n_estimators': 500}</td>\n",
       "    </tr>\n",
       "  </tbody>\n",
       "</table>\n",
       "</div>"
      ],
      "text/plain": [
       "                        name  best_score  \\\n",
       "0  GradientBoostingRegressor    0.114108   \n",
       "\n",
       "                                                                                                   best_params  \n",
       "0  {'learning_rate': 0.1, 'max_depth': 2, 'max_features': 'sqrt', 'min_samples_split': 4, 'n_estimators': 500}  "
      ]
     },
     "execution_count": 15,
     "metadata": {},
     "output_type": "execute_result"
    }
   ],
   "source": [
    "tuning_parameters = {\n",
    "    'n_estimators': [500],\n",
    "    'max_depth': [2],\n",
    "    'min_samples_split': [4],\n",
    "    'max_features': ['sqrt'],\n",
    "    'learning_rate': [0.01, 0.025, 0.5, 0.75, 0.1],\n",
    "}\n",
    "\n",
    "model = GradientBoostingRegressor(random_state=0)\n",
    "\n",
    "tuneParameters([model], [tuning_parameters], X_train, Y_train, 'neg_root_mean_squared_error', n_core)"
   ]
  },
  {
   "cell_type": "markdown",
   "metadata": {},
   "source": [
    "## XGBoost Regressor"
   ]
  },
  {
   "cell_type": "code",
   "execution_count": 16,
   "metadata": {},
   "outputs": [
    {
     "data": {
      "text/html": [
       "<div>\n",
       "<style scoped>\n",
       "    .dataframe tbody tr th:only-of-type {\n",
       "        vertical-align: middle;\n",
       "    }\n",
       "\n",
       "    .dataframe tbody tr th {\n",
       "        vertical-align: top;\n",
       "    }\n",
       "\n",
       "    .dataframe thead th {\n",
       "        text-align: right;\n",
       "    }\n",
       "</style>\n",
       "<table border=\"1\" class=\"dataframe\">\n",
       "  <thead>\n",
       "    <tr style=\"text-align: right;\">\n",
       "      <th></th>\n",
       "      <th>name</th>\n",
       "      <th>best_score</th>\n",
       "      <th>best_params</th>\n",
       "    </tr>\n",
       "  </thead>\n",
       "  <tbody>\n",
       "    <tr>\n",
       "      <th>0</th>\n",
       "      <td>XGBRegressor</td>\n",
       "      <td>0.130965</td>\n",
       "      <td>{'n_estimators': 50}</td>\n",
       "    </tr>\n",
       "  </tbody>\n",
       "</table>\n",
       "</div>"
      ],
      "text/plain": [
       "           name  best_score           best_params\n",
       "0  XGBRegressor    0.130965  {'n_estimators': 50}"
      ]
     },
     "execution_count": 16,
     "metadata": {},
     "output_type": "execute_result"
    }
   ],
   "source": [
    "tuning_parameters = {\n",
    "    'n_estimators': [50, 100, 300, 500, 1000],\n",
    "}\n",
    "\n",
    "model = XGBRegressor(seed=0)\n",
    "\n",
    "tuneParameters([model], [tuning_parameters], X_train, Y_train, 'neg_root_mean_squared_error', n_core)"
   ]
  },
  {
   "cell_type": "code",
   "execution_count": 17,
   "metadata": {},
   "outputs": [
    {
     "data": {
      "text/html": [
       "<div>\n",
       "<style scoped>\n",
       "    .dataframe tbody tr th:only-of-type {\n",
       "        vertical-align: middle;\n",
       "    }\n",
       "\n",
       "    .dataframe tbody tr th {\n",
       "        vertical-align: top;\n",
       "    }\n",
       "\n",
       "    .dataframe thead th {\n",
       "        text-align: right;\n",
       "    }\n",
       "</style>\n",
       "<table border=\"1\" class=\"dataframe\">\n",
       "  <thead>\n",
       "    <tr style=\"text-align: right;\">\n",
       "      <th></th>\n",
       "      <th>name</th>\n",
       "      <th>best_score</th>\n",
       "      <th>best_params</th>\n",
       "    </tr>\n",
       "  </thead>\n",
       "  <tbody>\n",
       "    <tr>\n",
       "      <th>0</th>\n",
       "      <td>XGBRegressor</td>\n",
       "      <td>0.121992</td>\n",
       "      <td>{'max_depth': 4, 'min_child_weight': 2, 'n_estimators': 50}</td>\n",
       "    </tr>\n",
       "  </tbody>\n",
       "</table>\n",
       "</div>"
      ],
      "text/plain": [
       "           name  best_score  \\\n",
       "0  XGBRegressor    0.121992   \n",
       "\n",
       "                                                   best_params  \n",
       "0  {'max_depth': 4, 'min_child_weight': 2, 'n_estimators': 50}  "
      ]
     },
     "execution_count": 17,
     "metadata": {},
     "output_type": "execute_result"
    }
   ],
   "source": [
    "tuning_parameters = {\n",
    "    'n_estimators': [50],\n",
    "    'max_depth': [2, 4, 6, 8, 10],\n",
    "    'min_child_weight': [2, 4, 6]\n",
    "}\n",
    "\n",
    "model = XGBRegressor(seed=0)\n",
    "\n",
    "tuneParameters([model], [tuning_parameters], X_train, Y_train, 'neg_root_mean_squared_error', n_core)"
   ]
  },
  {
   "cell_type": "code",
   "execution_count": 18,
   "metadata": {},
   "outputs": [
    {
     "data": {
      "text/html": [
       "<div>\n",
       "<style scoped>\n",
       "    .dataframe tbody tr th:only-of-type {\n",
       "        vertical-align: middle;\n",
       "    }\n",
       "\n",
       "    .dataframe tbody tr th {\n",
       "        vertical-align: top;\n",
       "    }\n",
       "\n",
       "    .dataframe thead th {\n",
       "        text-align: right;\n",
       "    }\n",
       "</style>\n",
       "<table border=\"1\" class=\"dataframe\">\n",
       "  <thead>\n",
       "    <tr style=\"text-align: right;\">\n",
       "      <th></th>\n",
       "      <th>name</th>\n",
       "      <th>best_score</th>\n",
       "      <th>best_params</th>\n",
       "    </tr>\n",
       "  </thead>\n",
       "  <tbody>\n",
       "    <tr>\n",
       "      <th>0</th>\n",
       "      <td>XGBRegressor</td>\n",
       "      <td>0.121459</td>\n",
       "      <td>{'gamma': 0.01, 'max_depth': 4, 'min_child_weight': 2, 'n_estimators': 50}</td>\n",
       "    </tr>\n",
       "  </tbody>\n",
       "</table>\n",
       "</div>"
      ],
      "text/plain": [
       "           name  best_score  \\\n",
       "0  XGBRegressor    0.121459   \n",
       "\n",
       "                                                                  best_params  \n",
       "0  {'gamma': 0.01, 'max_depth': 4, 'min_child_weight': 2, 'n_estimators': 50}  "
      ]
     },
     "execution_count": 18,
     "metadata": {},
     "output_type": "execute_result"
    }
   ],
   "source": [
    "tuning_parameters = {\n",
    "    'n_estimators': [50],\n",
    "    'max_depth': [4],\n",
    "    'min_child_weight': [2],\n",
    "    'gamma': [0, 0.01, 0.1,]\n",
    "}\n",
    "\n",
    "model = XGBRegressor(seed=0)\n",
    "\n",
    "tuneParameters([model], [tuning_parameters], X_train, Y_train, 'neg_root_mean_squared_error', n_core)"
   ]
  },
  {
   "cell_type": "code",
   "execution_count": 19,
   "metadata": {},
   "outputs": [
    {
     "data": {
      "text/html": [
       "<div>\n",
       "<style scoped>\n",
       "    .dataframe tbody tr th:only-of-type {\n",
       "        vertical-align: middle;\n",
       "    }\n",
       "\n",
       "    .dataframe tbody tr th {\n",
       "        vertical-align: top;\n",
       "    }\n",
       "\n",
       "    .dataframe thead th {\n",
       "        text-align: right;\n",
       "    }\n",
       "</style>\n",
       "<table border=\"1\" class=\"dataframe\">\n",
       "  <thead>\n",
       "    <tr style=\"text-align: right;\">\n",
       "      <th></th>\n",
       "      <th>name</th>\n",
       "      <th>best_score</th>\n",
       "      <th>best_params</th>\n",
       "    </tr>\n",
       "  </thead>\n",
       "  <tbody>\n",
       "    <tr>\n",
       "      <th>0</th>\n",
       "      <td>XGBRegressor</td>\n",
       "      <td>0.121104</td>\n",
       "      <td>{'colsample_bytree': 0.7, 'gamma': 0.01, 'max_depth': 4, 'min_child_weight': 2, 'n_estimators': 50, 'subsample': 0.8}</td>\n",
       "    </tr>\n",
       "  </tbody>\n",
       "</table>\n",
       "</div>"
      ],
      "text/plain": [
       "           name  best_score  \\\n",
       "0  XGBRegressor    0.121104   \n",
       "\n",
       "                                                                                                             best_params  \n",
       "0  {'colsample_bytree': 0.7, 'gamma': 0.01, 'max_depth': 4, 'min_child_weight': 2, 'n_estimators': 50, 'subsample': 0.8}  "
      ]
     },
     "execution_count": 19,
     "metadata": {},
     "output_type": "execute_result"
    }
   ],
   "source": [
    "tuning_parameters = {\n",
    "    'n_estimators': [50],\n",
    "    'max_depth': [4],\n",
    "    'min_child_weight': [2],\n",
    "    'gamma': [0.01],\n",
    "    'subsample':[i/10.0 for i in range(6,10)],\n",
    "    'colsample_bytree':[i/10.0 for i in range(6,10)]\n",
    "}\n",
    "\n",
    "model = XGBRegressor(seed=0)\n",
    "\n",
    "tuneParameters([model], [tuning_parameters], X_train, Y_train, 'neg_root_mean_squared_error', n_core)"
   ]
  },
  {
   "cell_type": "code",
   "execution_count": 20,
   "metadata": {},
   "outputs": [
    {
     "data": {
      "text/html": [
       "<div>\n",
       "<style scoped>\n",
       "    .dataframe tbody tr th:only-of-type {\n",
       "        vertical-align: middle;\n",
       "    }\n",
       "\n",
       "    .dataframe tbody tr th {\n",
       "        vertical-align: top;\n",
       "    }\n",
       "\n",
       "    .dataframe thead th {\n",
       "        text-align: right;\n",
       "    }\n",
       "</style>\n",
       "<table border=\"1\" class=\"dataframe\">\n",
       "  <thead>\n",
       "    <tr style=\"text-align: right;\">\n",
       "      <th></th>\n",
       "      <th>name</th>\n",
       "      <th>best_score</th>\n",
       "      <th>best_params</th>\n",
       "    </tr>\n",
       "  </thead>\n",
       "  <tbody>\n",
       "    <tr>\n",
       "      <th>0</th>\n",
       "      <td>XGBRegressor</td>\n",
       "      <td>0.120547</td>\n",
       "      <td>{'colsample_bytree': 0.7, 'gamma': 0.01, 'max_depth': 4, 'min_child_weight': 2, 'n_estimators': 50, 'reg_alpha': 0.1, 'subsample': 0.8}</td>\n",
       "    </tr>\n",
       "  </tbody>\n",
       "</table>\n",
       "</div>"
      ],
      "text/plain": [
       "           name  best_score  \\\n",
       "0  XGBRegressor    0.120547   \n",
       "\n",
       "                                                                                                                               best_params  \n",
       "0  {'colsample_bytree': 0.7, 'gamma': 0.01, 'max_depth': 4, 'min_child_weight': 2, 'n_estimators': 50, 'reg_alpha': 0.1, 'subsample': 0.8}  "
      ]
     },
     "execution_count": 20,
     "metadata": {},
     "output_type": "execute_result"
    }
   ],
   "source": [
    "tuning_parameters = {\n",
    "    'n_estimators': [50],\n",
    "    'max_depth': [4],\n",
    "    'min_child_weight': [2],\n",
    "    'gamma': [0.01],\n",
    "    'subsample':[0.8],\n",
    "    'colsample_bytree':[0.7],\n",
    "    'reg_alpha': [1e-5, 1e-2, 0.1, 1, 100]\n",
    "}\n",
    "\n",
    "model = XGBRegressor(seed=0)\n",
    "\n",
    "tuneParameters([model], [tuning_parameters], X_train, Y_train, 'neg_root_mean_squared_error', n_core)"
   ]
  },
  {
   "cell_type": "code",
   "execution_count": 21,
   "metadata": {},
   "outputs": [
    {
     "data": {
      "text/html": [
       "<div>\n",
       "<style scoped>\n",
       "    .dataframe tbody tr th:only-of-type {\n",
       "        vertical-align: middle;\n",
       "    }\n",
       "\n",
       "    .dataframe tbody tr th {\n",
       "        vertical-align: top;\n",
       "    }\n",
       "\n",
       "    .dataframe thead th {\n",
       "        text-align: right;\n",
       "    }\n",
       "</style>\n",
       "<table border=\"1\" class=\"dataframe\">\n",
       "  <thead>\n",
       "    <tr style=\"text-align: right;\">\n",
       "      <th></th>\n",
       "      <th>name</th>\n",
       "      <th>best_score</th>\n",
       "      <th>best_params</th>\n",
       "    </tr>\n",
       "  </thead>\n",
       "  <tbody>\n",
       "    <tr>\n",
       "      <th>0</th>\n",
       "      <td>XGBRegressor</td>\n",
       "      <td>0.119214</td>\n",
       "      <td>{'colsample_bytree': 0.7, 'gamma': 0.01, 'max_depth': 4, 'min_child_weight': 2, 'n_estimators': 50, 'reg_alpha': 0.1, 'reg_lambda': 0.1, 'subsample': 0.8}</td>\n",
       "    </tr>\n",
       "  </tbody>\n",
       "</table>\n",
       "</div>"
      ],
      "text/plain": [
       "           name  best_score  \\\n",
       "0  XGBRegressor    0.119214   \n",
       "\n",
       "                                                                                                                                                  best_params  \n",
       "0  {'colsample_bytree': 0.7, 'gamma': 0.01, 'max_depth': 4, 'min_child_weight': 2, 'n_estimators': 50, 'reg_alpha': 0.1, 'reg_lambda': 0.1, 'subsample': 0.8}  "
      ]
     },
     "execution_count": 21,
     "metadata": {},
     "output_type": "execute_result"
    }
   ],
   "source": [
    "tuning_parameters = {\n",
    "    'n_estimators': [50],\n",
    "    'max_depth': [4],\n",
    "    'min_child_weight': [2],\n",
    "    'gamma': [0.01],\n",
    "    'subsample':[0.8],\n",
    "    'colsample_bytree':[0.7],\n",
    "    'reg_alpha': [0.1],\n",
    "    'reg_lambda': [1e-5, 1e-2, 0.1, 1, 100]\n",
    "}\n",
    "\n",
    "model = XGBRegressor(seed=0)\n",
    "\n",
    "tuneParameters([model], [tuning_parameters], X_train, Y_train, 'neg_root_mean_squared_error', n_core)"
   ]
  },
  {
   "cell_type": "code",
   "execution_count": 22,
   "metadata": {},
   "outputs": [
    {
     "data": {
      "text/html": [
       "<div>\n",
       "<style scoped>\n",
       "    .dataframe tbody tr th:only-of-type {\n",
       "        vertical-align: middle;\n",
       "    }\n",
       "\n",
       "    .dataframe tbody tr th {\n",
       "        vertical-align: top;\n",
       "    }\n",
       "\n",
       "    .dataframe thead th {\n",
       "        text-align: right;\n",
       "    }\n",
       "</style>\n",
       "<table border=\"1\" class=\"dataframe\">\n",
       "  <thead>\n",
       "    <tr style=\"text-align: right;\">\n",
       "      <th></th>\n",
       "      <th>name</th>\n",
       "      <th>best_score</th>\n",
       "      <th>best_params</th>\n",
       "    </tr>\n",
       "  </thead>\n",
       "  <tbody>\n",
       "    <tr>\n",
       "      <th>0</th>\n",
       "      <td>XGBRegressor</td>\n",
       "      <td>0.11738</td>\n",
       "      <td>{'colsample_bytree': 0.7, 'eta': 0.2, 'gamma': 0.01, 'max_depth': 4, 'min_child_weight': 2, 'n_estimators': 50, 'reg_alpha': 0.1, 'reg_lambda': 0.1, 'subsample': 0.8}</td>\n",
       "    </tr>\n",
       "  </tbody>\n",
       "</table>\n",
       "</div>"
      ],
      "text/plain": [
       "           name  best_score  \\\n",
       "0  XGBRegressor     0.11738   \n",
       "\n",
       "                                                                                                                                                              best_params  \n",
       "0  {'colsample_bytree': 0.7, 'eta': 0.2, 'gamma': 0.01, 'max_depth': 4, 'min_child_weight': 2, 'n_estimators': 50, 'reg_alpha': 0.1, 'reg_lambda': 0.1, 'subsample': 0.8}  "
      ]
     },
     "execution_count": 22,
     "metadata": {},
     "output_type": "execute_result"
    }
   ],
   "source": [
    "tuning_parameters = {\n",
    "    'n_estimators': [50],\n",
    "    'max_depth': [4],\n",
    "    'min_child_weight': [2],\n",
    "    'gamma': [0.01],\n",
    "    'subsample':[0.8],\n",
    "    'colsample_bytree':[0.7],\n",
    "    'reg_alpha': [0.1],\n",
    "    'reg_lambda': [0.1],\n",
    "    'eta': [0.01, 0.05, 0.1, 0.2, 0.3]\n",
    "}\n",
    "\n",
    "model = XGBRegressor(seed=0)\n",
    "\n",
    "tuneParameters([model], [tuning_parameters], X_train, Y_train, 'neg_root_mean_squared_error', n_core)"
   ]
  },
  {
   "cell_type": "markdown",
   "metadata": {},
   "source": [
    "## Catboost Regressor"
   ]
  },
  {
   "cell_type": "code",
   "execution_count": 23,
   "metadata": {},
   "outputs": [
    {
     "data": {
      "text/html": [
       "<div>\n",
       "<style scoped>\n",
       "    .dataframe tbody tr th:only-of-type {\n",
       "        vertical-align: middle;\n",
       "    }\n",
       "\n",
       "    .dataframe tbody tr th {\n",
       "        vertical-align: top;\n",
       "    }\n",
       "\n",
       "    .dataframe thead th {\n",
       "        text-align: right;\n",
       "    }\n",
       "</style>\n",
       "<table border=\"1\" class=\"dataframe\">\n",
       "  <thead>\n",
       "    <tr style=\"text-align: right;\">\n",
       "      <th></th>\n",
       "      <th>name</th>\n",
       "      <th>best_score</th>\n",
       "      <th>best_params</th>\n",
       "    </tr>\n",
       "  </thead>\n",
       "  <tbody>\n",
       "    <tr>\n",
       "      <th>0</th>\n",
       "      <td>CatBoostRegressor</td>\n",
       "      <td>0.107283</td>\n",
       "      <td>{'iterations': 1000}</td>\n",
       "    </tr>\n",
       "  </tbody>\n",
       "</table>\n",
       "</div>"
      ],
      "text/plain": [
       "                name  best_score           best_params\n",
       "0  CatBoostRegressor    0.107283  {'iterations': 1000}"
      ]
     },
     "execution_count": 23,
     "metadata": {},
     "output_type": "execute_result"
    }
   ],
   "source": [
    "tuning_parameters = {\n",
    "    'iterations': [100, 300, 500, 1000],\n",
    "}\n",
    "\n",
    "model = CatBoostRegressor(random_state=0, verbose=0, allow_writing_files=False)\n",
    "\n",
    "tuneParameters([model], [tuning_parameters], X_train, Y_train, 'neg_root_mean_squared_error', n_core)"
   ]
  },
  {
   "cell_type": "code",
   "execution_count": 24,
   "metadata": {},
   "outputs": [
    {
     "data": {
      "text/html": [
       "<div>\n",
       "<style scoped>\n",
       "    .dataframe tbody tr th:only-of-type {\n",
       "        vertical-align: middle;\n",
       "    }\n",
       "\n",
       "    .dataframe tbody tr th {\n",
       "        vertical-align: top;\n",
       "    }\n",
       "\n",
       "    .dataframe thead th {\n",
       "        text-align: right;\n",
       "    }\n",
       "</style>\n",
       "<table border=\"1\" class=\"dataframe\">\n",
       "  <thead>\n",
       "    <tr style=\"text-align: right;\">\n",
       "      <th></th>\n",
       "      <th>name</th>\n",
       "      <th>best_score</th>\n",
       "      <th>best_params</th>\n",
       "    </tr>\n",
       "  </thead>\n",
       "  <tbody>\n",
       "    <tr>\n",
       "      <th>0</th>\n",
       "      <td>CatBoostRegressor</td>\n",
       "      <td>0.107283</td>\n",
       "      <td>{'depth': 6, 'iterations': 1000}</td>\n",
       "    </tr>\n",
       "  </tbody>\n",
       "</table>\n",
       "</div>"
      ],
      "text/plain": [
       "                name  best_score                       best_params\n",
       "0  CatBoostRegressor    0.107283  {'depth': 6, 'iterations': 1000}"
      ]
     },
     "execution_count": 24,
     "metadata": {},
     "output_type": "execute_result"
    }
   ],
   "source": [
    "tuning_parameters = {\n",
    "    'iterations': [1000],\n",
    "    'depth': [2, 4, 6, 8, 10]\n",
    "}\n",
    "\n",
    "model = CatBoostRegressor(random_state=0, verbose=0, allow_writing_files=False)\n",
    "\n",
    "tuneParameters([model], [tuning_parameters], X_train, Y_train, 'neg_root_mean_squared_error', n_core)"
   ]
  },
  {
   "cell_type": "code",
   "execution_count": 25,
   "metadata": {},
   "outputs": [
    {
     "data": {
      "text/html": [
       "<div>\n",
       "<style scoped>\n",
       "    .dataframe tbody tr th:only-of-type {\n",
       "        vertical-align: middle;\n",
       "    }\n",
       "\n",
       "    .dataframe tbody tr th {\n",
       "        vertical-align: top;\n",
       "    }\n",
       "\n",
       "    .dataframe thead th {\n",
       "        text-align: right;\n",
       "    }\n",
       "</style>\n",
       "<table border=\"1\" class=\"dataframe\">\n",
       "  <thead>\n",
       "    <tr style=\"text-align: right;\">\n",
       "      <th></th>\n",
       "      <th>name</th>\n",
       "      <th>best_score</th>\n",
       "      <th>best_params</th>\n",
       "    </tr>\n",
       "  </thead>\n",
       "  <tbody>\n",
       "    <tr>\n",
       "      <th>0</th>\n",
       "      <td>CatBoostRegressor</td>\n",
       "      <td>0.106976</td>\n",
       "      <td>{'depth': 6, 'iterations': 1000, 'l2_leaf_reg': 1e-05}</td>\n",
       "    </tr>\n",
       "  </tbody>\n",
       "</table>\n",
       "</div>"
      ],
      "text/plain": [
       "                name  best_score  \\\n",
       "0  CatBoostRegressor    0.106976   \n",
       "\n",
       "                                              best_params  \n",
       "0  {'depth': 6, 'iterations': 1000, 'l2_leaf_reg': 1e-05}  "
      ]
     },
     "execution_count": 25,
     "metadata": {},
     "output_type": "execute_result"
    }
   ],
   "source": [
    "tuning_parameters = {\n",
    "    'iterations': [1000],\n",
    "    'depth': [6],\n",
    "    'l2_leaf_reg': [1e-5, 1e-2, 0.1, 1, 100]\n",
    "}\n",
    "\n",
    "model = CatBoostRegressor(random_state=0, verbose=0, allow_writing_files=False)\n",
    "\n",
    "tuneParameters([model], [tuning_parameters], X_train, Y_train, 'neg_root_mean_squared_error', n_core)"
   ]
  },
  {
   "cell_type": "code",
   "execution_count": 26,
   "metadata": {},
   "outputs": [
    {
     "data": {
      "text/html": [
       "<div>\n",
       "<style scoped>\n",
       "    .dataframe tbody tr th:only-of-type {\n",
       "        vertical-align: middle;\n",
       "    }\n",
       "\n",
       "    .dataframe tbody tr th {\n",
       "        vertical-align: top;\n",
       "    }\n",
       "\n",
       "    .dataframe thead th {\n",
       "        text-align: right;\n",
       "    }\n",
       "</style>\n",
       "<table border=\"1\" class=\"dataframe\">\n",
       "  <thead>\n",
       "    <tr style=\"text-align: right;\">\n",
       "      <th></th>\n",
       "      <th>name</th>\n",
       "      <th>best_score</th>\n",
       "      <th>best_params</th>\n",
       "    </tr>\n",
       "  </thead>\n",
       "  <tbody>\n",
       "    <tr>\n",
       "      <th>0</th>\n",
       "      <td>CatBoostRegressor</td>\n",
       "      <td>0.106976</td>\n",
       "      <td>{'depth': 6, 'iterations': 1000, 'l2_leaf_reg': 1e-05, 'random_strength': 1}</td>\n",
       "    </tr>\n",
       "  </tbody>\n",
       "</table>\n",
       "</div>"
      ],
      "text/plain": [
       "                name  best_score  \\\n",
       "0  CatBoostRegressor    0.106976   \n",
       "\n",
       "                                                                    best_params  \n",
       "0  {'depth': 6, 'iterations': 1000, 'l2_leaf_reg': 1e-05, 'random_strength': 1}  "
      ]
     },
     "execution_count": 26,
     "metadata": {},
     "output_type": "execute_result"
    }
   ],
   "source": [
    "tuning_parameters = {\n",
    "    'iterations': [1000],\n",
    "    'depth': [6],\n",
    "    'l2_leaf_reg': [1e-5],\n",
    "    'random_strength': [0.1, 0.2, 0.5, 0.8, 1]\n",
    "}\n",
    "\n",
    "model = CatBoostRegressor(random_state=0, verbose=0, allow_writing_files=False)\n",
    "\n",
    "tuneParameters([model], [tuning_parameters], X_train, Y_train, 'neg_root_mean_squared_error', n_core)"
   ]
  },
  {
   "cell_type": "code",
   "execution_count": null,
   "metadata": {},
   "outputs": [],
   "source": [
    "tuning_parameters = {\n",
    "    'iterations': [1000],\n",
    "    'depth': [6],\n",
    "    'l2_leaf_reg': [1e-5],\n",
    "    'bagging_temperature': [0, 0.01, 1, 5, 10, 100]\n",
    "}\n",
    "\n",
    "model = CatBoostRegressor(random_state=0, verbose=0, allow_writing_files=False)\n",
    "\n",
    "tuneParameters([model], [tuning_parameters], X_train, Y_train, 'neg_root_mean_squared_error', n_core)"
   ]
  },
  {
   "cell_type": "code",
   "execution_count": 28,
   "metadata": {},
   "outputs": [
    {
     "data": {
      "text/html": [
       "<div>\n",
       "<style scoped>\n",
       "    .dataframe tbody tr th:only-of-type {\n",
       "        vertical-align: middle;\n",
       "    }\n",
       "\n",
       "    .dataframe tbody tr th {\n",
       "        vertical-align: top;\n",
       "    }\n",
       "\n",
       "    .dataframe thead th {\n",
       "        text-align: right;\n",
       "    }\n",
       "</style>\n",
       "<table border=\"1\" class=\"dataframe\">\n",
       "  <thead>\n",
       "    <tr style=\"text-align: right;\">\n",
       "      <th></th>\n",
       "      <th>name</th>\n",
       "      <th>best_score</th>\n",
       "      <th>best_params</th>\n",
       "    </tr>\n",
       "  </thead>\n",
       "  <tbody>\n",
       "    <tr>\n",
       "      <th>0</th>\n",
       "      <td>CatBoostRegressor</td>\n",
       "      <td>0.106976</td>\n",
       "      <td>{'bagging_temperature': 0, 'depth': 6, 'iterations': 1000, 'l2_leaf_reg': 1e-05}</td>\n",
       "    </tr>\n",
       "  </tbody>\n",
       "</table>\n",
       "</div>"
      ],
      "text/plain": [
       "                name  best_score  \\\n",
       "0  CatBoostRegressor    0.106976   \n",
       "\n",
       "                                                                        best_params  \n",
       "0  {'bagging_temperature': 0, 'depth': 6, 'iterations': 1000, 'l2_leaf_reg': 1e-05}  "
      ]
     },
     "execution_count": 28,
     "metadata": {},
     "output_type": "execute_result"
    }
   ],
   "source": [
    "tuning_parameters = {\n",
    "    'iterations': [1000],\n",
    "    'depth': [6],\n",
    "    'l2_leaf_reg': [1e-5],\n",
    "    'bagging_temperature': [0, 0.01, 0.05]\n",
    "}\n",
    "\n",
    "model = CatBoostRegressor(random_state=0, verbose=0, allow_writing_files=False)\n",
    "\n",
    "tuneParameters([model], [tuning_parameters], X_train, Y_train, 'neg_root_mean_squared_error', n_core)"
   ]
  },
  {
   "cell_type": "code",
   "execution_count": 30,
   "metadata": {},
   "outputs": [
    {
     "data": {
      "text/html": [
       "<div>\n",
       "<style scoped>\n",
       "    .dataframe tbody tr th:only-of-type {\n",
       "        vertical-align: middle;\n",
       "    }\n",
       "\n",
       "    .dataframe tbody tr th {\n",
       "        vertical-align: top;\n",
       "    }\n",
       "\n",
       "    .dataframe thead th {\n",
       "        text-align: right;\n",
       "    }\n",
       "</style>\n",
       "<table border=\"1\" class=\"dataframe\">\n",
       "  <thead>\n",
       "    <tr style=\"text-align: right;\">\n",
       "      <th></th>\n",
       "      <th>name</th>\n",
       "      <th>best_score</th>\n",
       "      <th>best_params</th>\n",
       "    </tr>\n",
       "  </thead>\n",
       "  <tbody>\n",
       "    <tr>\n",
       "      <th>0</th>\n",
       "      <td>CatBoostRegressor</td>\n",
       "      <td>0.106829</td>\n",
       "      <td>{'bagging_temperature': 0, 'depth': 6, 'grow_policy': 'Depthwise', 'iterations': 1000, 'l2_leaf_reg': 1e-05}</td>\n",
       "    </tr>\n",
       "  </tbody>\n",
       "</table>\n",
       "</div>"
      ],
      "text/plain": [
       "                name  best_score  \\\n",
       "0  CatBoostRegressor    0.106829   \n",
       "\n",
       "                                                                                                    best_params  \n",
       "0  {'bagging_temperature': 0, 'depth': 6, 'grow_policy': 'Depthwise', 'iterations': 1000, 'l2_leaf_reg': 1e-05}  "
      ]
     },
     "execution_count": 30,
     "metadata": {},
     "output_type": "execute_result"
    }
   ],
   "source": [
    "tuning_parameters = {\n",
    "    'iterations': [1000],\n",
    "    'depth': [6],\n",
    "    'l2_leaf_reg': [1e-5],\n",
    "    'bagging_temperature': [0],\n",
    "    'grow_policy': ['SymmetricTree', 'Depthwise', 'Lossguide']\n",
    "}\n",
    "\n",
    "model = CatBoostRegressor(random_state=0, verbose=0, allow_writing_files=False)\n",
    "\n",
    "tuneParameters([model], [tuning_parameters], X_train, Y_train, 'neg_root_mean_squared_error', n_core)"
   ]
  },
  {
   "cell_type": "code",
   "execution_count": 31,
   "metadata": {},
   "outputs": [
    {
     "data": {
      "text/html": [
       "<div>\n",
       "<style scoped>\n",
       "    .dataframe tbody tr th:only-of-type {\n",
       "        vertical-align: middle;\n",
       "    }\n",
       "\n",
       "    .dataframe tbody tr th {\n",
       "        vertical-align: top;\n",
       "    }\n",
       "\n",
       "    .dataframe thead th {\n",
       "        text-align: right;\n",
       "    }\n",
       "</style>\n",
       "<table border=\"1\" class=\"dataframe\">\n",
       "  <thead>\n",
       "    <tr style=\"text-align: right;\">\n",
       "      <th></th>\n",
       "      <th>name</th>\n",
       "      <th>best_score</th>\n",
       "      <th>best_params</th>\n",
       "    </tr>\n",
       "  </thead>\n",
       "  <tbody>\n",
       "    <tr>\n",
       "      <th>0</th>\n",
       "      <td>CatBoostRegressor</td>\n",
       "      <td>0.106127</td>\n",
       "      <td>{'bagging_temperature': 0, 'depth': 6, 'grow_policy': 'Depthwise', 'iterations': 1000, 'l2_leaf_reg': 1e-05, 'min_data_in_leaf': 10}</td>\n",
       "    </tr>\n",
       "  </tbody>\n",
       "</table>\n",
       "</div>"
      ],
      "text/plain": [
       "                name  best_score  \\\n",
       "0  CatBoostRegressor    0.106127   \n",
       "\n",
       "                                                                                                                            best_params  \n",
       "0  {'bagging_temperature': 0, 'depth': 6, 'grow_policy': 'Depthwise', 'iterations': 1000, 'l2_leaf_reg': 1e-05, 'min_data_in_leaf': 10}  "
      ]
     },
     "execution_count": 31,
     "metadata": {},
     "output_type": "execute_result"
    }
   ],
   "source": [
    "tuning_parameters = {\n",
    "    'iterations': [1000],\n",
    "    'depth': [6],\n",
    "    'l2_leaf_reg': [1e-5],\n",
    "    'bagging_temperature': [0],\n",
    "    'grow_policy': ['Depthwise'],\n",
    "    'min_data_in_leaf': [2, 4, 6, 8, 10]\n",
    "}\n",
    "\n",
    "model = CatBoostRegressor(random_state=0, verbose=0, allow_writing_files=False)\n",
    "\n",
    "tuneParameters([model], [tuning_parameters], X_train, Y_train, 'neg_root_mean_squared_error', n_core)"
   ]
  },
  {
   "cell_type": "markdown",
   "metadata": {},
   "source": [
    "## Voting"
   ]
  },
  {
   "cell_type": "code",
   "execution_count": 32,
   "metadata": {},
   "outputs": [],
   "source": [
    "models = [\n",
    "    ('Lasso', Lasso(alpha=0.1)),\n",
    "    ('Ridge', Ridge(alpha=5)),\n",
    "    ('DecisionTree', DecisionTreeRegressor(max_depth=8, min_samples_split=10)),\n",
    "    ('RandomForest', RandomForestRegressor(n_estimators=1000, min_samples_split=2, max_features='sqrt', random_state=0, oob_score=True)),\n",
    "    ('GradientBoost', GradientBoostingRegressor(learning_rate=0.1, max_depth=2, max_features='sqrt', min_samples_split=4, n_estimators=500)),\n",
    "    ('XGB', XGBRegressor(eta=0.2, n_estimators=50, max_depth=4, min_child_weight=2, gamma=0.01, subsample=0.8, colsample_bytree=0.7, reg_alpha=0.1, reg_lambda=0.1)),\n",
    "    ('CatBoost', CatBoostRegressor(iterations=1000, depth=6, l2_leaf_reg=1e-5, bagging_temperature=0, grow_policy='Depthwise', min_data_in_leaf=10, random_state=0, verbose=0, allow_writing_files=False))\n",
    "]\n",
    "\n",
    "model = VotingRegressor(models)\n",
    "predict(model, X_train, Y_train, X_test, True, id, label)"
   ]
  },
  {
   "cell_type": "markdown",
   "metadata": {},
   "source": [
    "# Improve by combining data"
   ]
  },
  {
   "cell_type": "code",
   "execution_count": 5,
   "metadata": {},
   "outputs": [
    {
     "name": "stdout",
     "output_type": "stream",
     "text": [
      "(2916, 93)\n",
      "(1457, 238) (1459, 238) (1457,)\n"
     ]
    }
   ],
   "source": [
    "all_data = pd.concat([train_data_new.drop('SalePrice', axis=1), test_data_new]).reset_index(drop=True)\n",
    "print(all_data.shape)\n",
    "\n",
    "columns_to_log = ['LotFrontage', 'LotArea', 'MasVnrArea', \n",
    "                  'BsmtFinSF1', 'BsmtFinSF2', 'BsmtUnfSF', \n",
    "                  'TotalBsmtSF', '1stFlrSF', '2ndFlrSF', \n",
    "                  'LowQualFinSF', 'GrLivArea', 'WoodDeckSF', \n",
    "                  'OpenPorchSF', 'EnclosedPorch', '3SsnPorch', \n",
    "                  'ScreenPorch', 'PoolArea', 'MiscVal']\n",
    "\n",
    "skews = all_data.select_dtypes(include='number').skew().sort_values(ascending=False)\n",
    "columns_to_skew = skews[columns_to_log][skews > 0.75].index\n",
    "\n",
    "all_data[columns_to_skew] = np.log1p(all_data[columns_to_skew])\n",
    "\n",
    "columns_to_drop = ['GarageArea', 'GarageYrBlt', 'GarageFinish', \n",
    "                   'GarageQual', 'GarageCond', 'BsmtCond', \n",
    "                   'BsmtFinType1', 'BsmtFinType2', 'Utilities',\n",
    "                   'Street', 'PoolQC', 'PoolArea',\n",
    "                   'YearBuilt', 'YearRemodAdd', 'FullBath', \n",
    "                   'BsmtFullBath', 'HalfBath', 'TotalBsmtSF',\n",
    "                   '1stFlrSF', 'GrLivArea']\n",
    "\n",
    "all_data = all_data.drop(columns_to_drop, axis=1)\n",
    "\n",
    "columns_num = all_data.select_dtypes(include='number').columns\n",
    "columns_cat = all_data.select_dtypes(include='O').columns\n",
    "\n",
    "all_data[columns_num] = all_data[columns_num].fillna(all_data[columns_num].median())\n",
    "all_data[columns_cat] = all_data[columns_cat].fillna(all_data[columns_cat].mode().loc[0])\n",
    "\n",
    "encoder_onehot = OneHotEncoder(dtype=int, sparse_output=False, handle_unknown='ignore')\n",
    "\n",
    "all_data_onehot = encoder_onehot.fit_transform(all_data[columns_cat])\n",
    "all_feature_name_onehot = encoder_onehot.get_feature_names_out()\n",
    "all_data_onehot = pd.DataFrame(all_data_onehot, columns=all_feature_name_onehot)\n",
    "\n",
    "all_data = pd.concat([all_data[columns_num], all_data_onehot], axis=1)\n",
    "\n",
    "X_train = all_data.iloc[:len(train_data_new)]\n",
    "X_test = all_data.iloc[len(train_data_new):]\n",
    "Y_train = np.log(train_data_new[label])\n",
    "\n",
    "print(X_train.shape, X_test.shape, Y_train.shape)"
   ]
  },
  {
   "cell_type": "code",
   "execution_count": 40,
   "metadata": {},
   "outputs": [
    {
     "data": {
      "text/html": [
       "<div>\n",
       "<style scoped>\n",
       "    .dataframe tbody tr th:only-of-type {\n",
       "        vertical-align: middle;\n",
       "    }\n",
       "\n",
       "    .dataframe tbody tr th {\n",
       "        vertical-align: top;\n",
       "    }\n",
       "\n",
       "    .dataframe thead th {\n",
       "        text-align: right;\n",
       "    }\n",
       "</style>\n",
       "<table border=\"1\" class=\"dataframe\">\n",
       "  <thead>\n",
       "    <tr style=\"text-align: right;\">\n",
       "      <th></th>\n",
       "      <th>name</th>\n",
       "      <th>best_score</th>\n",
       "      <th>best_params</th>\n",
       "    </tr>\n",
       "  </thead>\n",
       "  <tbody>\n",
       "    <tr>\n",
       "      <th>0</th>\n",
       "      <td>Lasso</td>\n",
       "      <td>0.163342</td>\n",
       "      <td>{'alpha': 0.1}</td>\n",
       "    </tr>\n",
       "  </tbody>\n",
       "</table>\n",
       "</div>"
      ],
      "text/plain": [
       "    name  best_score     best_params\n",
       "0  Lasso    0.163342  {'alpha': 0.1}"
      ]
     },
     "execution_count": 40,
     "metadata": {},
     "output_type": "execute_result"
    }
   ],
   "source": [
    "tuning_parameters = {\n",
    "    'alpha': [0.1, 0.5, 1, 2, 5],\n",
    "}\n",
    "\n",
    "model = Lasso(max_iter=100000, random_state=0)\n",
    "\n",
    "tuneParameters([model], [tuning_parameters], X_train, Y_train, 'neg_root_mean_squared_error', n_core)"
   ]
  },
  {
   "cell_type": "code",
   "execution_count": 41,
   "metadata": {},
   "outputs": [
    {
     "data": {
      "text/html": [
       "<div>\n",
       "<style scoped>\n",
       "    .dataframe tbody tr th:only-of-type {\n",
       "        vertical-align: middle;\n",
       "    }\n",
       "\n",
       "    .dataframe tbody tr th {\n",
       "        vertical-align: top;\n",
       "    }\n",
       "\n",
       "    .dataframe thead th {\n",
       "        text-align: right;\n",
       "    }\n",
       "</style>\n",
       "<table border=\"1\" class=\"dataframe\">\n",
       "  <thead>\n",
       "    <tr style=\"text-align: right;\">\n",
       "      <th></th>\n",
       "      <th>name</th>\n",
       "      <th>best_score</th>\n",
       "      <th>best_params</th>\n",
       "    </tr>\n",
       "  </thead>\n",
       "  <tbody>\n",
       "    <tr>\n",
       "      <th>0</th>\n",
       "      <td>Ridge</td>\n",
       "      <td>0.109374</td>\n",
       "      <td>{'alpha': 5}</td>\n",
       "    </tr>\n",
       "  </tbody>\n",
       "</table>\n",
       "</div>"
      ],
      "text/plain": [
       "    name  best_score   best_params\n",
       "0  Ridge    0.109374  {'alpha': 5}"
      ]
     },
     "execution_count": 41,
     "metadata": {},
     "output_type": "execute_result"
    }
   ],
   "source": [
    "tuning_parameters = {\n",
    "    'alpha': [0.1, 0.5, 1, 2, 5],\n",
    "}\n",
    "\n",
    "model = Ridge(max_iter=100000, random_state=0)\n",
    "\n",
    "tuneParameters([model], [tuning_parameters], X_train, Y_train, 'neg_root_mean_squared_error', n_core)"
   ]
  },
  {
   "cell_type": "code",
   "execution_count": 42,
   "metadata": {},
   "outputs": [
    {
     "name": "stderr",
     "output_type": "stream",
     "text": [
      "c:\\Users\\knigh\\anaconda3\\envs\\ml2\\lib\\site-packages\\numpy\\ma\\core.py:2820: RuntimeWarning: invalid value encountered in cast\n",
      "  _data = np.array(data, dtype=dtype, copy=copy,\n"
     ]
    },
    {
     "data": {
      "text/html": [
       "<div>\n",
       "<style scoped>\n",
       "    .dataframe tbody tr th:only-of-type {\n",
       "        vertical-align: middle;\n",
       "    }\n",
       "\n",
       "    .dataframe tbody tr th {\n",
       "        vertical-align: top;\n",
       "    }\n",
       "\n",
       "    .dataframe thead th {\n",
       "        text-align: right;\n",
       "    }\n",
       "</style>\n",
       "<table border=\"1\" class=\"dataframe\">\n",
       "  <thead>\n",
       "    <tr style=\"text-align: right;\">\n",
       "      <th></th>\n",
       "      <th>name</th>\n",
       "      <th>best_score</th>\n",
       "      <th>best_params</th>\n",
       "    </tr>\n",
       "  </thead>\n",
       "  <tbody>\n",
       "    <tr>\n",
       "      <th>0</th>\n",
       "      <td>DecisionTreeRegressor</td>\n",
       "      <td>0.173739</td>\n",
       "      <td>{'max_depth': 8, 'max_features': None, 'min_samples_split': 10, 'splitter': 'best'}</td>\n",
       "    </tr>\n",
       "  </tbody>\n",
       "</table>\n",
       "</div>"
      ],
      "text/plain": [
       "                    name  best_score  \\\n",
       "0  DecisionTreeRegressor    0.173739   \n",
       "\n",
       "                                                                           best_params  \n",
       "0  {'max_depth': 8, 'max_features': None, 'min_samples_split': 10, 'splitter': 'best'}  "
      ]
     },
     "execution_count": 42,
     "metadata": {},
     "output_type": "execute_result"
    }
   ],
   "source": [
    "tuning_parameters = {\n",
    "    'splitter': ['best', 'random'],\n",
    "    'max_depth': [2, 4, 6, 8, 10],\n",
    "    'min_samples_split': [2, 4, 6, 8, 10],\n",
    "    'max_features': ['sqrt', 'log2', None]\n",
    "}\n",
    "\n",
    "model = DecisionTreeRegressor(random_state=0)\n",
    "\n",
    "tuneParameters([model], [tuning_parameters], X_train, Y_train, 'neg_root_mean_squared_error', n_core)"
   ]
  },
  {
   "cell_type": "code",
   "execution_count": 43,
   "metadata": {},
   "outputs": [
    {
     "data": {
      "text/html": [
       "<div>\n",
       "<style scoped>\n",
       "    .dataframe tbody tr th:only-of-type {\n",
       "        vertical-align: middle;\n",
       "    }\n",
       "\n",
       "    .dataframe tbody tr th {\n",
       "        vertical-align: top;\n",
       "    }\n",
       "\n",
       "    .dataframe thead th {\n",
       "        text-align: right;\n",
       "    }\n",
       "</style>\n",
       "<table border=\"1\" class=\"dataframe\">\n",
       "  <thead>\n",
       "    <tr style=\"text-align: right;\">\n",
       "      <th></th>\n",
       "      <th>name</th>\n",
       "      <th>best_score</th>\n",
       "      <th>best_params</th>\n",
       "    </tr>\n",
       "  </thead>\n",
       "  <tbody>\n",
       "    <tr>\n",
       "      <th>0</th>\n",
       "      <td>RandomForestRegressor</td>\n",
       "      <td>0.124332</td>\n",
       "      <td>{'max_features': 'sqrt', 'min_samples_split': 2, 'n_estimators': 1000}</td>\n",
       "    </tr>\n",
       "  </tbody>\n",
       "</table>\n",
       "</div>"
      ],
      "text/plain": [
       "                    name  best_score  \\\n",
       "0  RandomForestRegressor    0.124332   \n",
       "\n",
       "                                                              best_params  \n",
       "0  {'max_features': 'sqrt', 'min_samples_split': 2, 'n_estimators': 1000}  "
      ]
     },
     "execution_count": 43,
     "metadata": {},
     "output_type": "execute_result"
    }
   ],
   "source": [
    "tuning_parameters = {\n",
    "    'n_estimators': [50, 100, 300, 500, 1000],\n",
    "    'min_samples_split': [2, 4, 6, 8, 10],\n",
    "    'max_features': ['sqrt', 'log2', 1]\n",
    "}\n",
    "\n",
    "model = RandomForestRegressor(random_state=0, oob_score=True)\n",
    "\n",
    "tuneParameters([model], [tuning_parameters], X_train, Y_train, 'neg_root_mean_squared_error', n_core)"
   ]
  },
  {
   "cell_type": "code",
   "execution_count": 44,
   "metadata": {},
   "outputs": [
    {
     "data": {
      "text/html": [
       "<div>\n",
       "<style scoped>\n",
       "    .dataframe tbody tr th:only-of-type {\n",
       "        vertical-align: middle;\n",
       "    }\n",
       "\n",
       "    .dataframe tbody tr th {\n",
       "        vertical-align: top;\n",
       "    }\n",
       "\n",
       "    .dataframe thead th {\n",
       "        text-align: right;\n",
       "    }\n",
       "</style>\n",
       "<table border=\"1\" class=\"dataframe\">\n",
       "  <thead>\n",
       "    <tr style=\"text-align: right;\">\n",
       "      <th></th>\n",
       "      <th>name</th>\n",
       "      <th>best_score</th>\n",
       "      <th>best_params</th>\n",
       "    </tr>\n",
       "  </thead>\n",
       "  <tbody>\n",
       "    <tr>\n",
       "      <th>0</th>\n",
       "      <td>GradientBoostingRegressor</td>\n",
       "      <td>0.114983</td>\n",
       "      <td>{'n_estimators': 1000}</td>\n",
       "    </tr>\n",
       "  </tbody>\n",
       "</table>\n",
       "</div>"
      ],
      "text/plain": [
       "                        name  best_score             best_params\n",
       "0  GradientBoostingRegressor    0.114983  {'n_estimators': 1000}"
      ]
     },
     "execution_count": 44,
     "metadata": {},
     "output_type": "execute_result"
    }
   ],
   "source": [
    "tuning_parameters = {\n",
    "    'n_estimators': [50, 100, 300, 500, 1000],\n",
    "}\n",
    "\n",
    "model = GradientBoostingRegressor(random_state=0)\n",
    "\n",
    "tuneParameters([model], [tuning_parameters], X_train, Y_train, 'neg_root_mean_squared_error', n_core)"
   ]
  },
  {
   "cell_type": "code",
   "execution_count": 45,
   "metadata": {},
   "outputs": [
    {
     "data": {
      "text/html": [
       "<div>\n",
       "<style scoped>\n",
       "    .dataframe tbody tr th:only-of-type {\n",
       "        vertical-align: middle;\n",
       "    }\n",
       "\n",
       "    .dataframe tbody tr th {\n",
       "        vertical-align: top;\n",
       "    }\n",
       "\n",
       "    .dataframe thead th {\n",
       "        text-align: right;\n",
       "    }\n",
       "</style>\n",
       "<table border=\"1\" class=\"dataframe\">\n",
       "  <thead>\n",
       "    <tr style=\"text-align: right;\">\n",
       "      <th></th>\n",
       "      <th>name</th>\n",
       "      <th>best_score</th>\n",
       "      <th>best_params</th>\n",
       "    </tr>\n",
       "  </thead>\n",
       "  <tbody>\n",
       "    <tr>\n",
       "      <th>0</th>\n",
       "      <td>GradientBoostingRegressor</td>\n",
       "      <td>0.114965</td>\n",
       "      <td>{'max_depth': 2, 'min_samples_split': 6, 'n_estimators': 1000}</td>\n",
       "    </tr>\n",
       "  </tbody>\n",
       "</table>\n",
       "</div>"
      ],
      "text/plain": [
       "                        name  best_score  \\\n",
       "0  GradientBoostingRegressor    0.114965   \n",
       "\n",
       "                                                      best_params  \n",
       "0  {'max_depth': 2, 'min_samples_split': 6, 'n_estimators': 1000}  "
      ]
     },
     "execution_count": 45,
     "metadata": {},
     "output_type": "execute_result"
    }
   ],
   "source": [
    "tuning_parameters = {\n",
    "    'n_estimators': [1000],\n",
    "    'max_depth': [2, 4, 6, 8, 10],\n",
    "    'min_samples_split': [2, 4, 6, 8, 10],\n",
    "}\n",
    "\n",
    "model = GradientBoostingRegressor(random_state=0)\n",
    "\n",
    "tuneParameters([model], [tuning_parameters], X_train, Y_train, 'neg_root_mean_squared_error', n_core)"
   ]
  },
  {
   "cell_type": "code",
   "execution_count": 46,
   "metadata": {},
   "outputs": [
    {
     "data": {
      "text/html": [
       "<div>\n",
       "<style scoped>\n",
       "    .dataframe tbody tr th:only-of-type {\n",
       "        vertical-align: middle;\n",
       "    }\n",
       "\n",
       "    .dataframe tbody tr th {\n",
       "        vertical-align: top;\n",
       "    }\n",
       "\n",
       "    .dataframe thead th {\n",
       "        text-align: right;\n",
       "    }\n",
       "</style>\n",
       "<table border=\"1\" class=\"dataframe\">\n",
       "  <thead>\n",
       "    <tr style=\"text-align: right;\">\n",
       "      <th></th>\n",
       "      <th>name</th>\n",
       "      <th>best_score</th>\n",
       "      <th>best_params</th>\n",
       "    </tr>\n",
       "  </thead>\n",
       "  <tbody>\n",
       "    <tr>\n",
       "      <th>0</th>\n",
       "      <td>GradientBoostingRegressor</td>\n",
       "      <td>0.114787</td>\n",
       "      <td>{'max_depth': 2, 'max_features': 'sqrt', 'min_samples_split': 6, 'n_estimators': 1000}</td>\n",
       "    </tr>\n",
       "  </tbody>\n",
       "</table>\n",
       "</div>"
      ],
      "text/plain": [
       "                        name  best_score  \\\n",
       "0  GradientBoostingRegressor    0.114787   \n",
       "\n",
       "                                                                              best_params  \n",
       "0  {'max_depth': 2, 'max_features': 'sqrt', 'min_samples_split': 6, 'n_estimators': 1000}  "
      ]
     },
     "execution_count": 46,
     "metadata": {},
     "output_type": "execute_result"
    }
   ],
   "source": [
    "tuning_parameters = {\n",
    "    'n_estimators': [1000],\n",
    "    'max_depth': [2],\n",
    "    'min_samples_split': [6],\n",
    "    'max_features': ['sqrt', 'log2', None]\n",
    "}\n",
    "\n",
    "model = GradientBoostingRegressor(random_state=0)\n",
    "\n",
    "tuneParameters([model], [tuning_parameters], X_train, Y_train, 'neg_root_mean_squared_error', n_core)"
   ]
  },
  {
   "cell_type": "code",
   "execution_count": 47,
   "metadata": {},
   "outputs": [
    {
     "data": {
      "text/html": [
       "<div>\n",
       "<style scoped>\n",
       "    .dataframe tbody tr th:only-of-type {\n",
       "        vertical-align: middle;\n",
       "    }\n",
       "\n",
       "    .dataframe tbody tr th {\n",
       "        vertical-align: top;\n",
       "    }\n",
       "\n",
       "    .dataframe thead th {\n",
       "        text-align: right;\n",
       "    }\n",
       "</style>\n",
       "<table border=\"1\" class=\"dataframe\">\n",
       "  <thead>\n",
       "    <tr style=\"text-align: right;\">\n",
       "      <th></th>\n",
       "      <th>name</th>\n",
       "      <th>best_score</th>\n",
       "      <th>best_params</th>\n",
       "    </tr>\n",
       "  </thead>\n",
       "  <tbody>\n",
       "    <tr>\n",
       "      <th>0</th>\n",
       "      <td>GradientBoostingRegressor</td>\n",
       "      <td>0.11333</td>\n",
       "      <td>{'learning_rate': 0.025, 'max_depth': 2, 'max_features': 'sqrt', 'min_samples_split': 6, 'n_estimators': 1000}</td>\n",
       "    </tr>\n",
       "  </tbody>\n",
       "</table>\n",
       "</div>"
      ],
      "text/plain": [
       "                        name  best_score  \\\n",
       "0  GradientBoostingRegressor     0.11333   \n",
       "\n",
       "                                                                                                      best_params  \n",
       "0  {'learning_rate': 0.025, 'max_depth': 2, 'max_features': 'sqrt', 'min_samples_split': 6, 'n_estimators': 1000}  "
      ]
     },
     "execution_count": 47,
     "metadata": {},
     "output_type": "execute_result"
    }
   ],
   "source": [
    "tuning_parameters = {\n",
    "    'n_estimators': [1000],\n",
    "    'max_depth': [2],\n",
    "    'min_samples_split': [6],\n",
    "    'max_features': ['sqrt'],\n",
    "    'learning_rate': [0.01, 0.025, 0.5, 0.75, 0.1],\n",
    "}\n",
    "\n",
    "model = GradientBoostingRegressor(random_state=0)\n",
    "\n",
    "tuneParameters([model], [tuning_parameters], X_train, Y_train, 'neg_root_mean_squared_error', n_core)"
   ]
  },
  {
   "cell_type": "code",
   "execution_count": 48,
   "metadata": {},
   "outputs": [
    {
     "data": {
      "text/html": [
       "<div>\n",
       "<style scoped>\n",
       "    .dataframe tbody tr th:only-of-type {\n",
       "        vertical-align: middle;\n",
       "    }\n",
       "\n",
       "    .dataframe tbody tr th {\n",
       "        vertical-align: top;\n",
       "    }\n",
       "\n",
       "    .dataframe thead th {\n",
       "        text-align: right;\n",
       "    }\n",
       "</style>\n",
       "<table border=\"1\" class=\"dataframe\">\n",
       "  <thead>\n",
       "    <tr style=\"text-align: right;\">\n",
       "      <th></th>\n",
       "      <th>name</th>\n",
       "      <th>best_score</th>\n",
       "      <th>best_params</th>\n",
       "    </tr>\n",
       "  </thead>\n",
       "  <tbody>\n",
       "    <tr>\n",
       "      <th>0</th>\n",
       "      <td>XGBRegressor</td>\n",
       "      <td>0.131283</td>\n",
       "      <td>{'n_estimators': 100}</td>\n",
       "    </tr>\n",
       "  </tbody>\n",
       "</table>\n",
       "</div>"
      ],
      "text/plain": [
       "           name  best_score            best_params\n",
       "0  XGBRegressor    0.131283  {'n_estimators': 100}"
      ]
     },
     "execution_count": 48,
     "metadata": {},
     "output_type": "execute_result"
    }
   ],
   "source": [
    "tuning_parameters = {\n",
    "    'n_estimators': [50, 100, 300, 500, 1000],\n",
    "}\n",
    "\n",
    "model = XGBRegressor(seed=0)\n",
    "\n",
    "tuneParameters([model], [tuning_parameters], X_train, Y_train, 'neg_root_mean_squared_error', n_core)"
   ]
  },
  {
   "cell_type": "code",
   "execution_count": 49,
   "metadata": {},
   "outputs": [
    {
     "data": {
      "text/html": [
       "<div>\n",
       "<style scoped>\n",
       "    .dataframe tbody tr th:only-of-type {\n",
       "        vertical-align: middle;\n",
       "    }\n",
       "\n",
       "    .dataframe tbody tr th {\n",
       "        vertical-align: top;\n",
       "    }\n",
       "\n",
       "    .dataframe thead th {\n",
       "        text-align: right;\n",
       "    }\n",
       "</style>\n",
       "<table border=\"1\" class=\"dataframe\">\n",
       "  <thead>\n",
       "    <tr style=\"text-align: right;\">\n",
       "      <th></th>\n",
       "      <th>name</th>\n",
       "      <th>best_score</th>\n",
       "      <th>best_params</th>\n",
       "    </tr>\n",
       "  </thead>\n",
       "  <tbody>\n",
       "    <tr>\n",
       "      <th>0</th>\n",
       "      <td>XGBRegressor</td>\n",
       "      <td>0.122583</td>\n",
       "      <td>{'max_depth': 4, 'min_child_weight': 2, 'n_estimators': 100}</td>\n",
       "    </tr>\n",
       "  </tbody>\n",
       "</table>\n",
       "</div>"
      ],
      "text/plain": [
       "           name  best_score  \\\n",
       "0  XGBRegressor    0.122583   \n",
       "\n",
       "                                                    best_params  \n",
       "0  {'max_depth': 4, 'min_child_weight': 2, 'n_estimators': 100}  "
      ]
     },
     "execution_count": 49,
     "metadata": {},
     "output_type": "execute_result"
    }
   ],
   "source": [
    "tuning_parameters = {\n",
    "    'n_estimators': [100],\n",
    "    'max_depth': [2, 4, 6, 8, 10],\n",
    "    'min_child_weight': [2, 4, 6]\n",
    "}\n",
    "\n",
    "model = XGBRegressor(seed=0)\n",
    "\n",
    "tuneParameters([model], [tuning_parameters], X_train, Y_train, 'neg_root_mean_squared_error', n_core)"
   ]
  },
  {
   "cell_type": "code",
   "execution_count": 51,
   "metadata": {},
   "outputs": [
    {
     "data": {
      "text/html": [
       "<div>\n",
       "<style scoped>\n",
       "    .dataframe tbody tr th:only-of-type {\n",
       "        vertical-align: middle;\n",
       "    }\n",
       "\n",
       "    .dataframe tbody tr th {\n",
       "        vertical-align: top;\n",
       "    }\n",
       "\n",
       "    .dataframe thead th {\n",
       "        text-align: right;\n",
       "    }\n",
       "</style>\n",
       "<table border=\"1\" class=\"dataframe\">\n",
       "  <thead>\n",
       "    <tr style=\"text-align: right;\">\n",
       "      <th></th>\n",
       "      <th>name</th>\n",
       "      <th>best_score</th>\n",
       "      <th>best_params</th>\n",
       "    </tr>\n",
       "  </thead>\n",
       "  <tbody>\n",
       "    <tr>\n",
       "      <th>0</th>\n",
       "      <td>XGBRegressor</td>\n",
       "      <td>0.122583</td>\n",
       "      <td>{'gamma': 0, 'max_depth': 4, 'min_child_weight': 2, 'n_estimators': 100}</td>\n",
       "    </tr>\n",
       "  </tbody>\n",
       "</table>\n",
       "</div>"
      ],
      "text/plain": [
       "           name  best_score  \\\n",
       "0  XGBRegressor    0.122583   \n",
       "\n",
       "                                                                best_params  \n",
       "0  {'gamma': 0, 'max_depth': 4, 'min_child_weight': 2, 'n_estimators': 100}  "
      ]
     },
     "execution_count": 51,
     "metadata": {},
     "output_type": "execute_result"
    }
   ],
   "source": [
    "tuning_parameters = {\n",
    "    'n_estimators': [100],\n",
    "    'max_depth': [4],\n",
    "    'min_child_weight': [2],\n",
    "    'gamma': [0, 0.01, 0.1,]\n",
    "}\n",
    "\n",
    "model = XGBRegressor(seed=0)\n",
    "\n",
    "tuneParameters([model], [tuning_parameters], X_train, Y_train, 'neg_root_mean_squared_error', n_core)"
   ]
  },
  {
   "cell_type": "code",
   "execution_count": 52,
   "metadata": {},
   "outputs": [
    {
     "data": {
      "text/html": [
       "<div>\n",
       "<style scoped>\n",
       "    .dataframe tbody tr th:only-of-type {\n",
       "        vertical-align: middle;\n",
       "    }\n",
       "\n",
       "    .dataframe tbody tr th {\n",
       "        vertical-align: top;\n",
       "    }\n",
       "\n",
       "    .dataframe thead th {\n",
       "        text-align: right;\n",
       "    }\n",
       "</style>\n",
       "<table border=\"1\" class=\"dataframe\">\n",
       "  <thead>\n",
       "    <tr style=\"text-align: right;\">\n",
       "      <th></th>\n",
       "      <th>name</th>\n",
       "      <th>best_score</th>\n",
       "      <th>best_params</th>\n",
       "    </tr>\n",
       "  </thead>\n",
       "  <tbody>\n",
       "    <tr>\n",
       "      <th>0</th>\n",
       "      <td>XGBRegressor</td>\n",
       "      <td>0.121214</td>\n",
       "      <td>{'colsample_bytree': 0.6, 'gamma': 0, 'max_depth': 4, 'min_child_weight': 2, 'n_estimators': 100, 'subsample': 0.8}</td>\n",
       "    </tr>\n",
       "  </tbody>\n",
       "</table>\n",
       "</div>"
      ],
      "text/plain": [
       "           name  best_score  \\\n",
       "0  XGBRegressor    0.121214   \n",
       "\n",
       "                                                                                                           best_params  \n",
       "0  {'colsample_bytree': 0.6, 'gamma': 0, 'max_depth': 4, 'min_child_weight': 2, 'n_estimators': 100, 'subsample': 0.8}  "
      ]
     },
     "execution_count": 52,
     "metadata": {},
     "output_type": "execute_result"
    }
   ],
   "source": [
    "tuning_parameters = {\n",
    "    'n_estimators': [100],\n",
    "    'max_depth': [4],\n",
    "    'min_child_weight': [2],\n",
    "    'gamma': [0],\n",
    "    'subsample':[i/10.0 for i in range(6,10)],\n",
    "    'colsample_bytree':[i/10.0 for i in range(6,10)]\n",
    "}\n",
    "\n",
    "model = XGBRegressor(seed=0)\n",
    "\n",
    "tuneParameters([model], [tuning_parameters], X_train, Y_train, 'neg_root_mean_squared_error', n_core)"
   ]
  },
  {
   "cell_type": "code",
   "execution_count": 53,
   "metadata": {},
   "outputs": [
    {
     "data": {
      "text/html": [
       "<div>\n",
       "<style scoped>\n",
       "    .dataframe tbody tr th:only-of-type {\n",
       "        vertical-align: middle;\n",
       "    }\n",
       "\n",
       "    .dataframe tbody tr th {\n",
       "        vertical-align: top;\n",
       "    }\n",
       "\n",
       "    .dataframe thead th {\n",
       "        text-align: right;\n",
       "    }\n",
       "</style>\n",
       "<table border=\"1\" class=\"dataframe\">\n",
       "  <thead>\n",
       "    <tr style=\"text-align: right;\">\n",
       "      <th></th>\n",
       "      <th>name</th>\n",
       "      <th>best_score</th>\n",
       "      <th>best_params</th>\n",
       "    </tr>\n",
       "  </thead>\n",
       "  <tbody>\n",
       "    <tr>\n",
       "      <th>0</th>\n",
       "      <td>XGBRegressor</td>\n",
       "      <td>0.121214</td>\n",
       "      <td>{'colsample_bytree': 0.6, 'gamma': 0, 'max_depth': 4, 'min_child_weight': 2, 'n_estimators': 100, 'reg_alpha': 1e-05, 'subsample': 0.8}</td>\n",
       "    </tr>\n",
       "  </tbody>\n",
       "</table>\n",
       "</div>"
      ],
      "text/plain": [
       "           name  best_score  \\\n",
       "0  XGBRegressor    0.121214   \n",
       "\n",
       "                                                                                                                               best_params  \n",
       "0  {'colsample_bytree': 0.6, 'gamma': 0, 'max_depth': 4, 'min_child_weight': 2, 'n_estimators': 100, 'reg_alpha': 1e-05, 'subsample': 0.8}  "
      ]
     },
     "execution_count": 53,
     "metadata": {},
     "output_type": "execute_result"
    }
   ],
   "source": [
    "tuning_parameters = {\n",
    "    'n_estimators': [100],\n",
    "    'max_depth': [4],\n",
    "    'min_child_weight': [2],\n",
    "    'gamma': [0],\n",
    "    'subsample':[0.8],\n",
    "    'colsample_bytree':[0.6],\n",
    "    'reg_alpha': [1e-5, 1e-2, 0.1, 1, 100]\n",
    "}\n",
    "\n",
    "model = XGBRegressor(seed=0)\n",
    "\n",
    "tuneParameters([model], [tuning_parameters], X_train, Y_train, 'neg_root_mean_squared_error', n_core)"
   ]
  },
  {
   "cell_type": "code",
   "execution_count": 54,
   "metadata": {},
   "outputs": [
    {
     "data": {
      "text/html": [
       "<div>\n",
       "<style scoped>\n",
       "    .dataframe tbody tr th:only-of-type {\n",
       "        vertical-align: middle;\n",
       "    }\n",
       "\n",
       "    .dataframe tbody tr th {\n",
       "        vertical-align: top;\n",
       "    }\n",
       "\n",
       "    .dataframe thead th {\n",
       "        text-align: right;\n",
       "    }\n",
       "</style>\n",
       "<table border=\"1\" class=\"dataframe\">\n",
       "  <thead>\n",
       "    <tr style=\"text-align: right;\">\n",
       "      <th></th>\n",
       "      <th>name</th>\n",
       "      <th>best_score</th>\n",
       "      <th>best_params</th>\n",
       "    </tr>\n",
       "  </thead>\n",
       "  <tbody>\n",
       "    <tr>\n",
       "      <th>0</th>\n",
       "      <td>XGBRegressor</td>\n",
       "      <td>0.12043</td>\n",
       "      <td>{'colsample_bytree': 0.6, 'gamma': 0, 'max_depth': 4, 'min_child_weight': 2, 'n_estimators': 100, 'reg_alpha': 1e-05, 'reg_lambda': 100, 'subsample': 0.8}</td>\n",
       "    </tr>\n",
       "  </tbody>\n",
       "</table>\n",
       "</div>"
      ],
      "text/plain": [
       "           name  best_score  \\\n",
       "0  XGBRegressor     0.12043   \n",
       "\n",
       "                                                                                                                                                  best_params  \n",
       "0  {'colsample_bytree': 0.6, 'gamma': 0, 'max_depth': 4, 'min_child_weight': 2, 'n_estimators': 100, 'reg_alpha': 1e-05, 'reg_lambda': 100, 'subsample': 0.8}  "
      ]
     },
     "execution_count": 54,
     "metadata": {},
     "output_type": "execute_result"
    }
   ],
   "source": [
    "tuning_parameters = {\n",
    "    'n_estimators': [100],\n",
    "    'max_depth': [4],\n",
    "    'min_child_weight': [2],\n",
    "    'gamma': [0],\n",
    "    'subsample':[0.8],\n",
    "    'colsample_bytree':[0.6],\n",
    "    'reg_alpha': [1e-5],\n",
    "    'reg_lambda': [1e-5, 1e-2, 0.1, 1, 100]\n",
    "}\n",
    "\n",
    "model = XGBRegressor(seed=0)\n",
    "\n",
    "tuneParameters([model], [tuning_parameters], X_train, Y_train, 'neg_root_mean_squared_error', n_core)"
   ]
  },
  {
   "cell_type": "code",
   "execution_count": 55,
   "metadata": {},
   "outputs": [
    {
     "data": {
      "text/html": [
       "<div>\n",
       "<style scoped>\n",
       "    .dataframe tbody tr th:only-of-type {\n",
       "        vertical-align: middle;\n",
       "    }\n",
       "\n",
       "    .dataframe tbody tr th {\n",
       "        vertical-align: top;\n",
       "    }\n",
       "\n",
       "    .dataframe thead th {\n",
       "        text-align: right;\n",
       "    }\n",
       "</style>\n",
       "<table border=\"1\" class=\"dataframe\">\n",
       "  <thead>\n",
       "    <tr style=\"text-align: right;\">\n",
       "      <th></th>\n",
       "      <th>name</th>\n",
       "      <th>best_score</th>\n",
       "      <th>best_params</th>\n",
       "    </tr>\n",
       "  </thead>\n",
       "  <tbody>\n",
       "    <tr>\n",
       "      <th>0</th>\n",
       "      <td>XGBRegressor</td>\n",
       "      <td>0.119494</td>\n",
       "      <td>{'colsample_bytree': 0.6, 'eta': 0.2, 'gamma': 0, 'max_depth': 4, 'min_child_weight': 2, 'n_estimators': 100, 'reg_alpha': 1e-05, 'reg_lambda': 100, 'subsample': 0.8}</td>\n",
       "    </tr>\n",
       "  </tbody>\n",
       "</table>\n",
       "</div>"
      ],
      "text/plain": [
       "           name  best_score  \\\n",
       "0  XGBRegressor    0.119494   \n",
       "\n",
       "                                                                                                                                                              best_params  \n",
       "0  {'colsample_bytree': 0.6, 'eta': 0.2, 'gamma': 0, 'max_depth': 4, 'min_child_weight': 2, 'n_estimators': 100, 'reg_alpha': 1e-05, 'reg_lambda': 100, 'subsample': 0.8}  "
      ]
     },
     "execution_count": 55,
     "metadata": {},
     "output_type": "execute_result"
    }
   ],
   "source": [
    "tuning_parameters = {\n",
    "    'n_estimators': [100],\n",
    "    'max_depth': [4],\n",
    "    'min_child_weight': [2],\n",
    "    'gamma': [0],\n",
    "    'subsample':[0.8],\n",
    "    'colsample_bytree':[0.6],\n",
    "    'reg_alpha': [1e-5],\n",
    "    'reg_lambda': [100],\n",
    "    'eta': [0.01, 0.05, 0.1, 0.2, 0.3]\n",
    "}\n",
    "\n",
    "model = XGBRegressor(seed=0)\n",
    "\n",
    "tuneParameters([model], [tuning_parameters], X_train, Y_train, 'neg_root_mean_squared_error', n_core)"
   ]
  },
  {
   "cell_type": "code",
   "execution_count": 8,
   "metadata": {},
   "outputs": [
    {
     "data": {
      "text/html": [
       "<div>\n",
       "<style scoped>\n",
       "    .dataframe tbody tr th:only-of-type {\n",
       "        vertical-align: middle;\n",
       "    }\n",
       "\n",
       "    .dataframe tbody tr th {\n",
       "        vertical-align: top;\n",
       "    }\n",
       "\n",
       "    .dataframe thead th {\n",
       "        text-align: right;\n",
       "    }\n",
       "</style>\n",
       "<table border=\"1\" class=\"dataframe\">\n",
       "  <thead>\n",
       "    <tr style=\"text-align: right;\">\n",
       "      <th></th>\n",
       "      <th>name</th>\n",
       "      <th>best_score</th>\n",
       "      <th>best_params</th>\n",
       "    </tr>\n",
       "  </thead>\n",
       "  <tbody>\n",
       "    <tr>\n",
       "      <th>0</th>\n",
       "      <td>CatBoostRegressor</td>\n",
       "      <td>0.107165</td>\n",
       "      <td>{'iterations': 1000}</td>\n",
       "    </tr>\n",
       "  </tbody>\n",
       "</table>\n",
       "</div>"
      ],
      "text/plain": [
       "                name  best_score           best_params\n",
       "0  CatBoostRegressor    0.107165  {'iterations': 1000}"
      ]
     },
     "execution_count": 8,
     "metadata": {},
     "output_type": "execute_result"
    }
   ],
   "source": [
    "tuning_parameters = {\n",
    "    'iterations': [100, 300, 500, 1000],\n",
    "}\n",
    "\n",
    "model = CatBoostRegressor(random_state=0, verbose=0, allow_writing_files=False)\n",
    "\n",
    "tuneParameters([model], [tuning_parameters], X_train, Y_train, 'neg_root_mean_squared_error', n_core)"
   ]
  },
  {
   "cell_type": "code",
   "execution_count": 8,
   "metadata": {},
   "outputs": [
    {
     "data": {
      "text/html": [
       "<div>\n",
       "<style scoped>\n",
       "    .dataframe tbody tr th:only-of-type {\n",
       "        vertical-align: middle;\n",
       "    }\n",
       "\n",
       "    .dataframe tbody tr th {\n",
       "        vertical-align: top;\n",
       "    }\n",
       "\n",
       "    .dataframe thead th {\n",
       "        text-align: right;\n",
       "    }\n",
       "</style>\n",
       "<table border=\"1\" class=\"dataframe\">\n",
       "  <thead>\n",
       "    <tr style=\"text-align: right;\">\n",
       "      <th></th>\n",
       "      <th>name</th>\n",
       "      <th>best_score</th>\n",
       "      <th>best_params</th>\n",
       "    </tr>\n",
       "  </thead>\n",
       "  <tbody>\n",
       "    <tr>\n",
       "      <th>0</th>\n",
       "      <td>CatBoostRegressor</td>\n",
       "      <td>0.107165</td>\n",
       "      <td>{'depth': 6, 'iterations': 1000}</td>\n",
       "    </tr>\n",
       "  </tbody>\n",
       "</table>\n",
       "</div>"
      ],
      "text/plain": [
       "                name  best_score                       best_params\n",
       "0  CatBoostRegressor    0.107165  {'depth': 6, 'iterations': 1000}"
      ]
     },
     "execution_count": 8,
     "metadata": {},
     "output_type": "execute_result"
    }
   ],
   "source": [
    "tuning_parameters = {\n",
    "    'iterations': [1000],\n",
    "    'depth': [2, 4, 6, 8, 10]\n",
    "}\n",
    "\n",
    "model = CatBoostRegressor(random_state=0, verbose=0, allow_writing_files=False)\n",
    "\n",
    "tuneParameters([model], [tuning_parameters], X_train, Y_train, 'neg_root_mean_squared_error', n_core)"
   ]
  },
  {
   "cell_type": "code",
   "execution_count": 9,
   "metadata": {},
   "outputs": [
    {
     "data": {
      "text/html": [
       "<div>\n",
       "<style scoped>\n",
       "    .dataframe tbody tr th:only-of-type {\n",
       "        vertical-align: middle;\n",
       "    }\n",
       "\n",
       "    .dataframe tbody tr th {\n",
       "        vertical-align: top;\n",
       "    }\n",
       "\n",
       "    .dataframe thead th {\n",
       "        text-align: right;\n",
       "    }\n",
       "</style>\n",
       "<table border=\"1\" class=\"dataframe\">\n",
       "  <thead>\n",
       "    <tr style=\"text-align: right;\">\n",
       "      <th></th>\n",
       "      <th>name</th>\n",
       "      <th>best_score</th>\n",
       "      <th>best_params</th>\n",
       "    </tr>\n",
       "  </thead>\n",
       "  <tbody>\n",
       "    <tr>\n",
       "      <th>0</th>\n",
       "      <td>CatBoostRegressor</td>\n",
       "      <td>0.107114</td>\n",
       "      <td>{'depth': 6, 'iterations': 1000, 'l2_leaf_reg': 1}</td>\n",
       "    </tr>\n",
       "  </tbody>\n",
       "</table>\n",
       "</div>"
      ],
      "text/plain": [
       "                name  best_score  \\\n",
       "0  CatBoostRegressor    0.107114   \n",
       "\n",
       "                                          best_params  \n",
       "0  {'depth': 6, 'iterations': 1000, 'l2_leaf_reg': 1}  "
      ]
     },
     "execution_count": 9,
     "metadata": {},
     "output_type": "execute_result"
    }
   ],
   "source": [
    "tuning_parameters = {\n",
    "    'iterations': [1000],\n",
    "    'depth': [6],\n",
    "    'l2_leaf_reg': [1e-5, 1e-2, 0.1, 1, 100]\n",
    "}\n",
    "\n",
    "model = CatBoostRegressor(random_state=0, verbose=0, allow_writing_files=False)\n",
    "\n",
    "tuneParameters([model], [tuning_parameters], X_train, Y_train, 'neg_root_mean_squared_error', n_core)"
   ]
  },
  {
   "cell_type": "code",
   "execution_count": 10,
   "metadata": {},
   "outputs": [
    {
     "data": {
      "text/html": [
       "<div>\n",
       "<style scoped>\n",
       "    .dataframe tbody tr th:only-of-type {\n",
       "        vertical-align: middle;\n",
       "    }\n",
       "\n",
       "    .dataframe tbody tr th {\n",
       "        vertical-align: top;\n",
       "    }\n",
       "\n",
       "    .dataframe thead th {\n",
       "        text-align: right;\n",
       "    }\n",
       "</style>\n",
       "<table border=\"1\" class=\"dataframe\">\n",
       "  <thead>\n",
       "    <tr style=\"text-align: right;\">\n",
       "      <th></th>\n",
       "      <th>name</th>\n",
       "      <th>best_score</th>\n",
       "      <th>best_params</th>\n",
       "    </tr>\n",
       "  </thead>\n",
       "  <tbody>\n",
       "    <tr>\n",
       "      <th>0</th>\n",
       "      <td>CatBoostRegressor</td>\n",
       "      <td>0.107114</td>\n",
       "      <td>{'depth': 6, 'iterations': 1000, 'l2_leaf_reg': 1, 'random_strength': 1}</td>\n",
       "    </tr>\n",
       "  </tbody>\n",
       "</table>\n",
       "</div>"
      ],
      "text/plain": [
       "                name  best_score  \\\n",
       "0  CatBoostRegressor    0.107114   \n",
       "\n",
       "                                                                best_params  \n",
       "0  {'depth': 6, 'iterations': 1000, 'l2_leaf_reg': 1, 'random_strength': 1}  "
      ]
     },
     "execution_count": 10,
     "metadata": {},
     "output_type": "execute_result"
    }
   ],
   "source": [
    "tuning_parameters = {\n",
    "    'iterations': [1000],\n",
    "    'depth': [6],\n",
    "    'l2_leaf_reg': [1],\n",
    "    'random_strength': [0.1, 0.2, 0.5, 0.8, 1]\n",
    "}\n",
    "\n",
    "model = CatBoostRegressor(random_state=0, verbose=0, allow_writing_files=False)\n",
    "\n",
    "tuneParameters([model], [tuning_parameters], X_train, Y_train, 'neg_root_mean_squared_error', n_core)"
   ]
  },
  {
   "cell_type": "code",
   "execution_count": 12,
   "metadata": {},
   "outputs": [
    {
     "data": {
      "text/html": [
       "<div>\n",
       "<style scoped>\n",
       "    .dataframe tbody tr th:only-of-type {\n",
       "        vertical-align: middle;\n",
       "    }\n",
       "\n",
       "    .dataframe tbody tr th {\n",
       "        vertical-align: top;\n",
       "    }\n",
       "\n",
       "    .dataframe thead th {\n",
       "        text-align: right;\n",
       "    }\n",
       "</style>\n",
       "<table border=\"1\" class=\"dataframe\">\n",
       "  <thead>\n",
       "    <tr style=\"text-align: right;\">\n",
       "      <th></th>\n",
       "      <th>name</th>\n",
       "      <th>best_score</th>\n",
       "      <th>best_params</th>\n",
       "    </tr>\n",
       "  </thead>\n",
       "  <tbody>\n",
       "    <tr>\n",
       "      <th>0</th>\n",
       "      <td>CatBoostRegressor</td>\n",
       "      <td>0.107114</td>\n",
       "      <td>{'bagging_temperature': 0, 'depth': 6, 'iterations': 1000, 'l2_leaf_reg': 1, 'random_strength': 1}</td>\n",
       "    </tr>\n",
       "  </tbody>\n",
       "</table>\n",
       "</div>"
      ],
      "text/plain": [
       "                name  best_score  \\\n",
       "0  CatBoostRegressor    0.107114   \n",
       "\n",
       "                                                                                          best_params  \n",
       "0  {'bagging_temperature': 0, 'depth': 6, 'iterations': 1000, 'l2_leaf_reg': 1, 'random_strength': 1}  "
      ]
     },
     "execution_count": 12,
     "metadata": {},
     "output_type": "execute_result"
    }
   ],
   "source": [
    "tuning_parameters = {\n",
    "    'iterations': [1000],\n",
    "    'depth': [6],\n",
    "    'l2_leaf_reg': [1],\n",
    "    'random_strength': [1],\n",
    "    'bagging_temperature': [0, 0.01, 1, 5, 10, 100]\n",
    "}\n",
    "\n",
    "model = CatBoostRegressor(random_state=0, verbose=0, allow_writing_files=False)\n",
    "\n",
    "tuneParameters([model], [tuning_parameters], X_train, Y_train, 'neg_root_mean_squared_error', n_core)"
   ]
  },
  {
   "cell_type": "code",
   "execution_count": 13,
   "metadata": {},
   "outputs": [
    {
     "data": {
      "text/html": [
       "<div>\n",
       "<style scoped>\n",
       "    .dataframe tbody tr th:only-of-type {\n",
       "        vertical-align: middle;\n",
       "    }\n",
       "\n",
       "    .dataframe tbody tr th {\n",
       "        vertical-align: top;\n",
       "    }\n",
       "\n",
       "    .dataframe thead th {\n",
       "        text-align: right;\n",
       "    }\n",
       "</style>\n",
       "<table border=\"1\" class=\"dataframe\">\n",
       "  <thead>\n",
       "    <tr style=\"text-align: right;\">\n",
       "      <th></th>\n",
       "      <th>name</th>\n",
       "      <th>best_score</th>\n",
       "      <th>best_params</th>\n",
       "    </tr>\n",
       "  </thead>\n",
       "  <tbody>\n",
       "    <tr>\n",
       "      <th>0</th>\n",
       "      <td>CatBoostRegressor</td>\n",
       "      <td>0.107114</td>\n",
       "      <td>{'bagging_temperature': 0, 'depth': 6, 'grow_policy': 'SymmetricTree', 'iterations': 1000, 'l2_leaf_reg': 1, 'random_strength': 1}</td>\n",
       "    </tr>\n",
       "  </tbody>\n",
       "</table>\n",
       "</div>"
      ],
      "text/plain": [
       "                name  best_score  \\\n",
       "0  CatBoostRegressor    0.107114   \n",
       "\n",
       "                                                                                                                          best_params  \n",
       "0  {'bagging_temperature': 0, 'depth': 6, 'grow_policy': 'SymmetricTree', 'iterations': 1000, 'l2_leaf_reg': 1, 'random_strength': 1}  "
      ]
     },
     "execution_count": 13,
     "metadata": {},
     "output_type": "execute_result"
    }
   ],
   "source": [
    "tuning_parameters = {\n",
    "    'iterations': [1000],\n",
    "    'depth': [6],\n",
    "    'l2_leaf_reg': [1],\n",
    "    'random_strength': [1],\n",
    "    'bagging_temperature': [0],\n",
    "    'grow_policy': ['SymmetricTree', 'Depthwise', 'Lossguide']\n",
    "}\n",
    "\n",
    "model = CatBoostRegressor(random_state=0, verbose=0, allow_writing_files=False)\n",
    "\n",
    "tuneParameters([model], [tuning_parameters], X_train, Y_train, 'neg_root_mean_squared_error', n_core)"
   ]
  },
  {
   "cell_type": "code",
   "execution_count": 14,
   "metadata": {},
   "outputs": [],
   "source": [
    "models = [\n",
    "    ('Lasso', Lasso(alpha=0.1)),\n",
    "    ('Ridge', Ridge(alpha=5)),\n",
    "    ('DecisionTree', DecisionTreeRegressor(max_depth=8, min_samples_split=10)),\n",
    "    ('RandomForest', RandomForestRegressor(n_estimators=1000, min_samples_split=2, max_features='sqrt', random_state=0, oob_score=True)),\n",
    "    ('GradientBoost', GradientBoostingRegressor(learning_rate=0.1, max_depth=2, max_features='sqrt', min_samples_split=4, n_estimators=500)),\n",
    "    ('XGB', XGBRegressor(eta=0.2, n_estimators=100, max_depth=4, min_child_weight=2, gamma=0, subsample=0.8, colsample_bytree=0.6, reg_alpha=1e-05, reg_lambda=100)),\n",
    "    ('CatBoost', CatBoostRegressor(iterations=1000, depth=6, l2_leaf_reg=1, random_strength=1, bagging_temperature=0, grow_policy='SymmetricTree', random_state=0, verbose=0, allow_writing_files=False))\n",
    "]\n",
    "\n",
    "model = VotingRegressor(models)\n",
    "predict(model, X_train, Y_train, X_test, True, id, label)"
   ]
  }
 ],
 "metadata": {
  "kernelspec": {
   "display_name": "ml2",
   "language": "python",
   "name": "python3"
  },
  "language_info": {
   "codemirror_mode": {
    "name": "ipython",
    "version": 3
   },
   "file_extension": ".py",
   "mimetype": "text/x-python",
   "name": "python",
   "nbconvert_exporter": "python",
   "pygments_lexer": "ipython3",
   "version": "3.9.19"
  }
 },
 "nbformat": 4,
 "nbformat_minor": 2
}
