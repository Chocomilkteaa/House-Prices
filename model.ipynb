{
 "cells": [
  {
   "cell_type": "markdown",
   "metadata": {},
   "source": [
    "# Import packages and Settings"
   ]
  },
  {
   "cell_type": "code",
   "execution_count": 1,
   "metadata": {},
   "outputs": [
    {
     "name": "stdout",
     "output_type": "stream",
     "text": [
      "9\n"
     ]
    }
   ],
   "source": [
    "import os\n",
    "\n",
    "n_core = os.cpu_count()-3\n",
    "print(n_core)"
   ]
  },
  {
   "cell_type": "code",
   "execution_count": 2,
   "metadata": {},
   "outputs": [],
   "source": [
    "import numpy as np\n",
    "import pandas as pd\n",
    "from pandas.api.types import is_numeric_dtype\n",
    "\n",
    "import matplotlib.pyplot as plt\n",
    "\n",
    "from xgboost.sklearn import XGBRegressor\n",
    "\n",
    "from catboost import CatBoostRegressor\n",
    "\n",
    "%matplotlib inline"
   ]
  },
  {
   "cell_type": "code",
   "execution_count": 3,
   "metadata": {},
   "outputs": [
    {
     "name": "stderr",
     "output_type": "stream",
     "text": [
      "Intel(R) Extension for Scikit-learn* enabled (https://github.com/intel/scikit-learn-intelex)\n"
     ]
    }
   ],
   "source": [
    "from sklearn.base import clone\n",
    "from sklearn.compose import ColumnTransformer\n",
    "from sklearn.pipeline import Pipeline\n",
    "from sklearn.impute import SimpleImputer\n",
    "from sklearn.preprocessing import OneHotEncoder\n",
    "from sklearn.linear_model import LinearRegression, Lasso, Ridge\n",
    "from sklearn.tree import DecisionTreeRegressor\n",
    "from sklearn.ensemble import RandomForestRegressor, GradientBoostingRegressor\n",
    "from sklearn.feature_selection import RFECV\n",
    "from sklearn.model_selection import ShuffleSplit, cross_val_score, GridSearchCV\n",
    "\n",
    "from sklearnex import patch_sklearn\n",
    "\n",
    "patch_sklearn()"
   ]
  },
  {
   "cell_type": "markdown",
   "metadata": {},
   "source": [
    "## Load Data and Preprocessing"
   ]
  },
  {
   "cell_type": "code",
   "execution_count": 4,
   "metadata": {},
   "outputs": [],
   "source": [
    "train_data = pd.read_csv('./Data/train.csv')\n",
    "test_data = pd.read_csv('./Data/test.csv')\n",
    "\n",
    "feature = 'MSSubClass'\n",
    "train_data[feature] = train_data[feature].apply(lambda x: str(x))\n",
    "test_data[feature] = test_data[feature].apply(lambda x: str(x))\n",
    "\n",
    "assert(not is_numeric_dtype(train_data[feature]))\n",
    "\n",
    "feature = 'Street'\n",
    "train_data[feature] = train_data[feature].map({'Pave': 0, 'Grvl':1})\n",
    "test_data[feature] = test_data[feature].map({'Pave': 0, 'Grvl':1})\n",
    "\n",
    "assert(is_numeric_dtype(train_data[feature]))\n",
    "\n",
    "feature = 'Alley'\n",
    "train_data[feature] = train_data[feature].fillna('None')\n",
    "test_data[feature] = test_data[feature].fillna('None')\n",
    "\n",
    "assert(train_data[feature].isna().sum() == 0)\n",
    "\n",
    "feature = 'MasVnrType'\n",
    "train_data[feature] = train_data[feature].fillna('None')\n",
    "test_data[feature] = test_data[feature].fillna('None')\n",
    "\n",
    "assert(train_data[feature].isna().sum() == 0)\n",
    "\n",
    "feature = 'MasVnrArea'\n",
    "train_data[feature] = train_data[feature].fillna(0)\n",
    "test_data[feature] = test_data[feature].fillna(0)\n",
    "\n",
    "assert(train_data[feature].isna().sum() == 0)\n",
    "\n",
    "quality_map = {'Po':1, 'Fa':2, 'TA':3, 'Gd':4, 'Ex':5}\n",
    "\n",
    "feature = 'ExterQual'\n",
    "train_data[feature] = train_data[feature].map(quality_map)\n",
    "test_data[feature] = test_data[feature].map(quality_map)\n",
    "\n",
    "assert(is_numeric_dtype(train_data[feature]))\n",
    "\n",
    "feature = 'ExterCond'\n",
    "train_data[feature] = train_data[feature].map(quality_map)\n",
    "test_data[feature] = test_data[feature].map(quality_map)\n",
    "\n",
    "assert(is_numeric_dtype(train_data[feature]))\n",
    "\n",
    "feature = 'BsmtQual'\n",
    "train_data[feature] = train_data[feature].map(quality_map)\n",
    "test_data[feature] = test_data[feature].map(quality_map)\n",
    "train_data[feature] = train_data[feature].fillna(0)\n",
    "test_data[feature] = test_data[feature].fillna(0)\n",
    "train_data[feature] = train_data[feature].astype(int)\n",
    "test_data[feature] = test_data[feature].astype(int)\n",
    "\n",
    "assert(is_numeric_dtype(train_data[feature]))\n",
    "assert(train_data[feature].isna().sum() == 0)\n",
    "\n",
    "feature = 'BsmtCond'\n",
    "train_data[feature] = train_data[feature].map(quality_map)\n",
    "test_data[feature] = test_data[feature].map(quality_map)\n",
    "train_data[feature] = train_data[feature].fillna(0)\n",
    "test_data[feature] = test_data[feature].fillna(0)\n",
    "train_data[feature] = train_data[feature].astype(int)\n",
    "test_data[feature] = test_data[feature].astype(int)\n",
    "\n",
    "assert(is_numeric_dtype(train_data[feature]))\n",
    "assert(train_data[feature].isna().sum() == 0)\n",
    "\n",
    "exposure_map = {'No':1, 'Mn':2, 'Av':3, 'Gd':4}\n",
    "\n",
    "feature = 'BsmtExposure'\n",
    "train_data[feature] = train_data[feature].map(exposure_map)\n",
    "test_data[feature] = test_data[feature].map(exposure_map)\n",
    "train_data[feature] = train_data[feature].fillna(0)\n",
    "test_data[feature] = test_data[feature].fillna(0)\n",
    "train_data[feature] = train_data[feature].astype(int)\n",
    "test_data[feature] = test_data[feature].astype(int)\n",
    "\n",
    "assert(is_numeric_dtype(train_data[feature]))\n",
    "assert(train_data[feature].isna().sum() == 0)\n",
    "\n",
    "type_map = {'Unf':1, 'LwQ':2, 'Rec':3, 'BLQ':4, 'ALQ':5, 'GLQ':6}\n",
    "\n",
    "feature = 'BsmtFinType1'\n",
    "train_data[feature] = train_data[feature].map(type_map)\n",
    "test_data[feature] = test_data[feature].map(type_map)\n",
    "train_data[feature] = train_data[feature].fillna(0)\n",
    "test_data[feature] = test_data[feature].fillna(0)\n",
    "train_data[feature] = train_data[feature].astype(int)\n",
    "test_data[feature] = test_data[feature].astype(int)\n",
    "\n",
    "assert(is_numeric_dtype(train_data[feature]))\n",
    "assert(train_data[feature].isna().sum() == 0)\n",
    "\n",
    "feature = 'BsmtFinType2'\n",
    "train_data[feature] = train_data[feature].map(type_map)\n",
    "test_data[feature] = test_data[feature].map(type_map)\n",
    "train_data[feature] = train_data[feature].fillna(0)\n",
    "test_data[feature] = test_data[feature].fillna(0)\n",
    "train_data[feature] = train_data[feature].astype(int)\n",
    "test_data[feature] = test_data[feature].astype(int)\n",
    "\n",
    "assert(is_numeric_dtype(train_data[feature]))\n",
    "assert(train_data[feature].isna().sum() == 0)\n",
    "\n",
    "feature = 'HeatingQC'\n",
    "train_data[feature] = train_data[feature].map(quality_map)\n",
    "test_data[feature] = test_data[feature].map(quality_map)\n",
    "\n",
    "assert(is_numeric_dtype(train_data[feature]))\n",
    "\n",
    "feature = 'CentralAir'\n",
    "train_data[feature] = train_data[feature].map({'N': 0, 'Y':1})\n",
    "test_data[feature] = test_data[feature].map({'N': 0, 'Y':1})\n",
    "\n",
    "assert(is_numeric_dtype(train_data[feature]))\n",
    "\n",
    "feature = 'KitchenQual'\n",
    "train_data[feature] = train_data[feature].map(quality_map)\n",
    "test_data[feature] = test_data[feature].map(quality_map)\n",
    "\n",
    "assert(is_numeric_dtype(train_data[feature]))\n",
    "\n",
    "function_map = {'Sal':1, 'Sev':2, 'Maj2':3, 'Maj1':4, 'Mod':5, 'Min2':6, 'Min1':7, 'Typ':8}\n",
    "\n",
    "feature = 'Functional'\n",
    "train_data[feature] = train_data[feature].map(function_map)\n",
    "test_data[feature] = test_data[feature].map(function_map)\n",
    "test_data[feature] = test_data[feature].fillna(8)\n",
    "\n",
    "assert(is_numeric_dtype(train_data[feature]))\n",
    "\n",
    "feature = 'FireplaceQu'\n",
    "train_data[feature] = train_data[feature].map(quality_map)\n",
    "test_data[feature] = test_data[feature].map(quality_map)\n",
    "train_data[feature] = train_data[feature].fillna(0)\n",
    "test_data[feature] = test_data[feature].fillna(0)\n",
    "train_data[feature] = train_data[feature].astype(int)\n",
    "test_data[feature] = test_data[feature].astype(int)\n",
    "\n",
    "assert(is_numeric_dtype(train_data[feature]))\n",
    "assert(train_data[feature].isna().sum() == 0)\n",
    "\n",
    "feature = 'GarageType'\n",
    "train_data[feature] = train_data[feature].fillna('None')\n",
    "test_data[feature] = test_data[feature].fillna('None')\n",
    "\n",
    "assert(train_data[feature].isna().sum() == 0)\n",
    "\n",
    "feature = 'GarageYrBlt'\n",
    "train_data[feature] = train_data[feature].fillna(-1)\n",
    "test_data[feature] = test_data[feature].fillna(-1)\n",
    "train_data[feature] = train_data[feature].astype(int)\n",
    "test_data[feature] = test_data[feature].astype(int)\n",
    "\n",
    "assert(train_data[feature].isna().sum() == 0)\n",
    "\n",
    "exposure_map = {'Unf':1, 'RFn':2, 'Fin':3}\n",
    "\n",
    "feature = 'GarageFinish'\n",
    "train_data[feature] = train_data[feature].map(exposure_map)\n",
    "test_data[feature] = test_data[feature].map(exposure_map)\n",
    "train_data[feature] = train_data[feature].fillna(0)\n",
    "test_data[feature] = test_data[feature].fillna(0)\n",
    "train_data[feature] = train_data[feature].astype(int)\n",
    "test_data[feature] = test_data[feature].astype(int)\n",
    "\n",
    "assert(is_numeric_dtype(train_data[feature]))\n",
    "assert(train_data[feature].isna().sum() == 0)\n",
    "\n",
    "feature = 'GarageQual'\n",
    "train_data[feature] = train_data[feature].map(quality_map)\n",
    "test_data[feature] = test_data[feature].map(quality_map)\n",
    "train_data[feature] = train_data[feature].fillna(0)\n",
    "test_data[feature] = test_data[feature].fillna(0)\n",
    "train_data[feature] = train_data[feature].astype(int)\n",
    "test_data[feature] = test_data[feature].astype(int)\n",
    "\n",
    "assert(is_numeric_dtype(train_data[feature]))\n",
    "assert(train_data[feature].isna().sum() == 0)\n",
    "\n",
    "feature = 'GarageCond'\n",
    "train_data[feature] = train_data[feature].map(quality_map)\n",
    "test_data[feature] = test_data[feature].map(quality_map)\n",
    "train_data[feature] = train_data[feature].fillna(0)\n",
    "test_data[feature] = test_data[feature].fillna(0)\n",
    "train_data[feature] = train_data[feature].astype(int)\n",
    "test_data[feature] = test_data[feature].astype(int)\n",
    "\n",
    "assert(is_numeric_dtype(train_data[feature]))\n",
    "assert(train_data[feature].isna().sum() == 0)\n",
    "\n",
    "feature = 'PoolQC'\n",
    "train_data[feature] = train_data[feature].map(quality_map)\n",
    "test_data[feature] = test_data[feature].map(quality_map)\n",
    "train_data[feature] = train_data[feature].fillna(0)\n",
    "test_data[feature] = test_data[feature].fillna(0)\n",
    "train_data[feature] = train_data[feature].astype(int)\n",
    "test_data[feature] = test_data[feature].astype(int)\n",
    "\n",
    "assert(is_numeric_dtype(train_data[feature]))\n",
    "assert(train_data[feature].isna().sum() == 0)\n",
    "\n",
    "fence_map = {'MnWw':1, 'GdWo':2, 'MnPrv':3, 'GdPrv':4}\n",
    "\n",
    "feature = 'Fence'\n",
    "train_data[feature] = train_data[feature].map(fence_map)\n",
    "test_data[feature] = test_data[feature].map(fence_map)\n",
    "train_data[feature] = train_data[feature].fillna(0)\n",
    "test_data[feature] = test_data[feature].fillna(0)\n",
    "train_data[feature] = train_data[feature].astype(int)\n",
    "test_data[feature] = test_data[feature].astype(int)\n",
    "\n",
    "assert(is_numeric_dtype(train_data[feature]))\n",
    "assert(train_data[feature].isna().sum() == 0)\n",
    "\n",
    "feature = 'MiscFeature'\n",
    "train_data[feature] = train_data[feature].fillna('None')\n",
    "test_data[feature] = test_data[feature].fillna('None')\n",
    "\n",
    "assert(train_data[feature].isna().sum() == 0)\n",
    "\n",
    "test_data.loc[test_data['GarageCars'].isnull(), ['GarageType', 'GarageCars', 'GarageArea']] = ['None', 0, 0]\n",
    "test_data.loc[test_data['BsmtFinSF1'].isnull(), ['BsmtFinSF1', 'BsmtFinSF2', 'BsmtUnfSF', 'TotalBsmtSF', 'BsmtFullBath', 'BsmtHalfBath']] = [0, 0, 0, 0, 0, 0]\n",
    "test_data.loc[test_data['BsmtFullBath'].isnull(), ['BsmtFullBath', 'BsmtHalfBath']] = [0, 0]\n",
    "\n",
    "assert(test_data['GarageCars'].isna().sum() == 0)\n",
    "assert(test_data['BsmtFinSF1'].isna().sum() == 0)\n",
    "assert(test_data['BsmtFullBath'].isna().sum() == 0)\n",
    "\n",
    "columns_float = train_data.select_dtypes(include=['float64']).columns\n",
    "train_data[columns_float] = train_data[columns_float].astype('float32')\n",
    "test_data[columns_float] = test_data[columns_float].astype('float32')\n",
    "\n",
    "label = 'SalePrice'\n",
    "\n",
    "id = test_data['Id']"
   ]
  },
  {
   "cell_type": "code",
   "execution_count": 5,
   "metadata": {},
   "outputs": [],
   "source": [
    "models = [\n",
    "    LinearRegression(),\n",
    "    Lasso(random_state=0),\n",
    "    Ridge(random_state=0),\n",
    "    DecisionTreeRegressor(random_state=0),\n",
    "    RandomForestRegressor(random_state=0, oob_score=True),\n",
    "    GradientBoostingRegressor(random_state=0),\n",
    "    XGBRegressor(random_state=0),\n",
    "    CatBoostRegressor(random_state=0, verbose=0, allow_writing_files=False)\n",
    "]"
   ]
  },
  {
   "cell_type": "markdown",
   "metadata": {},
   "source": [
    "# Functions"
   ]
  },
  {
   "cell_type": "code",
   "execution_count": 6,
   "metadata": {},
   "outputs": [],
   "source": [
    "def prepareDataDrop(columns_to_drop, label, train_data, test_data, islog):\n",
    "    X_train = train_data.drop([label] + columns_to_drop, axis=1)\n",
    "    Y_train = np.log(train_data[label]) if islog else train_data[label]\n",
    "    X_test = test_data.drop(columns_to_drop, axis=1)\n",
    "    return X_train, Y_train, X_test"
   ]
  },
  {
   "cell_type": "code",
   "execution_count": 7,
   "metadata": {},
   "outputs": [],
   "source": [
    "def prepareDataSelect(columns_to_select, label, train_data, test_data, islog):\n",
    "    X_train = train_data[columns_to_select]\n",
    "    Y_train = np.log(train_data[label]) if islog else train_data[label]\n",
    "    X_test = test_data[columns_to_select]\n",
    "    return X_train, Y_train, X_test"
   ]
  },
  {
   "cell_type": "code",
   "execution_count": 8,
   "metadata": {},
   "outputs": [],
   "source": [
    "def preprocess(X_train, X_test):\n",
    "    columns_num = X_train.select_dtypes(include='number').columns\n",
    "    columns_cat = X_train.select_dtypes(include='O').columns\n",
    "\n",
    "    X_train[columns_num] = X_train[columns_num].fillna(X_train[columns_num].median())\n",
    "    X_train[columns_cat] = X_train[columns_cat].fillna(X_train[columns_cat].mode().loc[0])\n",
    "\n",
    "    X_test[columns_num] = X_test[columns_num].fillna(X_train[columns_num].median())\n",
    "    X_test[columns_cat] = X_test[columns_cat].fillna(X_train[columns_cat].mode().loc[0])\n",
    "\n",
    "    encoder_onehot = OneHotEncoder(dtype=int, sparse_output=False, handle_unknown='ignore')\n",
    "\n",
    "    train_data_onehot = encoder_onehot.fit_transform(X_train[columns_cat])\n",
    "    train_feature_name_onehot = encoder_onehot.get_feature_names_out()\n",
    "    train_data_onehot = pd.DataFrame(train_data_onehot, columns=train_feature_name_onehot)\n",
    "\n",
    "    test_data_onehot = encoder_onehot.transform(X_test[columns_cat])\n",
    "    test_data_onehot = pd.DataFrame(test_data_onehot, columns=train_feature_name_onehot)\n",
    "\n",
    "    X_train = pd.concat([X_train[columns_num], train_data_onehot], axis=1)\n",
    "    X_test = pd.concat([X_test[columns_num], test_data_onehot], axis=1)\n",
    "\n",
    "    return X_train, X_test"
   ]
  },
  {
   "cell_type": "code",
   "execution_count": 9,
   "metadata": {},
   "outputs": [],
   "source": [
    "def evaluation(models, X_train, Y_train, scoring, n_core):\n",
    "    model_names = [model.__class__.__name__ for model in models]\n",
    "    model_scores = []\n",
    "\n",
    "    cv = ShuffleSplit(random_state=0)\n",
    "\n",
    "    for model in models:\n",
    "        model = clone(model)\n",
    "        cv_scores = cross_val_score(model, X_train, Y_train, cv=cv, scoring=scoring, n_jobs=n_core)\n",
    "        model_scores.append(-cv_scores.mean())\n",
    "\n",
    "    cv_results = pd.DataFrame(columns=['name', 'score_mean'])\n",
    "    cv_results['name'] = model_names\n",
    "    cv_results['score_mean'] = model_scores\n",
    "\n",
    "    return cv_results"
   ]
  },
  {
   "cell_type": "code",
   "execution_count": 10,
   "metadata": {},
   "outputs": [],
   "source": [
    "def tuneParameters(models, tuning_parameters, X_train, Y_train, scoring, n_core):\n",
    "    model_names = [model.__class__.__name__ for model in models]\n",
    "    model_scores = []\n",
    "    model_params = []\n",
    "\n",
    "    cv = ShuffleSplit(random_state=0)\n",
    "\n",
    "    for model, params in zip(models, tuning_parameters.items()):\n",
    "        model = clone(model)\n",
    "        tune_model = GridSearchCV(model, param_grid=params[1], scoring=scoring, cv=cv, n_jobs=n_core)\n",
    "        tune_model.fit(X_train, Y_train)\n",
    "        model_scores.append(-tune_model.best_score_)\n",
    "        model_params.append(tune_model.best_params_)\n",
    "    \n",
    "    tuning_results = pd.DataFrame(columns=['name', 'best_score', 'best_params'])\n",
    "    tuning_results['name'] = model_names\n",
    "    tuning_results['best_score'] = model_scores\n",
    "    tuning_results['best_params'] = model_params\n",
    "\n",
    "    return tuning_results"
   ]
  },
  {
   "cell_type": "code",
   "execution_count": 11,
   "metadata": {},
   "outputs": [],
   "source": [
    "def predict(model, X_train, Y_train, X_test, islog, id, label, file_name = 'result.csv'):\n",
    "    model = clone(model)\n",
    "    model.fit(X_train, Y_train)\n",
    "    predictions = model.predict(X_test)\n",
    "\n",
    "    result = pd.DataFrame({\n",
    "        id.name: id,\n",
    "        label: np.exp(predictions) if islog else predictions\n",
    "    })\n",
    "    result.to_csv('./Result/' + file_name, index=False)"
   ]
  },
  {
   "cell_type": "code",
   "execution_count": 84,
   "metadata": {},
   "outputs": [
    {
     "data": {
      "text/plain": [
       "['LotFrontage', 'Electrical']"
      ]
     },
     "execution_count": 84,
     "metadata": {},
     "output_type": "execute_result"
    }
   ],
   "source": [
    "train_data.columns[train_data.isna().any()].tolist()"
   ]
  },
  {
   "cell_type": "code",
   "execution_count": 85,
   "metadata": {},
   "outputs": [
    {
     "data": {
      "text/plain": [
       "['MSZoning',\n",
       " 'LotFrontage',\n",
       " 'Utilities',\n",
       " 'Exterior1st',\n",
       " 'Exterior2nd',\n",
       " 'KitchenQual',\n",
       " 'SaleType']"
      ]
     },
     "execution_count": 85,
     "metadata": {},
     "output_type": "execute_result"
    }
   ],
   "source": [
    "test_data.columns[test_data.isna().any()].tolist()"
   ]
  },
  {
   "cell_type": "markdown",
   "metadata": {},
   "source": [
    "# Base Model"
   ]
  },
  {
   "cell_type": "code",
   "execution_count": 86,
   "metadata": {},
   "outputs": [
    {
     "name": "stdout",
     "output_type": "stream",
     "text": [
      "Index(['LotArea', 'Street', 'OverallQual', 'OverallCond', 'YearBuilt',\n",
      "       'YearRemodAdd', 'MasVnrArea', 'ExterQual', 'ExterCond', 'BsmtQual',\n",
      "       'BsmtCond', 'BsmtExposure', 'BsmtFinType1', 'BsmtFinSF1',\n",
      "       'BsmtFinType2', 'BsmtFinSF2', 'BsmtUnfSF', 'TotalBsmtSF', 'HeatingQC',\n",
      "       'CentralAir', '1stFlrSF', '2ndFlrSF', 'LowQualFinSF', 'GrLivArea',\n",
      "       'BsmtFullBath', 'BsmtHalfBath', 'FullBath', 'HalfBath', 'BedroomAbvGr',\n",
      "       'KitchenAbvGr', 'KitchenQual', 'TotRmsAbvGrd', 'Functional',\n",
      "       'Fireplaces', 'FireplaceQu', 'GarageYrBlt', 'GarageFinish',\n",
      "       'GarageCars', 'GarageArea', 'GarageQual', 'GarageCond', 'WoodDeckSF',\n",
      "       'OpenPorchSF', 'EnclosedPorch', '3SsnPorch', 'ScreenPorch', 'PoolArea',\n",
      "       'PoolQC', 'Fence', 'MiscVal', 'MoSold', 'YrSold'],\n",
      "      dtype='object')\n"
     ]
    }
   ],
   "source": [
    "columns_to_drop = ['Id'] + \\\n",
    "    train_data.select_dtypes(include='O').columns.to_list() + \\\n",
    "    train_data.columns[train_data.isna().any()].tolist()\n",
    "X_train, Y_train, X_test = prepareDataDrop(columns_to_drop, label, train_data, test_data, False)\n",
    "print(X_train.columns)"
   ]
  },
  {
   "cell_type": "code",
   "execution_count": 88,
   "metadata": {},
   "outputs": [
    {
     "name": "stdout",
     "output_type": "stream",
     "text": [
      "                        name  score_mean\n",
      "0           LinearRegression    0.175144\n",
      "1                      Lasso    0.175102\n",
      "2                      Ridge    0.174548\n",
      "3      DecisionTreeRegressor    0.206714\n",
      "4      RandomForestRegressor    0.139624\n",
      "5  GradientBoostingRegressor    0.126800\n",
      "6               XGBRegressor    0.138030\n",
      "7          CatBoostRegressor    0.124243\n"
     ]
    }
   ],
   "source": [
    "cv_results = evaluation(models, X_train, Y_train, 'neg_root_mean_squared_log_error', n_core)\n",
    "print(cv_results)"
   ]
  },
  {
   "cell_type": "code",
   "execution_count": 13,
   "metadata": {},
   "outputs": [],
   "source": [
    "model = DecisionTreeRegressor(random_state=0)\n",
    "predict(model, X_train, Y_train, X_test, False, id, label, file_name = 'result_basic.csv')"
   ]
  },
  {
   "cell_type": "markdown",
   "metadata": {},
   "source": [
    "# Improvement"
   ]
  },
  {
   "cell_type": "code",
   "execution_count": 64,
   "metadata": {},
   "outputs": [
    {
     "name": "stdout",
     "output_type": "stream",
     "text": [
      "Index(['MSSubClass', 'MSZoning', 'LotFrontage', 'LotArea', 'Street', 'Alley',\n",
      "       'LotShape', 'LandContour', 'Utilities', 'LotConfig', 'LandSlope',\n",
      "       'Neighborhood', 'Condition1', 'Condition2', 'BldgType', 'HouseStyle',\n",
      "       'OverallQual', 'OverallCond', 'YearBuilt', 'YearRemodAdd', 'RoofStyle',\n",
      "       'RoofMatl', 'Exterior1st', 'Exterior2nd', 'MasVnrType', 'MasVnrArea',\n",
      "       'ExterQual', 'ExterCond', 'Foundation', 'BsmtQual', 'BsmtCond',\n",
      "       'BsmtExposure', 'BsmtFinType1', 'BsmtFinSF1', 'BsmtFinType2',\n",
      "       'BsmtFinSF2', 'BsmtUnfSF', 'TotalBsmtSF', 'Heating', 'HeatingQC',\n",
      "       'CentralAir', 'Electrical', '1stFlrSF', '2ndFlrSF', 'LowQualFinSF',\n",
      "       'GrLivArea', 'BsmtFullBath', 'BsmtHalfBath', 'FullBath', 'HalfBath',\n",
      "       'BedroomAbvGr', 'KitchenAbvGr', 'KitchenQual', 'TotRmsAbvGrd',\n",
      "       'Functional', 'Fireplaces', 'FireplaceQu', 'GarageType', 'GarageYrBlt',\n",
      "       'GarageFinish', 'GarageCars', 'GarageArea', 'GarageQual', 'GarageCond',\n",
      "       'PavedDrive', 'WoodDeckSF', 'OpenPorchSF', 'EnclosedPorch', '3SsnPorch',\n",
      "       'ScreenPorch', 'PoolArea', 'PoolQC', 'Fence', 'MiscFeature', 'MiscVal',\n",
      "       'MoSold', 'YrSold', 'SaleType', 'SaleCondition'],\n",
      "      dtype='object')\n"
     ]
    }
   ],
   "source": [
    "columns_to_drop = ['Id']\n",
    "X_train, Y_train, X_test = prepareDataDrop(columns_to_drop, label, train_data, test_data, False)\n",
    "print(X_train.columns)"
   ]
  },
  {
   "cell_type": "code",
   "execution_count": 65,
   "metadata": {},
   "outputs": [
    {
     "name": "stdout",
     "output_type": "stream",
     "text": [
      "(1460, 245) (1459, 245)\n"
     ]
    }
   ],
   "source": [
    "X_train, X_test = preprocess(X_train, X_test)\n",
    "print(X_train.shape, X_test.shape)"
   ]
  },
  {
   "cell_type": "code",
   "execution_count": 68,
   "metadata": {},
   "outputs": [
    {
     "name": "stdout",
     "output_type": "stream",
     "text": [
      "                        name  score_mean\n",
      "0           LinearRegression         NaN\n",
      "1                      Lasso         NaN\n",
      "2                      Ridge         NaN\n",
      "3      DecisionTreeRegressor    0.204164\n",
      "4      RandomForestRegressor    0.139421\n",
      "5  GradientBoostingRegressor    0.122607\n",
      "6               XGBRegressor    0.136823\n",
      "7          CatBoostRegressor    0.114957\n"
     ]
    }
   ],
   "source": [
    "cv_results = evaluation(models, X_train, Y_train, 'neg_root_mean_squared_log_error', n_core)\n",
    "print(cv_results)"
   ]
  },
  {
   "cell_type": "code",
   "execution_count": 22,
   "metadata": {},
   "outputs": [
    {
     "data": {
      "text/html": [
       "<div>\n",
       "<style scoped>\n",
       "    .dataframe tbody tr th:only-of-type {\n",
       "        vertical-align: middle;\n",
       "    }\n",
       "\n",
       "    .dataframe tbody tr th {\n",
       "        vertical-align: top;\n",
       "    }\n",
       "\n",
       "    .dataframe thead th {\n",
       "        text-align: right;\n",
       "    }\n",
       "</style>\n",
       "<table border=\"1\" class=\"dataframe\">\n",
       "  <thead>\n",
       "    <tr style=\"text-align: right;\">\n",
       "      <th></th>\n",
       "      <th>name</th>\n",
       "      <th>best_score</th>\n",
       "      <th>best_params</th>\n",
       "    </tr>\n",
       "  </thead>\n",
       "  <tbody>\n",
       "    <tr>\n",
       "      <th>0</th>\n",
       "      <td>RandomForestRegressor</td>\n",
       "      <td>-0.138408</td>\n",
       "      <td>{'min_samples_split': 2, 'n_estimators': 300}</td>\n",
       "    </tr>\n",
       "  </tbody>\n",
       "</table>\n",
       "</div>"
      ],
      "text/plain": [
       "                    name  best_score  \\\n",
       "0  RandomForestRegressor   -0.138408   \n",
       "\n",
       "                                     best_params  \n",
       "0  {'min_samples_split': 2, 'n_estimators': 300}  "
      ]
     },
     "execution_count": 22,
     "metadata": {},
     "output_type": "execute_result"
    }
   ],
   "source": [
    "tuning_parameters = {\n",
    "        'RandomForestRegressor': {\n",
    "            'n_estimators': [50, 100, 300],\n",
    "            'min_samples_split': [2, 4, 6, 8, 10]\n",
    "        }\n",
    "    }\n",
    "\n",
    "model = RandomForestRegressor(random_state=0, oob_score=True)\n",
    "\n",
    "tuneParameters([model], tuning_parameters, X_train, Y_train, 'neg_root_mean_squared_log_error', n_core)"
   ]
  },
  {
   "cell_type": "code",
   "execution_count": 30,
   "metadata": {},
   "outputs": [],
   "source": [
    "model = RandomForestRegressor(n_estimators=300, min_samples_split=10, random_state=0, oob_score=True)\n",
    "predict(model, X_train, Y_train, X_test, False, id, label)"
   ]
  },
  {
   "cell_type": "markdown",
   "metadata": {},
   "source": [
    "## Take Log of SalePrice"
   ]
  },
  {
   "cell_type": "code",
   "execution_count": 89,
   "metadata": {},
   "outputs": [
    {
     "name": "stdout",
     "output_type": "stream",
     "text": [
      "Index(['MSSubClass', 'MSZoning', 'LotFrontage', 'LotArea', 'Street', 'Alley',\n",
      "       'LotShape', 'LandContour', 'Utilities', 'LotConfig', 'LandSlope',\n",
      "       'Neighborhood', 'Condition1', 'Condition2', 'BldgType', 'HouseStyle',\n",
      "       'OverallQual', 'OverallCond', 'YearBuilt', 'YearRemodAdd', 'RoofStyle',\n",
      "       'RoofMatl', 'Exterior1st', 'Exterior2nd', 'MasVnrType', 'MasVnrArea',\n",
      "       'ExterQual', 'ExterCond', 'Foundation', 'BsmtQual', 'BsmtCond',\n",
      "       'BsmtExposure', 'BsmtFinType1', 'BsmtFinSF1', 'BsmtFinType2',\n",
      "       'BsmtFinSF2', 'BsmtUnfSF', 'TotalBsmtSF', 'Heating', 'HeatingQC',\n",
      "       'CentralAir', 'Electrical', '1stFlrSF', '2ndFlrSF', 'LowQualFinSF',\n",
      "       'GrLivArea', 'BsmtFullBath', 'BsmtHalfBath', 'FullBath', 'HalfBath',\n",
      "       'BedroomAbvGr', 'KitchenAbvGr', 'KitchenQual', 'TotRmsAbvGrd',\n",
      "       'Functional', 'Fireplaces', 'FireplaceQu', 'GarageType', 'GarageYrBlt',\n",
      "       'GarageFinish', 'GarageCars', 'GarageArea', 'GarageQual', 'GarageCond',\n",
      "       'PavedDrive', 'WoodDeckSF', 'OpenPorchSF', 'EnclosedPorch', '3SsnPorch',\n",
      "       'ScreenPorch', 'PoolArea', 'PoolQC', 'Fence', 'MiscFeature', 'MiscVal',\n",
      "       'MoSold', 'YrSold', 'SaleType', 'SaleCondition'],\n",
      "      dtype='object')\n"
     ]
    }
   ],
   "source": [
    "columns_to_drop = ['Id']\n",
    "X_train, Y_train, X_test = prepareDataDrop(columns_to_drop, label, train_data, test_data, True)\n",
    "print(X_train.columns)"
   ]
  },
  {
   "cell_type": "code",
   "execution_count": 90,
   "metadata": {},
   "outputs": [
    {
     "name": "stdout",
     "output_type": "stream",
     "text": [
      "(1460, 245) (1459, 245)\n"
     ]
    }
   ],
   "source": [
    "X_train, X_test = preprocess(X_train, X_test)\n",
    "print(X_train.shape, X_test.shape)"
   ]
  },
  {
   "cell_type": "code",
   "execution_count": 27,
   "metadata": {},
   "outputs": [
    {
     "name": "stdout",
     "output_type": "stream",
     "text": [
      "                        name  score_mean\n",
      "0           LinearRegression    0.140600\n",
      "1                      Lasso    0.186531\n",
      "2                      Ridge    0.133502\n",
      "3      DecisionTreeRegressor    0.198165\n",
      "4      RandomForestRegressor    0.136668\n",
      "5  GradientBoostingRegressor    0.122738\n",
      "6               XGBRegressor    0.141680\n",
      "7          CatBoostRegressor    0.113981\n"
     ]
    }
   ],
   "source": [
    "cv_results = evaluation(models, X_train, Y_train, 'neg_root_mean_squared_error', n_core)\n",
    "print(cv_results)"
   ]
  },
  {
   "cell_type": "code",
   "execution_count": 29,
   "metadata": {},
   "outputs": [
    {
     "data": {
      "text/html": [
       "<div>\n",
       "<style scoped>\n",
       "    .dataframe tbody tr th:only-of-type {\n",
       "        vertical-align: middle;\n",
       "    }\n",
       "\n",
       "    .dataframe tbody tr th {\n",
       "        vertical-align: top;\n",
       "    }\n",
       "\n",
       "    .dataframe thead th {\n",
       "        text-align: right;\n",
       "    }\n",
       "</style>\n",
       "<table border=\"1\" class=\"dataframe\">\n",
       "  <thead>\n",
       "    <tr style=\"text-align: right;\">\n",
       "      <th></th>\n",
       "      <th>name</th>\n",
       "      <th>best_score</th>\n",
       "      <th>best_params</th>\n",
       "    </tr>\n",
       "  </thead>\n",
       "  <tbody>\n",
       "    <tr>\n",
       "      <th>0</th>\n",
       "      <td>RandomForestRegressor</td>\n",
       "      <td>-0.136071</td>\n",
       "      <td>{'min_samples_split': 2, 'n_estimators': 300}</td>\n",
       "    </tr>\n",
       "  </tbody>\n",
       "</table>\n",
       "</div>"
      ],
      "text/plain": [
       "                    name  best_score  \\\n",
       "0  RandomForestRegressor   -0.136071   \n",
       "\n",
       "                                     best_params  \n",
       "0  {'min_samples_split': 2, 'n_estimators': 300}  "
      ]
     },
     "execution_count": 29,
     "metadata": {},
     "output_type": "execute_result"
    }
   ],
   "source": [
    "tuning_parameters = {\n",
    "        'RandomForestRegressor': {\n",
    "            'n_estimators': [50, 100, 300],\n",
    "            'min_samples_split': [2, 4, 6, 8, 10]\n",
    "        }\n",
    "    }\n",
    "\n",
    "model = RandomForestRegressor(random_state=0, oob_score=True)\n",
    "\n",
    "tuneParameters([model], tuning_parameters, X_train, Y_train, 'neg_root_mean_squared_error', n_core)"
   ]
  },
  {
   "cell_type": "code",
   "execution_count": 21,
   "metadata": {},
   "outputs": [],
   "source": [
    "model = RandomForestRegressor(n_estimators=300, min_samples_split=10, random_state=0, oob_score=True)\n",
    "predict(model, X_train, Y_train, X_test, True, id, label)"
   ]
  },
  {
   "cell_type": "markdown",
   "metadata": {},
   "source": [
    "## Remove Outliers"
   ]
  },
  {
   "cell_type": "code",
   "execution_count": 70,
   "metadata": {},
   "outputs": [],
   "source": [
    "train_data_new = train_data.drop(train_data[(train_data['OverallQual']==4) & (train_data['SalePrice']>200000)].index)\n",
    "train_data_new = train_data_new.drop(train_data_new[(train_data_new['GrLivArea']>4000) & (train_data_new['SalePrice']<300000)].index)"
   ]
  },
  {
   "cell_type": "code",
   "execution_count": 71,
   "metadata": {},
   "outputs": [
    {
     "name": "stdout",
     "output_type": "stream",
     "text": [
      "Index(['MSSubClass', 'MSZoning', 'LotFrontage', 'LotArea', 'Street', 'Alley',\n",
      "       'LotShape', 'LandContour', 'Utilities', 'LotConfig', 'LandSlope',\n",
      "       'Neighborhood', 'Condition1', 'Condition2', 'BldgType', 'HouseStyle',\n",
      "       'OverallQual', 'OverallCond', 'YearBuilt', 'YearRemodAdd', 'RoofStyle',\n",
      "       'RoofMatl', 'Exterior1st', 'Exterior2nd', 'MasVnrType', 'MasVnrArea',\n",
      "       'ExterQual', 'ExterCond', 'Foundation', 'BsmtQual', 'BsmtCond',\n",
      "       'BsmtExposure', 'BsmtFinType1', 'BsmtFinSF1', 'BsmtFinType2',\n",
      "       'BsmtFinSF2', 'BsmtUnfSF', 'TotalBsmtSF', 'Heating', 'HeatingQC',\n",
      "       'CentralAir', 'Electrical', '1stFlrSF', '2ndFlrSF', 'LowQualFinSF',\n",
      "       'GrLivArea', 'BsmtFullBath', 'BsmtHalfBath', 'FullBath', 'HalfBath',\n",
      "       'BedroomAbvGr', 'KitchenAbvGr', 'KitchenQual', 'TotRmsAbvGrd',\n",
      "       'Functional', 'Fireplaces', 'FireplaceQu', 'GarageType', 'GarageYrBlt',\n",
      "       'GarageFinish', 'GarageCars', 'GarageArea', 'GarageQual', 'GarageCond',\n",
      "       'PavedDrive', 'WoodDeckSF', 'OpenPorchSF', 'EnclosedPorch', '3SsnPorch',\n",
      "       'ScreenPorch', 'PoolArea', 'PoolQC', 'Fence', 'MiscFeature', 'MiscVal',\n",
      "       'MoSold', 'YrSold', 'SaleType', 'SaleCondition'],\n",
      "      dtype='object')\n"
     ]
    }
   ],
   "source": [
    "columns_to_drop = ['Id']\n",
    "X_train, Y_train, X_test = prepareDataDrop(columns_to_drop, label, train_data_new, test_data, True)\n",
    "print(X_train.columns)"
   ]
  },
  {
   "cell_type": "code",
   "execution_count": 72,
   "metadata": {},
   "outputs": [
    {
     "name": "stdout",
     "output_type": "stream",
     "text": [
      "(1457, 244) (1459, 244)\n"
     ]
    }
   ],
   "source": [
    "X_train, X_test = preprocess(X_train, X_test)\n",
    "print(X_train.shape, X_test.shape)"
   ]
  },
  {
   "cell_type": "code",
   "execution_count": 23,
   "metadata": {},
   "outputs": [
    {
     "name": "stdout",
     "output_type": "stream",
     "text": [
      "                        name  score_mean\n",
      "0           LinearRegression    0.122964\n",
      "1                      Lasso    0.164459\n",
      "2                      Ridge    0.113877\n",
      "3      DecisionTreeRegressor    0.195040\n",
      "4      RandomForestRegressor    0.128458\n",
      "5  GradientBoostingRegressor    0.117576\n",
      "6               XGBRegressor    0.126859\n",
      "7          CatBoostRegressor    0.107263\n"
     ]
    }
   ],
   "source": [
    "cv_results = evaluation(models, X_train, Y_train, 'neg_root_mean_squared_error', n_core)\n",
    "print(cv_results)"
   ]
  },
  {
   "cell_type": "code",
   "execution_count": 24,
   "metadata": {},
   "outputs": [
    {
     "data": {
      "text/html": [
       "<div>\n",
       "<style scoped>\n",
       "    .dataframe tbody tr th:only-of-type {\n",
       "        vertical-align: middle;\n",
       "    }\n",
       "\n",
       "    .dataframe tbody tr th {\n",
       "        vertical-align: top;\n",
       "    }\n",
       "\n",
       "    .dataframe thead th {\n",
       "        text-align: right;\n",
       "    }\n",
       "</style>\n",
       "<table border=\"1\" class=\"dataframe\">\n",
       "  <thead>\n",
       "    <tr style=\"text-align: right;\">\n",
       "      <th></th>\n",
       "      <th>name</th>\n",
       "      <th>best_score</th>\n",
       "      <th>best_params</th>\n",
       "    </tr>\n",
       "  </thead>\n",
       "  <tbody>\n",
       "    <tr>\n",
       "      <th>0</th>\n",
       "      <td>RandomForestRegressor</td>\n",
       "      <td>0.127632</td>\n",
       "      <td>{'min_samples_split': 4, 'n_estimators': 300}</td>\n",
       "    </tr>\n",
       "  </tbody>\n",
       "</table>\n",
       "</div>"
      ],
      "text/plain": [
       "                    name  best_score  \\\n",
       "0  RandomForestRegressor    0.127632   \n",
       "\n",
       "                                     best_params  \n",
       "0  {'min_samples_split': 4, 'n_estimators': 300}  "
      ]
     },
     "execution_count": 24,
     "metadata": {},
     "output_type": "execute_result"
    }
   ],
   "source": [
    "tuning_parameters = {\n",
    "        'RandomForestRegressor': {\n",
    "            'n_estimators': [50, 100, 300],\n",
    "            'min_samples_split': [2, 4, 6, 8, 10]\n",
    "        }\n",
    "    }\n",
    "\n",
    "model = RandomForestRegressor(random_state=0, oob_score=True)\n",
    "\n",
    "tuneParameters([model], tuning_parameters, X_train, Y_train, 'neg_root_mean_squared_error', n_core)"
   ]
  },
  {
   "cell_type": "code",
   "execution_count": 25,
   "metadata": {},
   "outputs": [],
   "source": [
    "model = RandomForestRegressor(n_estimators=300, min_samples_split=4, random_state=0, oob_score=True)\n",
    "predict(model, X_train, Y_train, X_test, True, id, label)"
   ]
  },
  {
   "cell_type": "markdown",
   "metadata": {},
   "source": [
    "## Top 10 Features"
   ]
  },
  {
   "cell_type": "code",
   "execution_count": 91,
   "metadata": {},
   "outputs": [
    {
     "name": "stdout",
     "output_type": "stream",
     "text": [
      "Index(['OverallQual', 'GrLivArea', 'GarageCars', 'TotalBsmtSF', 'FullBath'], dtype='object')\n"
     ]
    }
   ],
   "source": [
    "train_data_new = train_data.drop(train_data[(train_data['OverallQual']==4) & (train_data['SalePrice']>200000)].index)\n",
    "train_data_new = train_data_new.drop(train_data_new[(train_data_new['GrLivArea']>4000) & (train_data_new['SalePrice']<300000)].index)\n",
    "\n",
    "columns_to_select = ['OverallQual', 'GrLivArea', 'GarageCars', 'TotalBsmtSF', 'FullBath']\n",
    "X_train, Y_train, X_test = prepareDataSelect(columns_to_select, label, train_data_new, test_data, True)\n",
    "print(X_train.columns)"
   ]
  },
  {
   "cell_type": "code",
   "execution_count": 92,
   "metadata": {},
   "outputs": [
    {
     "name": "stdout",
     "output_type": "stream",
     "text": [
      "(1457, 5) (1459, 5)\n"
     ]
    }
   ],
   "source": [
    "X_train, X_test = preprocess(X_train, X_test)\n",
    "print(X_train.shape, X_test.shape)"
   ]
  },
  {
   "cell_type": "code",
   "execution_count": 30,
   "metadata": {},
   "outputs": [
    {
     "name": "stdout",
     "output_type": "stream",
     "text": [
      "                        name  score_mean\n",
      "0           LinearRegression    0.160072\n",
      "1                      Lasso    0.223392\n",
      "2                      Ridge    0.160073\n",
      "3      DecisionTreeRegressor    0.225016\n",
      "4      RandomForestRegressor    0.165167\n",
      "5  GradientBoostingRegressor    0.155705\n",
      "6               XGBRegressor    0.171244\n",
      "7          CatBoostRegressor    0.157339\n"
     ]
    }
   ],
   "source": [
    "cv_results = evaluation(models, X_train, Y_train, 'neg_root_mean_squared_error', n_core)\n",
    "print(cv_results)"
   ]
  },
  {
   "cell_type": "code",
   "execution_count": 31,
   "metadata": {},
   "outputs": [
    {
     "data": {
      "text/html": [
       "<div>\n",
       "<style scoped>\n",
       "    .dataframe tbody tr th:only-of-type {\n",
       "        vertical-align: middle;\n",
       "    }\n",
       "\n",
       "    .dataframe tbody tr th {\n",
       "        vertical-align: top;\n",
       "    }\n",
       "\n",
       "    .dataframe thead th {\n",
       "        text-align: right;\n",
       "    }\n",
       "</style>\n",
       "<table border=\"1\" class=\"dataframe\">\n",
       "  <thead>\n",
       "    <tr style=\"text-align: right;\">\n",
       "      <th></th>\n",
       "      <th>name</th>\n",
       "      <th>best_score</th>\n",
       "      <th>best_params</th>\n",
       "    </tr>\n",
       "  </thead>\n",
       "  <tbody>\n",
       "    <tr>\n",
       "      <th>0</th>\n",
       "      <td>RandomForestRegressor</td>\n",
       "      <td>0.160232</td>\n",
       "      <td>{'min_samples_split': 10, 'n_estimators': 300}</td>\n",
       "    </tr>\n",
       "  </tbody>\n",
       "</table>\n",
       "</div>"
      ],
      "text/plain": [
       "                    name  best_score  \\\n",
       "0  RandomForestRegressor    0.160232   \n",
       "\n",
       "                                      best_params  \n",
       "0  {'min_samples_split': 10, 'n_estimators': 300}  "
      ]
     },
     "execution_count": 31,
     "metadata": {},
     "output_type": "execute_result"
    }
   ],
   "source": [
    "tuning_parameters = {\n",
    "        'RandomForestRegressor': {\n",
    "            'n_estimators': [50, 100, 300],\n",
    "            'min_samples_split': [2, 4, 6, 8, 10]\n",
    "        }\n",
    "    }\n",
    "\n",
    "model = RandomForestRegressor(random_state=0, oob_score=True)\n",
    "\n",
    "tuneParameters([model], tuning_parameters, X_train, Y_train, 'neg_root_mean_squared_error', n_core)"
   ]
  },
  {
   "cell_type": "markdown",
   "metadata": {},
   "source": [
    "## Drop Duplicated Features"
   ]
  },
  {
   "cell_type": "code",
   "execution_count": 93,
   "metadata": {},
   "outputs": [
    {
     "name": "stdout",
     "output_type": "stream",
     "text": [
      "Index(['MSSubClass', 'MSZoning', 'LotFrontage', 'LotArea', 'Street', 'Alley',\n",
      "       'LotShape', 'LandContour', 'Utilities', 'LotConfig', 'LandSlope',\n",
      "       'Neighborhood', 'Condition1', 'Condition2', 'BldgType', 'HouseStyle',\n",
      "       'OverallQual', 'OverallCond', 'YearBuilt', 'YearRemodAdd', 'RoofStyle',\n",
      "       'RoofMatl', 'Exterior1st', 'Exterior2nd', 'MasVnrType', 'MasVnrArea',\n",
      "       'ExterQual', 'ExterCond', 'Foundation', 'BsmtQual', 'BsmtExposure',\n",
      "       'BsmtFinType1', 'BsmtFinType2', 'BsmtUnfSF', 'TotalBsmtSF', 'Heating',\n",
      "       'HeatingQC', 'CentralAir', 'Electrical', '1stFlrSF', '2ndFlrSF',\n",
      "       'LowQualFinSF', 'GrLivArea', 'BsmtFullBath', 'BsmtHalfBath', 'FullBath',\n",
      "       'HalfBath', 'BedroomAbvGr', 'KitchenAbvGr', 'KitchenQual',\n",
      "       'TotRmsAbvGrd', 'Functional', 'Fireplaces', 'FireplaceQu', 'GarageType',\n",
      "       'GarageCars', 'PavedDrive', 'WoodDeckSF', 'OpenPorchSF',\n",
      "       'EnclosedPorch', '3SsnPorch', 'ScreenPorch', 'PoolArea', 'PoolQC',\n",
      "       'Fence', 'MiscFeature', 'MiscVal', 'MoSold', 'YrSold', 'SaleType',\n",
      "       'SaleCondition'],\n",
      "      dtype='object')\n"
     ]
    }
   ],
   "source": [
    "train_data_new = train_data.drop(train_data[(train_data['OverallQual']==4) & (train_data['SalePrice']>200000)].index)\n",
    "train_data_new = train_data_new.drop(train_data_new[(train_data_new['GrLivArea']>4000) & (train_data_new['SalePrice']<300000)].index)\n",
    "\n",
    "columns_to_drop = ['Id', 'GarageArea', 'GarageYrBlt', 'GarageFinish', 'GarageQual', 'GarageCond', 'BsmtCond', 'BsmtFinSF1', 'BsmtFinSF2']\n",
    "X_train, Y_train, X_test = prepareDataDrop(columns_to_drop, label, train_data_new, test_data, True)\n",
    "print(X_train.columns)"
   ]
  },
  {
   "cell_type": "code",
   "execution_count": 94,
   "metadata": {},
   "outputs": [
    {
     "name": "stdout",
     "output_type": "stream",
     "text": [
      "(1457, 236) (1459, 236)\n"
     ]
    }
   ],
   "source": [
    "X_train, X_test = preprocess(X_train, X_test)\n",
    "print(X_train.shape, X_test.shape)"
   ]
  },
  {
   "cell_type": "code",
   "execution_count": 34,
   "metadata": {},
   "outputs": [
    {
     "name": "stdout",
     "output_type": "stream",
     "text": [
      "                        name  score_mean\n",
      "0           LinearRegression    0.122518\n",
      "1                      Lasso    0.172266\n",
      "2                      Ridge    0.114146\n",
      "3      DecisionTreeRegressor    0.196435\n",
      "4      RandomForestRegressor    0.129300\n",
      "5  GradientBoostingRegressor    0.116507\n",
      "6               XGBRegressor    0.127121\n",
      "7          CatBoostRegressor    0.109326\n"
     ]
    }
   ],
   "source": [
    "cv_results = evaluation(models, X_train, Y_train, 'neg_root_mean_squared_error', n_core)\n",
    "print(cv_results)"
   ]
  },
  {
   "cell_type": "code",
   "execution_count": 35,
   "metadata": {},
   "outputs": [
    {
     "data": {
      "text/html": [
       "<div>\n",
       "<style scoped>\n",
       "    .dataframe tbody tr th:only-of-type {\n",
       "        vertical-align: middle;\n",
       "    }\n",
       "\n",
       "    .dataframe tbody tr th {\n",
       "        vertical-align: top;\n",
       "    }\n",
       "\n",
       "    .dataframe thead th {\n",
       "        text-align: right;\n",
       "    }\n",
       "</style>\n",
       "<table border=\"1\" class=\"dataframe\">\n",
       "  <thead>\n",
       "    <tr style=\"text-align: right;\">\n",
       "      <th></th>\n",
       "      <th>name</th>\n",
       "      <th>best_score</th>\n",
       "      <th>best_params</th>\n",
       "    </tr>\n",
       "  </thead>\n",
       "  <tbody>\n",
       "    <tr>\n",
       "      <th>0</th>\n",
       "      <td>RandomForestRegressor</td>\n",
       "      <td>0.128318</td>\n",
       "      <td>{'min_samples_split': 4, 'n_estimators': 300}</td>\n",
       "    </tr>\n",
       "  </tbody>\n",
       "</table>\n",
       "</div>"
      ],
      "text/plain": [
       "                    name  best_score  \\\n",
       "0  RandomForestRegressor    0.128318   \n",
       "\n",
       "                                     best_params  \n",
       "0  {'min_samples_split': 4, 'n_estimators': 300}  "
      ]
     },
     "execution_count": 35,
     "metadata": {},
     "output_type": "execute_result"
    }
   ],
   "source": [
    "tuning_parameters = {\n",
    "        'RandomForestRegressor': {\n",
    "            'n_estimators': [50, 100, 300],\n",
    "            'min_samples_split': [2, 4, 6, 8, 10]\n",
    "        }\n",
    "    }\n",
    "\n",
    "model = RandomForestRegressor(random_state=0, oob_score=True)\n",
    "\n",
    "tuneParameters([model], tuning_parameters, X_train, Y_train, 'neg_root_mean_squared_error', n_core)"
   ]
  },
  {
   "cell_type": "markdown",
   "metadata": {},
   "source": [
    "## Take Log of Top 10 Features"
   ]
  },
  {
   "cell_type": "code",
   "execution_count": 95,
   "metadata": {},
   "outputs": [],
   "source": [
    "train_data_new = train_data.drop(train_data[(train_data['OverallQual']==4) & (train_data['SalePrice']>200000)].index)\n",
    "train_data_new = train_data_new.drop(train_data_new[(train_data_new['GrLivArea']>4000) & (train_data_new['SalePrice']<300000)].index)\n",
    "\n",
    "train_data_new['GrLivArea'] = np.log1p(train_data_new['GrLivArea'])\n",
    "train_data_new['TotalBsmtSF'] = np.log1p(train_data_new['TotalBsmtSF'])\n",
    "\n",
    "test_data_new = test_data.copy()\n",
    "\n",
    "test_data_new['GrLivArea'] = np.log1p(test_data_new['GrLivArea'])\n",
    "test_data_new['TotalBsmtSF'] = np.log1p(test_data_new['TotalBsmtSF'])"
   ]
  },
  {
   "cell_type": "code",
   "execution_count": 96,
   "metadata": {},
   "outputs": [
    {
     "name": "stdout",
     "output_type": "stream",
     "text": [
      "Index(['OverallQual', 'GrLivArea', 'GarageCars', 'TotalBsmtSF', 'FullBath'], dtype='object')\n"
     ]
    }
   ],
   "source": [
    "columns_to_select = ['OverallQual', 'GrLivArea', 'GarageCars', 'TotalBsmtSF', 'FullBath']\n",
    "X_train, Y_train, X_test = prepareDataSelect(columns_to_select, label, train_data_new, test_data_new, True)\n",
    "print(X_train.columns)"
   ]
  },
  {
   "cell_type": "code",
   "execution_count": 97,
   "metadata": {},
   "outputs": [
    {
     "name": "stdout",
     "output_type": "stream",
     "text": [
      "(1457, 5) (1459, 5)\n"
     ]
    }
   ],
   "source": [
    "X_train, X_test = preprocess(X_train, X_test)\n",
    "print(X_train.shape, X_test.shape)"
   ]
  },
  {
   "cell_type": "code",
   "execution_count": 39,
   "metadata": {},
   "outputs": [
    {
     "name": "stdout",
     "output_type": "stream",
     "text": [
      "                        name  score_mean\n",
      "0           LinearRegression    0.170753\n",
      "1                      Lasso    0.386474\n",
      "2                      Ridge    0.170686\n",
      "3      DecisionTreeRegressor    0.223832\n",
      "4      RandomForestRegressor    0.165115\n",
      "5  GradientBoostingRegressor    0.155808\n",
      "6               XGBRegressor    0.171244\n",
      "7          CatBoostRegressor    0.156945\n"
     ]
    }
   ],
   "source": [
    "cv_results = evaluation(models, X_train, Y_train, 'neg_root_mean_squared_error', n_core)\n",
    "print(cv_results)"
   ]
  },
  {
   "cell_type": "code",
   "execution_count": 40,
   "metadata": {},
   "outputs": [
    {
     "data": {
      "text/html": [
       "<div>\n",
       "<style scoped>\n",
       "    .dataframe tbody tr th:only-of-type {\n",
       "        vertical-align: middle;\n",
       "    }\n",
       "\n",
       "    .dataframe tbody tr th {\n",
       "        vertical-align: top;\n",
       "    }\n",
       "\n",
       "    .dataframe thead th {\n",
       "        text-align: right;\n",
       "    }\n",
       "</style>\n",
       "<table border=\"1\" class=\"dataframe\">\n",
       "  <thead>\n",
       "    <tr style=\"text-align: right;\">\n",
       "      <th></th>\n",
       "      <th>name</th>\n",
       "      <th>best_score</th>\n",
       "      <th>best_params</th>\n",
       "    </tr>\n",
       "  </thead>\n",
       "  <tbody>\n",
       "    <tr>\n",
       "      <th>0</th>\n",
       "      <td>RandomForestRegressor</td>\n",
       "      <td>0.160311</td>\n",
       "      <td>{'min_samples_split': 10, 'n_estimators': 300}</td>\n",
       "    </tr>\n",
       "  </tbody>\n",
       "</table>\n",
       "</div>"
      ],
      "text/plain": [
       "                    name  best_score  \\\n",
       "0  RandomForestRegressor    0.160311   \n",
       "\n",
       "                                      best_params  \n",
       "0  {'min_samples_split': 10, 'n_estimators': 300}  "
      ]
     },
     "execution_count": 40,
     "metadata": {},
     "output_type": "execute_result"
    }
   ],
   "source": [
    "tuning_parameters = {\n",
    "        'RandomForestRegressor': {\n",
    "            'n_estimators': [50, 100, 300],\n",
    "            'min_samples_split': [2, 4, 6, 8, 10]\n",
    "        }\n",
    "    }\n",
    "\n",
    "model = RandomForestRegressor(random_state=0, oob_score=True)\n",
    "\n",
    "tuneParameters([model], tuning_parameters, X_train, Y_train, 'neg_root_mean_squared_error', n_core)"
   ]
  },
  {
   "cell_type": "markdown",
   "metadata": {},
   "source": [
    "##  Drop Duplicated Features and Take Log"
   ]
  },
  {
   "cell_type": "code",
   "execution_count": 12,
   "metadata": {},
   "outputs": [
    {
     "name": "stdout",
     "output_type": "stream",
     "text": [
      "Index(['LotFrontage', 'LotArea', 'Street', 'OverallCond', 'MasVnrArea',\n",
      "       'ExterQual', 'ExterCond', 'BsmtExposure', 'BsmtFinSF1', 'BsmtFinType2',\n",
      "       'BsmtFinSF2', 'BsmtUnfSF', 'TotalBsmtSF', '1stFlrSF', '2ndFlrSF',\n",
      "       'LowQualFinSF', 'GrLivArea', 'BsmtFullBath', 'BsmtHalfBath', 'HalfBath',\n",
      "       'KitchenAbvGr', 'TotRmsAbvGrd', 'Fireplaces', 'WoodDeckSF',\n",
      "       'OpenPorchSF', 'EnclosedPorch', '3SsnPorch', 'ScreenPorch', 'PoolArea',\n",
      "       'PoolQC', 'Fence', 'MiscVal', 'SalePrice'],\n",
      "      dtype='object')\n"
     ]
    }
   ],
   "source": [
    "train_data_new = train_data.drop(train_data[(train_data['OverallQual']==4) & (train_data['SalePrice']>200000)].index)\n",
    "train_data_new = train_data_new.drop(train_data_new[(train_data_new['GrLivArea']>4000) & (train_data_new['SalePrice']<300000)].index)\n",
    "\n",
    "skews = train_data_new.select_dtypes(include='number').skew()\n",
    "columns_skew = skews[skews > 0.5].index\n",
    "\n",
    "print(columns_skew)"
   ]
  },
  {
   "cell_type": "code",
   "execution_count": 14,
   "metadata": {},
   "outputs": [],
   "source": [
    "columns_to_log = ['LotFrontage', 'LotArea', 'MasVnrArea', \n",
    "                  'BsmtFinSF1', 'BsmtFinSF2', 'BsmtUnfSF', \n",
    "                  'TotalBsmtSF', '1stFlrSF', '2ndFlrSF', \n",
    "                  'LowQualFinSF', 'GrLivArea', 'WoodDeckSF', \n",
    "                  'OpenPorchSF', 'EnclosedPorch', '3SsnPorch', \n",
    "                  'ScreenPorch', 'PoolArea', 'MiscVal']\n",
    "\n",
    "train_data_new[columns_to_log] = np.log1p(train_data_new[columns_to_log])\n",
    "\n",
    "test_data_new = test_data.copy()\n",
    "test_data_new[columns_to_log] = np.log1p(test_data_new[columns_to_log])"
   ]
  },
  {
   "cell_type": "code",
   "execution_count": 15,
   "metadata": {},
   "outputs": [
    {
     "name": "stdout",
     "output_type": "stream",
     "text": [
      "Index(['MSSubClass', 'MSZoning', 'LotFrontage', 'LotArea', 'Street', 'Alley',\n",
      "       'LotShape', 'LandContour', 'Utilities', 'LotConfig', 'LandSlope',\n",
      "       'Neighborhood', 'Condition1', 'Condition2', 'BldgType', 'HouseStyle',\n",
      "       'OverallQual', 'OverallCond', 'YearBuilt', 'YearRemodAdd', 'RoofStyle',\n",
      "       'RoofMatl', 'Exterior1st', 'Exterior2nd', 'MasVnrType', 'MasVnrArea',\n",
      "       'ExterQual', 'ExterCond', 'Foundation', 'BsmtQual', 'BsmtExposure',\n",
      "       'BsmtFinType1', 'BsmtFinType2', 'BsmtUnfSF', 'TotalBsmtSF', 'Heating',\n",
      "       'HeatingQC', 'CentralAir', 'Electrical', '1stFlrSF', '2ndFlrSF',\n",
      "       'LowQualFinSF', 'GrLivArea', 'BsmtFullBath', 'BsmtHalfBath', 'FullBath',\n",
      "       'HalfBath', 'BedroomAbvGr', 'KitchenAbvGr', 'KitchenQual',\n",
      "       'TotRmsAbvGrd', 'Functional', 'Fireplaces', 'FireplaceQu', 'GarageType',\n",
      "       'GarageCars', 'PavedDrive', 'WoodDeckSF', 'OpenPorchSF',\n",
      "       'EnclosedPorch', '3SsnPorch', 'ScreenPorch', 'PoolArea', 'PoolQC',\n",
      "       'Fence', 'MiscFeature', 'MiscVal', 'MoSold', 'YrSold', 'SaleType',\n",
      "       'SaleCondition'],\n",
      "      dtype='object')\n"
     ]
    }
   ],
   "source": [
    "columns_to_drop = ['Id', 'GarageArea', 'GarageYrBlt', 'GarageFinish', 'GarageQual', 'GarageCond', 'BsmtCond', 'BsmtFinSF1', 'BsmtFinSF2']\n",
    "X_train, Y_train, X_test = prepareDataDrop(columns_to_drop, label, train_data_new, test_data_new, True)\n",
    "print(X_train.columns)"
   ]
  },
  {
   "cell_type": "code",
   "execution_count": 16,
   "metadata": {},
   "outputs": [
    {
     "name": "stdout",
     "output_type": "stream",
     "text": [
      "(1457, 236) (1459, 236)\n"
     ]
    }
   ],
   "source": [
    "X_train, X_test = preprocess(X_train, X_test)\n",
    "print(X_train.shape, X_test.shape)"
   ]
  },
  {
   "cell_type": "code",
   "execution_count": 17,
   "metadata": {},
   "outputs": [
    {
     "name": "stdout",
     "output_type": "stream",
     "text": [
      "                        name    score_mean\n",
      "0           LinearRegression  2.267725e+06\n",
      "1                      Lasso  2.916569e-01\n",
      "2                      Ridge  1.217598e-01\n",
      "3      DecisionTreeRegressor  1.964215e-01\n",
      "4      RandomForestRegressor  1.294068e-01\n",
      "5  GradientBoostingRegressor  1.164239e-01\n",
      "6               XGBRegressor  1.271215e-01\n",
      "7          CatBoostRegressor  1.093189e-01\n"
     ]
    }
   ],
   "source": [
    "cv_results = evaluation(models, X_train, Y_train, 'neg_root_mean_squared_error', n_core)\n",
    "print(cv_results)"
   ]
  },
  {
   "cell_type": "code",
   "execution_count": 18,
   "metadata": {},
   "outputs": [
    {
     "data": {
      "text/html": [
       "<div>\n",
       "<style scoped>\n",
       "    .dataframe tbody tr th:only-of-type {\n",
       "        vertical-align: middle;\n",
       "    }\n",
       "\n",
       "    .dataframe tbody tr th {\n",
       "        vertical-align: top;\n",
       "    }\n",
       "\n",
       "    .dataframe thead th {\n",
       "        text-align: right;\n",
       "    }\n",
       "</style>\n",
       "<table border=\"1\" class=\"dataframe\">\n",
       "  <thead>\n",
       "    <tr style=\"text-align: right;\">\n",
       "      <th></th>\n",
       "      <th>name</th>\n",
       "      <th>best_score</th>\n",
       "      <th>best_params</th>\n",
       "    </tr>\n",
       "  </thead>\n",
       "  <tbody>\n",
       "    <tr>\n",
       "      <th>0</th>\n",
       "      <td>RandomForestRegressor</td>\n",
       "      <td>0.128372</td>\n",
       "      <td>{'min_samples_split': 4, 'n_estimators': 300}</td>\n",
       "    </tr>\n",
       "  </tbody>\n",
       "</table>\n",
       "</div>"
      ],
      "text/plain": [
       "                    name  best_score  \\\n",
       "0  RandomForestRegressor    0.128372   \n",
       "\n",
       "                                     best_params  \n",
       "0  {'min_samples_split': 4, 'n_estimators': 300}  "
      ]
     },
     "execution_count": 18,
     "metadata": {},
     "output_type": "execute_result"
    }
   ],
   "source": [
    "tuning_parameters = {\n",
    "        'RandomForestRegressor': {\n",
    "            'n_estimators': [50, 100, 300],\n",
    "            'min_samples_split': [2, 4, 6, 8, 10]\n",
    "        }\n",
    "    }\n",
    "\n",
    "model = RandomForestRegressor(random_state=0, oob_score=True)\n",
    "\n",
    "tuneParameters([model], tuning_parameters, X_train, Y_train, 'neg_root_mean_squared_error', n_core)"
   ]
  },
  {
   "cell_type": "markdown",
   "metadata": {},
   "source": [
    "## New Features"
   ]
  },
  {
   "cell_type": "code",
   "execution_count": 12,
   "metadata": {},
   "outputs": [],
   "source": [
    "train_data_new, test_data_new = train_data.copy(), test_data.copy()\n",
    "\n",
    "train_data_new['TotalSF'] = train_data_new[['TotalBsmtSF', '1stFlrSF', '2ndFlrSF']].sum(axis=1)\n",
    "test_data_new['TotalSF'] = test_data_new[['TotalBsmtSF', '1stFlrSF', '2ndFlrSF']].sum(axis=1)\n",
    "\n",
    "train_data_new['TotalFinSF'] = train_data_new[['BsmtFinSF1', 'BsmtFinSF2', '1stFlrSF', '2ndFlrSF']].sum(axis=1)\n",
    "test_data_new['TotalFinSF'] = test_data_new[['BsmtFinSF1', 'BsmtFinSF2', '1stFlrSF', '2ndFlrSF']].sum(axis=1)\n",
    "\n",
    "train_data_new['YearSinceBuilt'] = train_data_new['YrSold'] - train_data_new['YearBuilt']\n",
    "test_data_new['YearSinceBuilt'] = test_data_new['YrSold'] - test_data_new['YearBuilt']\n",
    "\n",
    "train_data_new['YearSinceRemod'] = train_data_new['YrSold'] - train_data_new['YearRemodAdd']\n",
    "test_data_new['YearSinceRemod'] = test_data_new['YrSold'] - test_data_new['YearRemodAdd']\n",
    "\n",
    "train_data_new['TotalBath'] = train_data_new[['FullBath', 'HalfBath', 'BsmtFullBath', 'BsmtHalfBath']].sum(axis=1)\n",
    "test_data_new['TotalBath'] = test_data_new[['FullBath', 'HalfBath', 'BsmtFullBath', 'BsmtHalfBath']].sum(axis=1)\n",
    "\n",
    "train_data_new['TotalPorch'] = train_data_new[['OpenPorchSF', 'EnclosedPorch', '3SsnPorch', 'ScreenPorch']].sum(axis=1)\n",
    "test_data_new['TotalPorch'] = test_data_new[['OpenPorchSF', 'EnclosedPorch', '3SsnPorch', 'ScreenPorch']].sum(axis=1)\n",
    "\n",
    "train_data_new['HasPool'] = train_data_new['PoolArea'].apply(lambda x: 1 if x > 0 else 0)\n",
    "test_data_new['HasPool'] = test_data_new['PoolArea'].apply(lambda x: 1 if x > 0 else 0)\n",
    "\n",
    "train_data_new['Has2ndFloor'] = train_data_new['2ndFlrSF'].apply(lambda x: 1 if x > 0 else 0)\n",
    "test_data_new['Has2ndFloor'] = test_data_new['2ndFlrSF'].apply(lambda x: 1 if x > 0 else 0)\n",
    "\n",
    "train_data_new['HasBsmt'] = train_data_new['TotalBsmtSF'].apply(lambda x: 1 if x > 0 else 0)\n",
    "test_data_new['HasBsmt'] = test_data_new['TotalBsmtSF'].apply(lambda x: 1 if x > 0 else 0)\n",
    "\n",
    "train_data_new['HasFireplace'] = train_data_new['Fireplaces'].apply(lambda x: 1 if x > 0 else 0)\n",
    "test_data_new['HasFireplace'] = test_data_new['Fireplaces'].apply(lambda x: 1 if x > 0 else 0)\n",
    "\n",
    "train_data_new['HasGarage'] = train_data_new['GarageArea'].apply(lambda x: 1 if x > 0 else 0)\n",
    "test_data_new['HasGarage'] = test_data_new['GarageArea'].apply(lambda x: 1 if x > 0 else 0)\n",
    "\n",
    "train_data_new['HasFence'] = train_data_new['Fence'].apply(lambda x: 1 if x > 0 else 0)\n",
    "test_data_new['HasFence'] = test_data_new['Fence'].apply(lambda x: 1 if x > 0 else 0)\n",
    "\n",
    "train_data_new['HasPorch'] = train_data_new['TotalPorch'].apply(lambda x: 1 if x > 0 else 0)\n",
    "test_data_new['HasPorch'] = test_data_new['TotalPorch'].apply(lambda x: 1 if x > 0 else 0)"
   ]
  },
  {
   "cell_type": "code",
   "execution_count": 13,
   "metadata": {},
   "outputs": [
    {
     "name": "stdout",
     "output_type": "stream",
     "text": [
      "Index(['MSSubClass', 'MSZoning', 'LotFrontage', 'LotArea', 'Street', 'Alley',\n",
      "       'LotShape', 'LandContour', 'Utilities', 'LotConfig', 'LandSlope',\n",
      "       'Neighborhood', 'Condition1', 'Condition2', 'BldgType', 'HouseStyle',\n",
      "       'OverallQual', 'OverallCond', 'YearBuilt', 'YearRemodAdd', 'RoofStyle',\n",
      "       'RoofMatl', 'Exterior1st', 'Exterior2nd', 'MasVnrType', 'MasVnrArea',\n",
      "       'ExterQual', 'ExterCond', 'Foundation', 'BsmtQual', 'BsmtExposure',\n",
      "       'BsmtFinType1', 'BsmtFinType2', 'BsmtUnfSF', 'TotalBsmtSF', 'Heating',\n",
      "       'HeatingQC', 'CentralAir', 'Electrical', '1stFlrSF', '2ndFlrSF',\n",
      "       'LowQualFinSF', 'GrLivArea', 'BsmtFullBath', 'BsmtHalfBath', 'FullBath',\n",
      "       'HalfBath', 'BedroomAbvGr', 'KitchenAbvGr', 'KitchenQual',\n",
      "       'TotRmsAbvGrd', 'Functional', 'Fireplaces', 'FireplaceQu', 'GarageType',\n",
      "       'GarageCars', 'PavedDrive', 'WoodDeckSF', 'OpenPorchSF',\n",
      "       'EnclosedPorch', '3SsnPorch', 'ScreenPorch', 'PoolArea', 'PoolQC',\n",
      "       'Fence', 'MiscFeature', 'MiscVal', 'MoSold', 'YrSold', 'SaleType',\n",
      "       'SaleCondition', 'TotalSF', 'TotalFinSF', 'YearSinceBuilt',\n",
      "       'YearSinceRemod', 'TotalBath', 'TotalPorch', 'HasPool', 'Has2ndFloor',\n",
      "       'HasBsmt', 'HasFireplace', 'HasGarage', 'HasFence', 'HasPorch'],\n",
      "      dtype='object')\n"
     ]
    }
   ],
   "source": [
    "columns_to_drop = ['Id', 'GarageArea', 'GarageYrBlt', 'GarageFinish', 'GarageQual', 'GarageCond', 'BsmtCond', 'BsmtFinSF1', 'BsmtFinSF2']\n",
    "X_train, Y_train, X_test = prepareDataDrop(columns_to_drop, label, train_data_new, test_data_new, True)\n",
    "\n",
    "columns_candidate = X_train.columns\n",
    "print(X_train.columns)"
   ]
  },
  {
   "cell_type": "code",
   "execution_count": 14,
   "metadata": {},
   "outputs": [
    {
     "name": "stdout",
     "output_type": "stream",
     "text": [
      "(1460, 250) (1459, 250)\n"
     ]
    }
   ],
   "source": [
    "X_train, X_test = preprocess(X_train, X_test)\n",
    "print(X_train.shape, X_test.shape)"
   ]
  },
  {
   "cell_type": "code",
   "execution_count": 15,
   "metadata": {},
   "outputs": [
    {
     "name": "stdout",
     "output_type": "stream",
     "text": [
      "                        name  score_mean\n",
      "0           LinearRegression    4.477229\n",
      "1                      Lasso    0.192534\n",
      "2                      Ridge    0.132930\n",
      "3      DecisionTreeRegressor    0.208323\n",
      "4      RandomForestRegressor    0.136881\n",
      "5  GradientBoostingRegressor    0.126195\n",
      "6               XGBRegressor    0.136785\n",
      "7          CatBoostRegressor    0.114024\n"
     ]
    }
   ],
   "source": [
    "cv_results = evaluation(models, X_train, Y_train, 'neg_root_mean_squared_error', n_core)\n",
    "print(cv_results)"
   ]
  },
  {
   "cell_type": "code",
   "execution_count": 16,
   "metadata": {},
   "outputs": [
    {
     "name": "stdout",
     "output_type": "stream",
     "text": [
      "MSSubClass 1\n",
      "MSZoning 1\n",
      "LotFrontage 145\n",
      "LotArea 1\n",
      "Street 1\n",
      "Alley 1\n",
      "LotShape 1\n",
      "LandContour 1\n",
      "Utilities 1\n",
      "LotConfig 1\n",
      "LandSlope 1\n",
      "Neighborhood 1\n",
      "Condition1 1\n",
      "Condition2 19\n",
      "BldgType 1\n",
      "HouseStyle 1\n",
      "OverallQual 1\n",
      "OverallCond 1\n",
      "YearBuilt 1\n",
      "YearRemodAdd 1\n",
      "RoofStyle 97\n",
      "RoofMatl 1\n",
      "Exterior1st 4\n",
      "Exterior2nd 56\n",
      "MasVnrType 1\n",
      "MasVnrArea 7\n",
      "ExterQual 1\n",
      "ExterCond 3\n",
      "Foundation 1\n",
      "BsmtQual 1\n",
      "BsmtExposure 1\n",
      "BsmtFinType1 1\n",
      "BsmtFinType2 1\n",
      "BsmtUnfSF 1\n",
      "TotalBsmtSF 1\n",
      "Heating 1\n",
      "HeatingQC 1\n",
      "CentralAir 86\n",
      "Electrical 1\n",
      "1stFlrSF 135\n",
      "2ndFlrSF 109\n",
      "LowQualFinSF 1\n",
      "GrLivArea 68\n",
      "BsmtFullBath 1\n",
      "BsmtHalfBath 1\n",
      "FullBath 1\n",
      "HalfBath 1\n",
      "BedroomAbvGr 1\n",
      "KitchenAbvGr 1\n",
      "KitchenQual 1\n",
      "TotRmsAbvGrd 1\n",
      "Functional 92\n",
      "Fireplaces 69\n",
      "FireplaceQu 121\n",
      "GarageType 11\n",
      "GarageCars 26\n",
      "PavedDrive 43\n",
      "WoodDeckSF 45\n",
      "OpenPorchSF 103\n",
      "EnclosedPorch 66\n",
      "3SsnPorch 165\n",
      "ScreenPorch 138\n",
      "PoolArea 14\n",
      "PoolQC 8\n",
      "Fence 148\n",
      "MiscFeature 146\n",
      "MiscVal 49\n",
      "MoSold 1\n",
      "YrSold 75\n",
      "SaleType 128\n",
      "SaleCondition 64\n",
      "TotalSF 141\n",
      "TotalFinSF 93\n",
      "YearSinceBuilt 1\n",
      "YearSinceRemod 101\n",
      "TotalBath 111\n",
      "TotalPorch 1\n",
      "HasPool 1\n",
      "Has2ndFloor 48\n",
      "HasBsmt 6\n",
      "HasFireplace 94\n",
      "HasGarage 17\n",
      "HasFence 110\n",
      "HasPorch 127\n"
     ]
    }
   ],
   "source": [
    "cv = ShuffleSplit(random_state=0)\n",
    "model = RandomForestRegressor(random_state=0, oob_score=True)\n",
    "selector = RFECV(estimator=model, cv=cv, scoring='neg_root_mean_squared_error', n_jobs=n_core)\n",
    "selector.fit(X_train, Y_train)\n",
    "\n",
    "for feature, rank in zip(columns_candidate, selector.ranking_):\n",
    "    print(feature, rank)"
   ]
  }
 ],
 "metadata": {
  "kernelspec": {
   "display_name": "ml2",
   "language": "python",
   "name": "python3"
  },
  "language_info": {
   "codemirror_mode": {
    "name": "ipython",
    "version": 3
   },
   "file_extension": ".py",
   "mimetype": "text/x-python",
   "name": "python",
   "nbconvert_exporter": "python",
   "pygments_lexer": "ipython3",
   "version": "3.9.19"
  }
 },
 "nbformat": 4,
 "nbformat_minor": 2
}
