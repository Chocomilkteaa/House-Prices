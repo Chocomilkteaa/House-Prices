{
 "cells": [
  {
   "cell_type": "code",
   "execution_count": 1,
   "metadata": {},
   "outputs": [],
   "source": [
    "import pandas as pd\n",
    "from pandas.api.types import is_numeric_dtype\n",
    "\n",
    "import matplotlib.pyplot as plt\n",
    "\n",
    "from xgboost.sklearn import XGBRegressor\n",
    "\n",
    "from catboost import CatBoostRegressor\n",
    "\n",
    "%matplotlib inline"
   ]
  },
  {
   "cell_type": "code",
   "execution_count": 2,
   "metadata": {},
   "outputs": [
    {
     "name": "stderr",
     "output_type": "stream",
     "text": [
      "Intel(R) Extension for Scikit-learn* enabled (https://github.com/intel/scikit-learn-intelex)\n"
     ]
    }
   ],
   "source": [
    "from sklearn.base import clone\n",
    "from sklearn.preprocessing import OneHotEncoder\n",
    "from sklearn.tree import DecisionTreeRegressor\n",
    "from sklearn.ensemble import RandomForestRegressor, GradientBoostingRegressor\n",
    "from sklearn.feature_selection import RFECV\n",
    "from sklearn.model_selection import ShuffleSplit, cross_val_score, GridSearchCV\n",
    "\n",
    "from sklearnex import patch_sklearn\n",
    "\n",
    "patch_sklearn()"
   ]
  },
  {
   "cell_type": "code",
   "execution_count": 11,
   "metadata": {},
   "outputs": [],
   "source": [
    "train_data = pd.read_csv('./Data/train.csv')\n",
    "test_data = pd.read_csv('./Data/test.csv')\n",
    "\n",
    "feature = 'Street'\n",
    "train_data[feature] = train_data[feature].map({'Pave': 0, 'Grvl':1})\n",
    "test_data[feature] = test_data[feature].map({'Pave': 0, 'Grvl':1})\n",
    "\n",
    "assert(is_numeric_dtype(train_data[feature]))\n",
    "\n",
    "feature = 'MasVnrType'\n",
    "train_data[feature] = train_data[feature].fillna('None')\n",
    "test_data[feature] = test_data[feature].fillna('None')\n",
    "\n",
    "assert(train_data[feature].isna().sum() == 0)\n",
    "\n",
    "quality_map = {'Po':1, 'Fa':2, 'TA':3, 'Gd':4, 'Ex':5}\n",
    "\n",
    "feature = 'ExterQual'\n",
    "train_data[feature] = train_data[feature].map(quality_map)\n",
    "test_data[feature] = test_data[feature].map(quality_map)\n",
    "\n",
    "assert(is_numeric_dtype(train_data[feature]))\n",
    "\n",
    "feature = 'ExterCond'\n",
    "train_data[feature] = train_data[feature].map(quality_map)\n",
    "test_data[feature] = test_data[feature].map(quality_map)\n",
    "\n",
    "assert(is_numeric_dtype(train_data[feature]))\n",
    "\n",
    "feature = 'BsmtQual'\n",
    "train_data[feature] = train_data[feature].map(quality_map)\n",
    "test_data[feature] = test_data[feature].map(quality_map)\n",
    "train_data[feature] = train_data[feature].fillna(0)\n",
    "test_data[feature] = test_data[feature].fillna(0)\n",
    "\n",
    "assert(is_numeric_dtype(train_data[feature]))\n",
    "assert(train_data[feature].isna().sum() == 0)\n",
    "\n",
    "feature = 'BsmtCond'\n",
    "train_data[feature] = train_data[feature].map(quality_map)\n",
    "test_data[feature] = test_data[feature].map(quality_map)\n",
    "train_data[feature] = train_data[feature].fillna(0)\n",
    "test_data[feature] = test_data[feature].fillna(0)\n",
    "\n",
    "assert(is_numeric_dtype(train_data[feature]))\n",
    "assert(train_data[feature].isna().sum() == 0)\n",
    "\n",
    "exposure_map = {'No':1, 'Mn':2, 'Av':3, 'Gd':4}\n",
    "\n",
    "feature = 'BsmtExposure'\n",
    "train_data[feature] = train_data[feature].map(exposure_map)\n",
    "test_data[feature] = test_data[feature].map(exposure_map)\n",
    "train_data[feature] = train_data[feature].fillna(0)\n",
    "test_data[feature] = test_data[feature].fillna(0)\n",
    "\n",
    "assert(is_numeric_dtype(train_data[feature]))\n",
    "assert(train_data[feature].isna().sum() == 0)\n",
    "\n",
    "type_map = {'Unf':1, 'LwQ':2, 'Rec':3, 'BLQ':4, 'ALQ':5, 'GLQ':6}\n",
    "\n",
    "feature = 'BsmtFinType1'\n",
    "train_data[feature] = train_data[feature].map(type_map)\n",
    "test_data[feature] = test_data[feature].map(type_map)\n",
    "train_data[feature] = train_data[feature].fillna(0)\n",
    "test_data[feature] = test_data[feature].fillna(0)\n",
    "\n",
    "assert(is_numeric_dtype(train_data[feature]))\n",
    "assert(train_data[feature].isna().sum() == 0)\n",
    "\n",
    "feature = 'BsmtFinType2'\n",
    "train_data[feature] = train_data[feature].map(type_map)\n",
    "test_data[feature] = test_data[feature].map(type_map)\n",
    "train_data[feature] = train_data[feature].fillna(0)\n",
    "test_data[feature] = test_data[feature].fillna(0)\n",
    "\n",
    "assert(is_numeric_dtype(train_data[feature]))\n",
    "assert(train_data[feature].isna().sum() == 0)\n",
    "\n",
    "feature = 'HeatingQC'\n",
    "train_data[feature] = train_data[feature].map(quality_map)\n",
    "test_data[feature] = test_data[feature].map(quality_map)\n",
    "\n",
    "assert(is_numeric_dtype(train_data[feature]))\n",
    "\n",
    "feature = 'CentralAir'\n",
    "train_data[feature] = train_data[feature].map({'N': 0, 'Y':1})\n",
    "test_data[feature] = test_data[feature].map({'N': 0, 'Y':1})\n",
    "\n",
    "assert(is_numeric_dtype(train_data[feature]))\n",
    "\n",
    "feature = 'KitchenQual'\n",
    "train_data[feature] = train_data[feature].map(quality_map)\n",
    "test_data[feature] = test_data[feature].map(quality_map)\n",
    "\n",
    "assert(is_numeric_dtype(train_data[feature]))\n",
    "\n",
    "function_map = {'Sal':1, 'Sev':2, 'Maj2':3, 'Maj1':4, 'Mod':5, 'Min2':6, 'Min1':7, 'Typ':8}\n",
    "\n",
    "feature = 'Functional'\n",
    "train_data[feature] = train_data[feature].map(function_map)\n",
    "test_data[feature] = test_data[feature].map(function_map)\n",
    "\n",
    "assert(is_numeric_dtype(train_data[feature]))\n",
    "\n",
    "feature = 'FireplaceQu'\n",
    "train_data[feature] = train_data[feature].map(quality_map)\n",
    "test_data[feature] = test_data[feature].map(quality_map)\n",
    "train_data[feature] = train_data[feature].fillna(0)\n",
    "test_data[feature] = test_data[feature].fillna(0)\n",
    "\n",
    "assert(is_numeric_dtype(train_data[feature]))\n",
    "assert(train_data[feature].isna().sum() == 0)\n",
    "\n",
    "exposure_map = {'Unf':1, 'RFn':2, 'Fin':3}\n",
    "\n",
    "feature = 'GarageFinish'\n",
    "train_data[feature] = train_data[feature].map(exposure_map)\n",
    "test_data[feature] = test_data[feature].map(exposure_map)\n",
    "train_data[feature] = train_data[feature].fillna(0)\n",
    "test_data[feature] = test_data[feature].fillna(0)\n",
    "\n",
    "assert(is_numeric_dtype(train_data[feature]))\n",
    "assert(train_data[feature].isna().sum() == 0)\n",
    "\n",
    "feature = 'GarageQual'\n",
    "train_data[feature] = train_data[feature].map(quality_map)\n",
    "test_data[feature] = test_data[feature].map(quality_map)\n",
    "train_data[feature] = train_data[feature].fillna(0)\n",
    "test_data[feature] = test_data[feature].fillna(0)\n",
    "\n",
    "assert(is_numeric_dtype(train_data[feature]))\n",
    "assert(train_data[feature].isna().sum() == 0)\n",
    "\n",
    "feature = 'GarageCond'\n",
    "train_data[feature] = train_data[feature].map(quality_map)\n",
    "test_data[feature] = test_data[feature].map(quality_map)\n",
    "train_data[feature] = train_data[feature].fillna(0)\n",
    "test_data[feature] = test_data[feature].fillna(0)\n",
    "\n",
    "assert(is_numeric_dtype(train_data[feature]))\n",
    "assert(train_data[feature].isna().sum() == 0)\n",
    "\n",
    "feature = 'PoolQC'\n",
    "train_data[feature] = train_data[feature].map(quality_map)\n",
    "test_data[feature] = test_data[feature].map(quality_map)\n",
    "train_data[feature] = train_data[feature].fillna(0)\n",
    "test_data[feature] = test_data[feature].fillna(0)\n",
    "\n",
    "assert(is_numeric_dtype(train_data[feature]))\n",
    "assert(train_data[feature].isna().sum() == 0)\n",
    "\n",
    "fence_map = {'MnWw':1, 'GdWo':2, 'MnPrv':3, 'GdPrv':4}\n",
    "\n",
    "feature = 'Fence'\n",
    "train_data[feature] = train_data[feature].map(fence_map)\n",
    "test_data[feature] = test_data[feature].map(fence_map)\n",
    "train_data[feature] = train_data[feature].fillna(0)\n",
    "test_data[feature] = test_data[feature].fillna(0)\n",
    "\n",
    "assert(is_numeric_dtype(train_data[feature]))\n",
    "assert(train_data[feature].isna().sum() == 0)\n",
    "\n",
    "feature = 'MiscFeature'\n",
    "train_data[feature] = train_data[feature].fillna('None')\n",
    "test_data[feature] = test_data[feature].fillna('None')\n",
    "\n",
    "assert(train_data[feature].isna().sum() == 0)\n",
    "\n",
    "columns_float = train_data.select_dtypes(include=['float64']).columns\n",
    "train_data[columns_float] = train_data[columns_float].astype('float32')\n",
    "test_data[columns_float] = test_data[columns_float].astype('float32')\n",
    "\n",
    "label = 'SalePrice'\n",
    "\n",
    "id = test_data['Id']"
   ]
  },
  {
   "cell_type": "code",
   "execution_count": 5,
   "metadata": {},
   "outputs": [],
   "source": [
    "models = [\n",
    "    DecisionTreeRegressor(random_state=0),\n",
    "    RandomForestRegressor(random_state=0),\n",
    "    GradientBoostingRegressor(random_state=0),\n",
    "    XGBRegressor(random_state=0),\n",
    "    CatBoostRegressor(random_state=0, verbose=0, allow_writing_files=False)\n",
    "]"
   ]
  },
  {
   "cell_type": "markdown",
   "metadata": {},
   "source": [
    "# Functions"
   ]
  },
  {
   "cell_type": "code",
   "execution_count": 6,
   "metadata": {},
   "outputs": [],
   "source": [
    "def prepareData(columns_to_drop, label, train_data, test_data):\n",
    "    X_train = train_data.drop([label] + columns_to_drop, axis=1)\n",
    "    Y_train = train_data[label]\n",
    "    X_test = test_data.drop(columns_to_drop, axis=1)\n",
    "    return X_train, Y_train, X_test"
   ]
  },
  {
   "cell_type": "code",
   "execution_count": 27,
   "metadata": {},
   "outputs": [],
   "source": [
    "def evaluation(models, X_train, Y_train):\n",
    "    model_names = [model.__class__.__name__ for model in models]\n",
    "    model_scores = []\n",
    "\n",
    "    cv = ShuffleSplit(random_state=0)\n",
    "\n",
    "    for model in models:\n",
    "        model = clone(model)\n",
    "        cv_scores = cross_val_score(model, X_train, Y_train, cv=cv, scoring='neg_root_mean_squared_log_error')\n",
    "        model_scores.append(-cv_scores.mean())\n",
    "\n",
    "    cv_results = pd.DataFrame(columns=['name', 'rmsle_mean'])\n",
    "    cv_results['name'] = model_names\n",
    "    cv_results['rmsle_mean'] = model_scores\n",
    "\n",
    "    return cv_results"
   ]
  },
  {
   "cell_type": "code",
   "execution_count": 8,
   "metadata": {},
   "outputs": [],
   "source": [
    "def predict(model, X_train, Y_train, X_test, id, label, file_name = 'result.csv'):\n",
    "    model = clone(model)\n",
    "    model.fit(X_train, Y_train)\n",
    "    predictions = model.predict(X_test)\n",
    "\n",
    "    result = pd.DataFrame({\n",
    "        id.name: id,\n",
    "        label: predictions\n",
    "    })\n",
    "    result.to_csv('./Result/' + file_name, index=False)"
   ]
  },
  {
   "cell_type": "code",
   "execution_count": 18,
   "metadata": {},
   "outputs": [
    {
     "data": {
      "text/plain": [
       "['LotFrontage',\n",
       " 'Alley',\n",
       " 'MasVnrArea',\n",
       " 'Electrical',\n",
       " 'GarageType',\n",
       " 'GarageYrBlt']"
      ]
     },
     "execution_count": 18,
     "metadata": {},
     "output_type": "execute_result"
    }
   ],
   "source": [
    "train_data.columns[train_data.isna().any()].tolist()"
   ]
  },
  {
   "cell_type": "markdown",
   "metadata": {},
   "source": [
    "# Base Model"
   ]
  },
  {
   "cell_type": "code",
   "execution_count": 19,
   "metadata": {},
   "outputs": [
    {
     "name": "stdout",
     "output_type": "stream",
     "text": [
      "Index(['MSSubClass', 'LotArea', 'Street', 'OverallQual', 'OverallCond',\n",
      "       'YearBuilt', 'YearRemodAdd', 'ExterQual', 'ExterCond', 'BsmtQual',\n",
      "       'BsmtCond', 'BsmtExposure', 'BsmtFinType1', 'BsmtFinSF1',\n",
      "       'BsmtFinType2', 'BsmtFinSF2', 'BsmtUnfSF', 'TotalBsmtSF', 'HeatingQC',\n",
      "       'CentralAir', '1stFlrSF', '2ndFlrSF', 'LowQualFinSF', 'GrLivArea',\n",
      "       'BsmtFullBath', 'BsmtHalfBath', 'FullBath', 'HalfBath', 'BedroomAbvGr',\n",
      "       'KitchenAbvGr', 'KitchenQual', 'TotRmsAbvGrd', 'Functional',\n",
      "       'Fireplaces', 'FireplaceQu', 'GarageFinish', 'GarageCars', 'GarageArea',\n",
      "       'GarageQual', 'GarageCond', 'WoodDeckSF', 'OpenPorchSF',\n",
      "       'EnclosedPorch', '3SsnPorch', 'ScreenPorch', 'PoolArea', 'PoolQC',\n",
      "       'Fence', 'MiscVal', 'MoSold', 'YrSold'],\n",
      "      dtype='object')\n"
     ]
    }
   ],
   "source": [
    "columns_to_drop = ['Id'] + \\\n",
    "    train_data.select_dtypes(include='O').columns.to_list() + \\\n",
    "    train_data.columns[train_data.isna().any()].tolist()\n",
    "X_train, Y_train, X_test = prepareData(columns_to_drop, label, train_data, test_data)\n",
    "print(X_train.columns)"
   ]
  },
  {
   "cell_type": "code",
   "execution_count": 28,
   "metadata": {},
   "outputs": [
    {
     "name": "stdout",
     "output_type": "stream",
     "text": [
      "                        name  rmsle_mean\n",
      "0      DecisionTreeRegressor    0.201893\n",
      "1      RandomForestRegressor    0.138505\n",
      "2  GradientBoostingRegressor    0.127881\n",
      "3               XGBRegressor    0.134223\n",
      "4          CatBoostRegressor    0.122795\n"
     ]
    }
   ],
   "source": [
    "cv_results = evaluation(models, X_train, Y_train)\n",
    "print(cv_results)"
   ]
  }
 ],
 "metadata": {
  "kernelspec": {
   "display_name": "ml2",
   "language": "python",
   "name": "python3"
  },
  "language_info": {
   "codemirror_mode": {
    "name": "ipython",
    "version": 3
   },
   "file_extension": ".py",
   "mimetype": "text/x-python",
   "name": "python",
   "nbconvert_exporter": "python",
   "pygments_lexer": "ipython3",
   "version": "3.9.19"
  }
 },
 "nbformat": 4,
 "nbformat_minor": 2
}
