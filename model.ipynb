{
 "cells": [
  {
   "cell_type": "markdown",
   "metadata": {},
   "source": [
    "# Import packages and Settings"
   ]
  },
  {
   "cell_type": "code",
   "execution_count": 23,
   "metadata": {},
   "outputs": [
    {
     "name": "stdout",
     "output_type": "stream",
     "text": [
      "3\n"
     ]
    }
   ],
   "source": [
    "import os\n",
    "\n",
    "n_core = os.cpu_count()-3\n",
    "print(n_core)"
   ]
  },
  {
   "cell_type": "code",
   "execution_count": 2,
   "metadata": {},
   "outputs": [],
   "source": [
    "import numpy as np\n",
    "import pandas as pd\n",
    "from pandas.api.types import is_numeric_dtype\n",
    "\n",
    "import matplotlib.pyplot as plt\n",
    "\n",
    "from xgboost.sklearn import XGBRegressor\n",
    "\n",
    "from catboost import CatBoostRegressor\n",
    "\n",
    "%matplotlib inline"
   ]
  },
  {
   "cell_type": "code",
   "execution_count": 3,
   "metadata": {},
   "outputs": [
    {
     "name": "stderr",
     "output_type": "stream",
     "text": [
      "Intel(R) Extension for Scikit-learn* enabled (https://github.com/intel/scikit-learn-intelex)\n"
     ]
    }
   ],
   "source": [
    "from sklearn.base import clone\n",
    "from sklearn.compose import ColumnTransformer\n",
    "from sklearn.pipeline import Pipeline\n",
    "from sklearn.impute import SimpleImputer\n",
    "from sklearn.preprocessing import OneHotEncoder\n",
    "from sklearn.linear_model import LinearRegression, Lasso, Ridge\n",
    "from sklearn.tree import DecisionTreeRegressor\n",
    "from sklearn.ensemble import RandomForestRegressor, GradientBoostingRegressor\n",
    "from sklearn.feature_selection import RFECV\n",
    "from sklearn.model_selection import ShuffleSplit, cross_val_score, GridSearchCV\n",
    "\n",
    "from sklearnex import patch_sklearn\n",
    "\n",
    "patch_sklearn()"
   ]
  },
  {
   "cell_type": "markdown",
   "metadata": {},
   "source": [
    "## Load Data and Preprocessing"
   ]
  },
  {
   "cell_type": "code",
   "execution_count": 4,
   "metadata": {},
   "outputs": [],
   "source": [
    "train_data = pd.read_csv('./Data/train.csv')\n",
    "test_data = pd.read_csv('./Data/test.csv')\n",
    "\n",
    "feature = 'MSSubClass'\n",
    "train_data[feature] = train_data[feature].apply(lambda x: str(x))\n",
    "test_data[feature] = test_data[feature].apply(lambda x: str(x))\n",
    "\n",
    "assert(not is_numeric_dtype(train_data[feature]))\n",
    "\n",
    "feature = 'Street'\n",
    "train_data[feature] = train_data[feature].map({'Pave': 0, 'Grvl':1})\n",
    "test_data[feature] = test_data[feature].map({'Pave': 0, 'Grvl':1})\n",
    "\n",
    "assert(is_numeric_dtype(train_data[feature]))\n",
    "\n",
    "feature = 'Alley'\n",
    "train_data[feature] = train_data[feature].fillna('None')\n",
    "test_data[feature] = test_data[feature].fillna('None')\n",
    "\n",
    "assert(train_data[feature].isna().sum() == 0)\n",
    "\n",
    "feature = 'MasVnrType'\n",
    "train_data[feature] = train_data[feature].fillna('None')\n",
    "test_data[feature] = test_data[feature].fillna('None')\n",
    "\n",
    "assert(train_data[feature].isna().sum() == 0)\n",
    "\n",
    "feature = 'MasVnrArea'\n",
    "train_data[feature] = train_data[feature].fillna(0)\n",
    "test_data[feature] = test_data[feature].fillna(0)\n",
    "\n",
    "assert(train_data[feature].isna().sum() == 0)\n",
    "\n",
    "quality_map = {'Po':1, 'Fa':2, 'TA':3, 'Gd':4, 'Ex':5}\n",
    "\n",
    "feature = 'ExterQual'\n",
    "train_data[feature] = train_data[feature].map(quality_map)\n",
    "test_data[feature] = test_data[feature].map(quality_map)\n",
    "\n",
    "assert(is_numeric_dtype(train_data[feature]))\n",
    "\n",
    "feature = 'ExterCond'\n",
    "train_data[feature] = train_data[feature].map(quality_map)\n",
    "test_data[feature] = test_data[feature].map(quality_map)\n",
    "\n",
    "assert(is_numeric_dtype(train_data[feature]))\n",
    "\n",
    "feature = 'BsmtQual'\n",
    "train_data[feature] = train_data[feature].map(quality_map)\n",
    "test_data[feature] = test_data[feature].map(quality_map)\n",
    "train_data[feature] = train_data[feature].fillna(0)\n",
    "test_data[feature] = test_data[feature].fillna(0)\n",
    "\n",
    "assert(is_numeric_dtype(train_data[feature]))\n",
    "assert(train_data[feature].isna().sum() == 0)\n",
    "\n",
    "feature = 'BsmtCond'\n",
    "train_data[feature] = train_data[feature].map(quality_map)\n",
    "test_data[feature] = test_data[feature].map(quality_map)\n",
    "train_data[feature] = train_data[feature].fillna(0)\n",
    "test_data[feature] = test_data[feature].fillna(0)\n",
    "\n",
    "assert(is_numeric_dtype(train_data[feature]))\n",
    "assert(train_data[feature].isna().sum() == 0)\n",
    "\n",
    "exposure_map = {'No':1, 'Mn':2, 'Av':3, 'Gd':4}\n",
    "\n",
    "feature = 'BsmtExposure'\n",
    "train_data[feature] = train_data[feature].map(exposure_map)\n",
    "test_data[feature] = test_data[feature].map(exposure_map)\n",
    "train_data[feature] = train_data[feature].fillna(0)\n",
    "test_data[feature] = test_data[feature].fillna(0)\n",
    "\n",
    "assert(is_numeric_dtype(train_data[feature]))\n",
    "assert(train_data[feature].isna().sum() == 0)\n",
    "\n",
    "type_map = {'Unf':1, 'LwQ':2, 'Rec':3, 'BLQ':4, 'ALQ':5, 'GLQ':6}\n",
    "\n",
    "feature = 'BsmtFinType1'\n",
    "train_data[feature] = train_data[feature].map(type_map)\n",
    "test_data[feature] = test_data[feature].map(type_map)\n",
    "train_data[feature] = train_data[feature].fillna(0)\n",
    "test_data[feature] = test_data[feature].fillna(0)\n",
    "\n",
    "assert(is_numeric_dtype(train_data[feature]))\n",
    "assert(train_data[feature].isna().sum() == 0)\n",
    "\n",
    "feature = 'BsmtFinType2'\n",
    "train_data[feature] = train_data[feature].map(type_map)\n",
    "test_data[feature] = test_data[feature].map(type_map)\n",
    "train_data[feature] = train_data[feature].fillna(0)\n",
    "test_data[feature] = test_data[feature].fillna(0)\n",
    "\n",
    "assert(is_numeric_dtype(train_data[feature]))\n",
    "assert(train_data[feature].isna().sum() == 0)\n",
    "\n",
    "feature = 'HeatingQC'\n",
    "train_data[feature] = train_data[feature].map(quality_map)\n",
    "test_data[feature] = test_data[feature].map(quality_map)\n",
    "\n",
    "assert(is_numeric_dtype(train_data[feature]))\n",
    "\n",
    "feature = 'CentralAir'\n",
    "train_data[feature] = train_data[feature].map({'N': 0, 'Y':1})\n",
    "test_data[feature] = test_data[feature].map({'N': 0, 'Y':1})\n",
    "\n",
    "assert(is_numeric_dtype(train_data[feature]))\n",
    "\n",
    "feature = 'KitchenQual'\n",
    "train_data[feature] = train_data[feature].map(quality_map)\n",
    "test_data[feature] = test_data[feature].map(quality_map)\n",
    "\n",
    "assert(is_numeric_dtype(train_data[feature]))\n",
    "\n",
    "function_map = {'Sal':1, 'Sev':2, 'Maj2':3, 'Maj1':4, 'Mod':5, 'Min2':6, 'Min1':7, 'Typ':8}\n",
    "\n",
    "feature = 'Functional'\n",
    "train_data[feature] = train_data[feature].map(function_map)\n",
    "test_data[feature] = test_data[feature].map(function_map)\n",
    "test_data[feature] = test_data[feature].fillna(8)\n",
    "\n",
    "assert(is_numeric_dtype(train_data[feature]))\n",
    "\n",
    "feature = 'FireplaceQu'\n",
    "train_data[feature] = train_data[feature].map(quality_map)\n",
    "test_data[feature] = test_data[feature].map(quality_map)\n",
    "train_data[feature] = train_data[feature].fillna(0)\n",
    "test_data[feature] = test_data[feature].fillna(0)\n",
    "\n",
    "assert(is_numeric_dtype(train_data[feature]))\n",
    "assert(train_data[feature].isna().sum() == 0)\n",
    "\n",
    "feature = 'GarageType'\n",
    "train_data[feature] = train_data[feature].fillna('None')\n",
    "test_data[feature] = test_data[feature].fillna('None')\n",
    "\n",
    "assert(train_data[feature].isna().sum() == 0)\n",
    "\n",
    "feature = 'GarageYrBlt'\n",
    "train_data[feature] = train_data[feature].fillna(-1)\n",
    "test_data[feature] = test_data[feature].fillna(-1)\n",
    "\n",
    "assert(train_data[feature].isna().sum() == 0)\n",
    "\n",
    "exposure_map = {'Unf':1, 'RFn':2, 'Fin':3}\n",
    "\n",
    "feature = 'GarageFinish'\n",
    "train_data[feature] = train_data[feature].map(exposure_map)\n",
    "test_data[feature] = test_data[feature].map(exposure_map)\n",
    "train_data[feature] = train_data[feature].fillna(0)\n",
    "test_data[feature] = test_data[feature].fillna(0)\n",
    "\n",
    "assert(is_numeric_dtype(train_data[feature]))\n",
    "assert(train_data[feature].isna().sum() == 0)\n",
    "\n",
    "feature = 'GarageQual'\n",
    "train_data[feature] = train_data[feature].map(quality_map)\n",
    "test_data[feature] = test_data[feature].map(quality_map)\n",
    "train_data[feature] = train_data[feature].fillna(0)\n",
    "test_data[feature] = test_data[feature].fillna(0)\n",
    "\n",
    "assert(is_numeric_dtype(train_data[feature]))\n",
    "assert(train_data[feature].isna().sum() == 0)\n",
    "\n",
    "feature = 'GarageCond'\n",
    "train_data[feature] = train_data[feature].map(quality_map)\n",
    "test_data[feature] = test_data[feature].map(quality_map)\n",
    "train_data[feature] = train_data[feature].fillna(0)\n",
    "test_data[feature] = test_data[feature].fillna(0)\n",
    "\n",
    "assert(is_numeric_dtype(train_data[feature]))\n",
    "assert(train_data[feature].isna().sum() == 0)\n",
    "\n",
    "feature = 'PoolQC'\n",
    "train_data[feature] = train_data[feature].map(quality_map)\n",
    "test_data[feature] = test_data[feature].map(quality_map)\n",
    "train_data[feature] = train_data[feature].fillna(0)\n",
    "test_data[feature] = test_data[feature].fillna(0)\n",
    "\n",
    "assert(is_numeric_dtype(train_data[feature]))\n",
    "assert(train_data[feature].isna().sum() == 0)\n",
    "\n",
    "fence_map = {'MnWw':1, 'GdWo':2, 'MnPrv':3, 'GdPrv':4}\n",
    "\n",
    "feature = 'Fence'\n",
    "train_data[feature] = train_data[feature].map(fence_map)\n",
    "test_data[feature] = test_data[feature].map(fence_map)\n",
    "train_data[feature] = train_data[feature].fillna(0)\n",
    "test_data[feature] = test_data[feature].fillna(0)\n",
    "\n",
    "assert(is_numeric_dtype(train_data[feature]))\n",
    "assert(train_data[feature].isna().sum() == 0)\n",
    "\n",
    "feature = 'MiscFeature'\n",
    "train_data[feature] = train_data[feature].fillna('None')\n",
    "test_data[feature] = test_data[feature].fillna('None')\n",
    "\n",
    "assert(train_data[feature].isna().sum() == 0)\n",
    "\n",
    "test_data.loc[test_data['GarageCars'].isnull(), ['GarageType', 'GarageCars', 'GarageArea']] = ['None', 0, 0]\n",
    "test_data.loc[test_data['BsmtFinSF1'].isnull(), ['BsmtFinSF1', 'BsmtFinSF2', 'BsmtUnfSF', 'TotalBsmtSF', 'BsmtFullBath', 'BsmtHalfBath']] = [0, 0, 0, 0, 0, 0]\n",
    "test_data.loc[test_data['BsmtFullBath'].isnull(), ['BsmtFullBath', 'BsmtHalfBath']] = [0, 0]\n",
    "\n",
    "assert(test_data['GarageCars'].isna().sum() == 0)\n",
    "assert(test_data['BsmtFinSF1'].isna().sum() == 0)\n",
    "assert(test_data['BsmtFullBath'].isna().sum() == 0)\n",
    "\n",
    "columns_float = train_data.select_dtypes(include=['float64']).columns\n",
    "train_data[columns_float] = train_data[columns_float].astype('float32')\n",
    "test_data[columns_float] = test_data[columns_float].astype('float32')\n",
    "\n",
    "label = 'SalePrice'\n",
    "\n",
    "id = test_data['Id']"
   ]
  },
  {
   "cell_type": "code",
   "execution_count": 6,
   "metadata": {},
   "outputs": [],
   "source": [
    "models = [\n",
    "    LinearRegression(),\n",
    "    Lasso(random_state=0),\n",
    "    Ridge(random_state=0),\n",
    "    DecisionTreeRegressor(random_state=0),\n",
    "    RandomForestRegressor(random_state=0, oob_score=True),\n",
    "    GradientBoostingRegressor(random_state=0),\n",
    "    XGBRegressor(random_state=0),\n",
    "    CatBoostRegressor(random_state=0, verbose=0, allow_writing_files=False)\n",
    "]"
   ]
  },
  {
   "cell_type": "markdown",
   "metadata": {},
   "source": [
    "# Functions"
   ]
  },
  {
   "cell_type": "code",
   "execution_count": 7,
   "metadata": {},
   "outputs": [],
   "source": [
    "def prepareDataDrop(columns_to_drop, label, train_data, test_data, islog):\n",
    "    X_train = train_data.drop([label] + columns_to_drop, axis=1)\n",
    "    Y_train = np.log(train_data[label]) if islog else train_data[label]\n",
    "    X_test = test_data.drop(columns_to_drop, axis=1)\n",
    "    return X_train, Y_train, X_test"
   ]
  },
  {
   "cell_type": "code",
   "execution_count": 43,
   "metadata": {},
   "outputs": [],
   "source": [
    "def prepareDataSelect(columns_to_select, label, train_data, test_data, islog):\n",
    "    X_train = train_data[columns_to_select]\n",
    "    Y_train = np.log(train_data[label]) if islog else train_data[label]\n",
    "    X_test = test_data[columns_to_select]\n",
    "    return X_train, Y_train, X_test"
   ]
  },
  {
   "cell_type": "code",
   "execution_count": 9,
   "metadata": {},
   "outputs": [],
   "source": [
    "def preprocess(X_train, X_test):\n",
    "    transformer_num = SimpleImputer(strategy='median')\n",
    "\n",
    "    transformer_cat = Pipeline(steps=[\n",
    "        ('imputer', SimpleImputer(strategy='most_frequent')),\n",
    "        ('onehot', OneHotEncoder(handle_unknown='ignore'))\n",
    "    ])\n",
    "\n",
    "    cols_num = X_train.select_dtypes(include='number').columns\n",
    "    cols_cat = X_train.select_dtypes(include='O').columns\n",
    "\n",
    "    preprocessor = ColumnTransformer(\n",
    "        transformers=[\n",
    "            ('num', transformer_num, cols_num),\n",
    "            ('cat', transformer_cat, cols_cat)\n",
    "        ])\n",
    "    \n",
    "    X_train = preprocessor.fit_transform(X_train)\n",
    "    X_test = preprocessor.transform(X_test)\n",
    "\n",
    "    return X_train, X_test"
   ]
  },
  {
   "cell_type": "code",
   "execution_count": 10,
   "metadata": {},
   "outputs": [],
   "source": [
    "def evaluation(models, X_train, Y_train, scoring):\n",
    "    model_names = [model.__class__.__name__ for model in models]\n",
    "    model_scores = []\n",
    "\n",
    "    cv = ShuffleSplit(random_state=0)\n",
    "\n",
    "    for model in models:\n",
    "        model = clone(model)\n",
    "        cv_scores = cross_val_score(model, X_train, Y_train, cv=cv, scoring=scoring)\n",
    "        model_scores.append(-cv_scores.mean())\n",
    "\n",
    "    cv_results = pd.DataFrame(columns=['name', 'score_mean'])\n",
    "    cv_results['name'] = model_names\n",
    "    cv_results['score_mean'] = model_scores\n",
    "\n",
    "    return cv_results"
   ]
  },
  {
   "cell_type": "code",
   "execution_count": 30,
   "metadata": {},
   "outputs": [],
   "source": [
    "def tuneParameters(models, tuning_parameters, X_train, Y_train, scoring, n_core):\n",
    "    model_names = [model.__class__.__name__ for model in models]\n",
    "    model_scores = []\n",
    "    model_params = []\n",
    "\n",
    "    cv = ShuffleSplit(random_state=0)\n",
    "\n",
    "    for model, params in zip(models, tuning_parameters.items()):\n",
    "        model = clone(model)\n",
    "        tune_model = GridSearchCV(model, param_grid=params[1], scoring=scoring, cv=cv, n_jobs=n_core)\n",
    "        tune_model.fit(X_train, Y_train)\n",
    "        model_scores.append(-tune_model.best_score_)\n",
    "        model_params.append(tune_model.best_params_)\n",
    "    \n",
    "    tuning_results = pd.DataFrame(columns=['name', 'best_score', 'best_params'])\n",
    "    tuning_results['name'] = model_names\n",
    "    tuning_results['best_score'] = model_scores\n",
    "    tuning_results['best_params'] = model_params\n",
    "\n",
    "    return tuning_results"
   ]
  },
  {
   "cell_type": "code",
   "execution_count": 12,
   "metadata": {},
   "outputs": [],
   "source": [
    "def predict(model, X_train, Y_train, X_test, islog, id, label, file_name = 'result.csv'):\n",
    "    model = clone(model)\n",
    "    model.fit(X_train, Y_train)\n",
    "    predictions = model.predict(X_test)\n",
    "\n",
    "    result = pd.DataFrame({\n",
    "        id.name: id,\n",
    "        label: np.exp(predictions) if islog else predictions\n",
    "    })\n",
    "    result.to_csv('./Result/' + file_name, index=False)"
   ]
  },
  {
   "cell_type": "code",
   "execution_count": 13,
   "metadata": {},
   "outputs": [
    {
     "data": {
      "text/plain": [
       "['LotFrontage', 'Electrical']"
      ]
     },
     "execution_count": 13,
     "metadata": {},
     "output_type": "execute_result"
    }
   ],
   "source": [
    "train_data.columns[train_data.isna().any()].tolist()"
   ]
  },
  {
   "cell_type": "code",
   "execution_count": 14,
   "metadata": {},
   "outputs": [
    {
     "data": {
      "text/plain": [
       "['MSZoning',\n",
       " 'LotFrontage',\n",
       " 'Utilities',\n",
       " 'Exterior1st',\n",
       " 'Exterior2nd',\n",
       " 'KitchenQual',\n",
       " 'SaleType']"
      ]
     },
     "execution_count": 14,
     "metadata": {},
     "output_type": "execute_result"
    }
   ],
   "source": [
    "test_data.columns[test_data.isna().any()].tolist()"
   ]
  },
  {
   "cell_type": "markdown",
   "metadata": {},
   "source": [
    "# Base Model"
   ]
  },
  {
   "cell_type": "code",
   "execution_count": 15,
   "metadata": {},
   "outputs": [
    {
     "name": "stdout",
     "output_type": "stream",
     "text": [
      "Index(['LotArea', 'Street', 'OverallQual', 'OverallCond', 'YearBuilt',\n",
      "       'YearRemodAdd', 'MasVnrArea', 'ExterQual', 'ExterCond', 'BsmtQual',\n",
      "       'BsmtCond', 'BsmtExposure', 'BsmtFinType1', 'BsmtFinSF1',\n",
      "       'BsmtFinType2', 'BsmtFinSF2', 'BsmtUnfSF', 'TotalBsmtSF', 'HeatingQC',\n",
      "       'CentralAir', '1stFlrSF', '2ndFlrSF', 'LowQualFinSF', 'GrLivArea',\n",
      "       'BsmtFullBath', 'BsmtHalfBath', 'FullBath', 'HalfBath', 'BedroomAbvGr',\n",
      "       'KitchenAbvGr', 'KitchenQual', 'TotRmsAbvGrd', 'Functional',\n",
      "       'Fireplaces', 'FireplaceQu', 'GarageYrBlt', 'GarageFinish',\n",
      "       'GarageCars', 'GarageArea', 'GarageQual', 'GarageCond', 'WoodDeckSF',\n",
      "       'OpenPorchSF', 'EnclosedPorch', '3SsnPorch', 'ScreenPorch', 'PoolArea',\n",
      "       'PoolQC', 'Fence', 'MiscVal', 'MoSold', 'YrSold'],\n",
      "      dtype='object')\n"
     ]
    }
   ],
   "source": [
    "columns_to_drop = ['Id'] + \\\n",
    "    train_data.select_dtypes(include='O').columns.to_list() + \\\n",
    "    train_data.columns[train_data.isna().any()].tolist()\n",
    "X_train, Y_train, X_test = prepareDataDrop(columns_to_drop, label, train_data, test_data, False)\n",
    "print(X_train.columns)"
   ]
  },
  {
   "cell_type": "code",
   "execution_count": 17,
   "metadata": {},
   "outputs": [
    {
     "name": "stdout",
     "output_type": "stream",
     "text": [
      "                        name  score_mean\n",
      "0           LinearRegression    0.175144\n",
      "1                      Lasso    0.175103\n",
      "2                      Ridge    0.174548\n",
      "3      DecisionTreeRegressor    0.206714\n",
      "4      RandomForestRegressor    0.139200\n",
      "5  GradientBoostingRegressor    0.126800\n",
      "6               XGBRegressor    0.138030\n",
      "7          CatBoostRegressor    0.124243\n"
     ]
    }
   ],
   "source": [
    "cv_results = evaluation(models, X_train, Y_train, 'neg_root_mean_squared_log_error')\n",
    "print(cv_results)"
   ]
  },
  {
   "cell_type": "code",
   "execution_count": 13,
   "metadata": {},
   "outputs": [],
   "source": [
    "model = DecisionTreeRegressor(random_state=0)\n",
    "predict(model, X_train, Y_train, X_test, False, id, label, file_name = 'result_basic.csv')"
   ]
  },
  {
   "cell_type": "markdown",
   "metadata": {},
   "source": [
    "# Improvement"
   ]
  },
  {
   "cell_type": "code",
   "execution_count": 18,
   "metadata": {},
   "outputs": [
    {
     "name": "stdout",
     "output_type": "stream",
     "text": [
      "Index(['MSSubClass', 'MSZoning', 'LotFrontage', 'LotArea', 'Street', 'Alley',\n",
      "       'LotShape', 'LandContour', 'Utilities', 'LotConfig', 'LandSlope',\n",
      "       'Neighborhood', 'Condition1', 'Condition2', 'BldgType', 'HouseStyle',\n",
      "       'OverallQual', 'OverallCond', 'YearBuilt', 'YearRemodAdd', 'RoofStyle',\n",
      "       'RoofMatl', 'Exterior1st', 'Exterior2nd', 'MasVnrType', 'MasVnrArea',\n",
      "       'ExterQual', 'ExterCond', 'Foundation', 'BsmtQual', 'BsmtCond',\n",
      "       'BsmtExposure', 'BsmtFinType1', 'BsmtFinSF1', 'BsmtFinType2',\n",
      "       'BsmtFinSF2', 'BsmtUnfSF', 'TotalBsmtSF', 'Heating', 'HeatingQC',\n",
      "       'CentralAir', 'Electrical', '1stFlrSF', '2ndFlrSF', 'LowQualFinSF',\n",
      "       'GrLivArea', 'BsmtFullBath', 'BsmtHalfBath', 'FullBath', 'HalfBath',\n",
      "       'BedroomAbvGr', 'KitchenAbvGr', 'KitchenQual', 'TotRmsAbvGrd',\n",
      "       'Functional', 'Fireplaces', 'FireplaceQu', 'GarageType', 'GarageYrBlt',\n",
      "       'GarageFinish', 'GarageCars', 'GarageArea', 'GarageQual', 'GarageCond',\n",
      "       'PavedDrive', 'WoodDeckSF', 'OpenPorchSF', 'EnclosedPorch', '3SsnPorch',\n",
      "       'ScreenPorch', 'PoolArea', 'PoolQC', 'Fence', 'MiscFeature', 'MiscVal',\n",
      "       'MoSold', 'YrSold', 'SaleType', 'SaleCondition'],\n",
      "      dtype='object')\n"
     ]
    }
   ],
   "source": [
    "columns_to_drop = ['Id']\n",
    "X_train, Y_train, X_test = prepareDataDrop(columns_to_drop, label, train_data, test_data, False)\n",
    "print(X_train.columns)"
   ]
  },
  {
   "cell_type": "code",
   "execution_count": 19,
   "metadata": {},
   "outputs": [],
   "source": [
    "X_train, X_test = preprocess(X_train, X_test)"
   ]
  },
  {
   "cell_type": "code",
   "execution_count": 20,
   "metadata": {},
   "outputs": [
    {
     "name": "stderr",
     "output_type": "stream",
     "text": [
      "c:\\Users\\User\\anaconda3\\envs\\ml\\lib\\site-packages\\sklearn\\model_selection\\_validation.py:1000: UserWarning: Scoring failed. The score on this train-test partition for these parameters will be set to nan. Details: \n",
      "Traceback (most recent call last):\n",
      "  File \"c:\\Users\\User\\anaconda3\\envs\\ml\\lib\\site-packages\\sklearn\\metrics\\_scorer.py\", line 139, in __call__\n",
      "    score = scorer._score(\n",
      "  File \"c:\\Users\\User\\anaconda3\\envs\\ml\\lib\\site-packages\\sklearn\\metrics\\_scorer.py\", line 376, in _score\n",
      "    return self._sign * self._score_func(y_true, y_pred, **scoring_kwargs)\n",
      "  File \"c:\\Users\\User\\anaconda3\\envs\\ml\\lib\\site-packages\\sklearn\\utils\\_param_validation.py\", line 213, in wrapper\n",
      "    return func(*args, **kwargs)\n",
      "  File \"c:\\Users\\User\\anaconda3\\envs\\ml\\lib\\site-packages\\sklearn\\metrics\\_regression.py\", line 768, in root_mean_squared_log_error\n",
      "    raise ValueError(\n",
      "ValueError: Root Mean Squared Logarithmic Error cannot be used when targets contain negative values.\n",
      "\n",
      "  warnings.warn(\n",
      "c:\\Users\\User\\anaconda3\\envs\\ml\\lib\\site-packages\\sklearn\\model_selection\\_validation.py:1000: UserWarning: Scoring failed. The score on this train-test partition for these parameters will be set to nan. Details: \n",
      "Traceback (most recent call last):\n",
      "  File \"c:\\Users\\User\\anaconda3\\envs\\ml\\lib\\site-packages\\sklearn\\metrics\\_scorer.py\", line 139, in __call__\n",
      "    score = scorer._score(\n",
      "  File \"c:\\Users\\User\\anaconda3\\envs\\ml\\lib\\site-packages\\sklearn\\metrics\\_scorer.py\", line 376, in _score\n",
      "    return self._sign * self._score_func(y_true, y_pred, **scoring_kwargs)\n",
      "  File \"c:\\Users\\User\\anaconda3\\envs\\ml\\lib\\site-packages\\sklearn\\utils\\_param_validation.py\", line 213, in wrapper\n",
      "    return func(*args, **kwargs)\n",
      "  File \"c:\\Users\\User\\anaconda3\\envs\\ml\\lib\\site-packages\\sklearn\\metrics\\_regression.py\", line 768, in root_mean_squared_log_error\n",
      "    raise ValueError(\n",
      "ValueError: Root Mean Squared Logarithmic Error cannot be used when targets contain negative values.\n",
      "\n",
      "  warnings.warn(\n",
      "c:\\Users\\User\\anaconda3\\envs\\ml\\lib\\site-packages\\sklearn\\linear_model\\_coordinate_descent.py:697: ConvergenceWarning: Objective did not converge. You might want to increase the number of iterations, check the scale of the features or consider increasing regularisation. Duality gap: 3.189e+11, tolerance: 8.204e+08\n",
      "  model = cd_fast.enet_coordinate_descent(\n",
      "c:\\Users\\User\\anaconda3\\envs\\ml\\lib\\site-packages\\sklearn\\linear_model\\_coordinate_descent.py:697: ConvergenceWarning: Objective did not converge. You might want to increase the number of iterations, check the scale of the features or consider increasing regularisation. Duality gap: 3.173e+11, tolerance: 8.254e+08\n",
      "  model = cd_fast.enet_coordinate_descent(\n",
      "c:\\Users\\User\\anaconda3\\envs\\ml\\lib\\site-packages\\sklearn\\linear_model\\_coordinate_descent.py:697: ConvergenceWarning: Objective did not converge. You might want to increase the number of iterations, check the scale of the features or consider increasing regularisation. Duality gap: 3.256e+11, tolerance: 8.232e+08\n",
      "  model = cd_fast.enet_coordinate_descent(\n",
      "c:\\Users\\User\\anaconda3\\envs\\ml\\lib\\site-packages\\sklearn\\linear_model\\_coordinate_descent.py:697: ConvergenceWarning: Objective did not converge. You might want to increase the number of iterations, check the scale of the features or consider increasing regularisation. Duality gap: 3.135e+11, tolerance: 8.243e+08\n",
      "  model = cd_fast.enet_coordinate_descent(\n",
      "c:\\Users\\User\\anaconda3\\envs\\ml\\lib\\site-packages\\sklearn\\linear_model\\_coordinate_descent.py:697: ConvergenceWarning: Objective did not converge. You might want to increase the number of iterations, check the scale of the features or consider increasing regularisation. Duality gap: 3.231e+11, tolerance: 8.211e+08\n",
      "  model = cd_fast.enet_coordinate_descent(\n",
      "c:\\Users\\User\\anaconda3\\envs\\ml\\lib\\site-packages\\sklearn\\linear_model\\_coordinate_descent.py:697: ConvergenceWarning: Objective did not converge. You might want to increase the number of iterations, check the scale of the features or consider increasing regularisation. Duality gap: 3.102e+11, tolerance: 7.781e+08\n",
      "  model = cd_fast.enet_coordinate_descent(\n",
      "c:\\Users\\User\\anaconda3\\envs\\ml\\lib\\site-packages\\sklearn\\linear_model\\_coordinate_descent.py:697: ConvergenceWarning: Objective did not converge. You might want to increase the number of iterations, check the scale of the features or consider increasing regularisation. Duality gap: 3.150e+11, tolerance: 8.113e+08\n",
      "  model = cd_fast.enet_coordinate_descent(\n",
      "c:\\Users\\User\\anaconda3\\envs\\ml\\lib\\site-packages\\sklearn\\linear_model\\_coordinate_descent.py:697: ConvergenceWarning: Objective did not converge. You might want to increase the number of iterations, check the scale of the features or consider increasing regularisation. Duality gap: 3.146e+11, tolerance: 8.173e+08\n",
      "  model = cd_fast.enet_coordinate_descent(\n",
      "c:\\Users\\User\\anaconda3\\envs\\ml\\lib\\site-packages\\sklearn\\model_selection\\_validation.py:1000: UserWarning: Scoring failed. The score on this train-test partition for these parameters will be set to nan. Details: \n",
      "Traceback (most recent call last):\n",
      "  File \"c:\\Users\\User\\anaconda3\\envs\\ml\\lib\\site-packages\\sklearn\\metrics\\_scorer.py\", line 139, in __call__\n",
      "    score = scorer._score(\n",
      "  File \"c:\\Users\\User\\anaconda3\\envs\\ml\\lib\\site-packages\\sklearn\\metrics\\_scorer.py\", line 376, in _score\n",
      "    return self._sign * self._score_func(y_true, y_pred, **scoring_kwargs)\n",
      "  File \"c:\\Users\\User\\anaconda3\\envs\\ml\\lib\\site-packages\\sklearn\\utils\\_param_validation.py\", line 213, in wrapper\n",
      "    return func(*args, **kwargs)\n",
      "  File \"c:\\Users\\User\\anaconda3\\envs\\ml\\lib\\site-packages\\sklearn\\metrics\\_regression.py\", line 768, in root_mean_squared_log_error\n",
      "    raise ValueError(\n",
      "ValueError: Root Mean Squared Logarithmic Error cannot be used when targets contain negative values.\n",
      "\n",
      "  warnings.warn(\n",
      "c:\\Users\\User\\anaconda3\\envs\\ml\\lib\\site-packages\\sklearn\\linear_model\\_coordinate_descent.py:697: ConvergenceWarning: Objective did not converge. You might want to increase the number of iterations, check the scale of the features or consider increasing regularisation. Duality gap: 3.260e+11, tolerance: 8.403e+08\n",
      "  model = cd_fast.enet_coordinate_descent(\n",
      "c:\\Users\\User\\anaconda3\\envs\\ml\\lib\\site-packages\\sklearn\\model_selection\\_validation.py:1000: UserWarning: Scoring failed. The score on this train-test partition for these parameters will be set to nan. Details: \n",
      "Traceback (most recent call last):\n",
      "  File \"c:\\Users\\User\\anaconda3\\envs\\ml\\lib\\site-packages\\sklearn\\metrics\\_scorer.py\", line 139, in __call__\n",
      "    score = scorer._score(\n",
      "  File \"c:\\Users\\User\\anaconda3\\envs\\ml\\lib\\site-packages\\sklearn\\metrics\\_scorer.py\", line 376, in _score\n",
      "    return self._sign * self._score_func(y_true, y_pred, **scoring_kwargs)\n",
      "  File \"c:\\Users\\User\\anaconda3\\envs\\ml\\lib\\site-packages\\sklearn\\utils\\_param_validation.py\", line 213, in wrapper\n",
      "    return func(*args, **kwargs)\n",
      "  File \"c:\\Users\\User\\anaconda3\\envs\\ml\\lib\\site-packages\\sklearn\\metrics\\_regression.py\", line 768, in root_mean_squared_log_error\n",
      "    raise ValueError(\n",
      "ValueError: Root Mean Squared Logarithmic Error cannot be used when targets contain negative values.\n",
      "\n",
      "  warnings.warn(\n",
      "c:\\Users\\User\\anaconda3\\envs\\ml\\lib\\site-packages\\sklearn\\linear_model\\_coordinate_descent.py:697: ConvergenceWarning: Objective did not converge. You might want to increase the number of iterations, check the scale of the features or consider increasing regularisation. Duality gap: 3.316e+11, tolerance: 8.364e+08\n",
      "  model = cd_fast.enet_coordinate_descent(\n",
      "c:\\Users\\User\\anaconda3\\envs\\ml\\lib\\site-packages\\sklearn\\model_selection\\_validation.py:1000: UserWarning: Scoring failed. The score on this train-test partition for these parameters will be set to nan. Details: \n",
      "Traceback (most recent call last):\n",
      "  File \"c:\\Users\\User\\anaconda3\\envs\\ml\\lib\\site-packages\\sklearn\\metrics\\_scorer.py\", line 139, in __call__\n",
      "    score = scorer._score(\n",
      "  File \"c:\\Users\\User\\anaconda3\\envs\\ml\\lib\\site-packages\\sklearn\\metrics\\_scorer.py\", line 376, in _score\n",
      "    return self._sign * self._score_func(y_true, y_pred, **scoring_kwargs)\n",
      "  File \"c:\\Users\\User\\anaconda3\\envs\\ml\\lib\\site-packages\\sklearn\\utils\\_param_validation.py\", line 213, in wrapper\n",
      "    return func(*args, **kwargs)\n",
      "  File \"c:\\Users\\User\\anaconda3\\envs\\ml\\lib\\site-packages\\sklearn\\metrics\\_regression.py\", line 768, in root_mean_squared_log_error\n",
      "    raise ValueError(\n",
      "ValueError: Root Mean Squared Logarithmic Error cannot be used when targets contain negative values.\n",
      "\n",
      "  warnings.warn(\n"
     ]
    },
    {
     "name": "stdout",
     "output_type": "stream",
     "text": [
      "                        name  score_mean\n",
      "0           LinearRegression         NaN\n",
      "1                      Lasso         NaN\n",
      "2                      Ridge         NaN\n",
      "3      DecisionTreeRegressor    0.204164\n",
      "4      RandomForestRegressor    0.139421\n",
      "5  GradientBoostingRegressor    0.122607\n",
      "6               XGBRegressor    0.136823\n",
      "7          CatBoostRegressor    0.114957\n"
     ]
    }
   ],
   "source": [
    "cv_results = evaluation(models, X_train, Y_train, 'neg_root_mean_squared_log_error')\n",
    "print(cv_results)"
   ]
  },
  {
   "cell_type": "code",
   "execution_count": 22,
   "metadata": {},
   "outputs": [
    {
     "data": {
      "text/html": [
       "<div>\n",
       "<style scoped>\n",
       "    .dataframe tbody tr th:only-of-type {\n",
       "        vertical-align: middle;\n",
       "    }\n",
       "\n",
       "    .dataframe tbody tr th {\n",
       "        vertical-align: top;\n",
       "    }\n",
       "\n",
       "    .dataframe thead th {\n",
       "        text-align: right;\n",
       "    }\n",
       "</style>\n",
       "<table border=\"1\" class=\"dataframe\">\n",
       "  <thead>\n",
       "    <tr style=\"text-align: right;\">\n",
       "      <th></th>\n",
       "      <th>name</th>\n",
       "      <th>best_score</th>\n",
       "      <th>best_params</th>\n",
       "    </tr>\n",
       "  </thead>\n",
       "  <tbody>\n",
       "    <tr>\n",
       "      <th>0</th>\n",
       "      <td>RandomForestRegressor</td>\n",
       "      <td>-0.138408</td>\n",
       "      <td>{'min_samples_split': 2, 'n_estimators': 300}</td>\n",
       "    </tr>\n",
       "  </tbody>\n",
       "</table>\n",
       "</div>"
      ],
      "text/plain": [
       "                    name  best_score  \\\n",
       "0  RandomForestRegressor   -0.138408   \n",
       "\n",
       "                                     best_params  \n",
       "0  {'min_samples_split': 2, 'n_estimators': 300}  "
      ]
     },
     "execution_count": 22,
     "metadata": {},
     "output_type": "execute_result"
    }
   ],
   "source": [
    "tuning_parameters = {\n",
    "        'RandomForestRegressor': {\n",
    "            'n_estimators': [50, 100, 300],\n",
    "            'min_samples_split': [2, 4, 6, 8, 10]\n",
    "        }\n",
    "    }\n",
    "\n",
    "model = RandomForestRegressor(random_state=0, oob_score=True)\n",
    "\n",
    "tuneParameters([model], tuning_parameters, X_train, Y_train, 'neg_root_mean_squared_log_error', n_core)"
   ]
  },
  {
   "cell_type": "code",
   "execution_count": 30,
   "metadata": {},
   "outputs": [],
   "source": [
    "model = RandomForestRegressor(n_estimators=300, min_samples_split=10, random_state=0, oob_score=True)\n",
    "predict(model, X_train, Y_train, X_test, False, id, label)"
   ]
  },
  {
   "cell_type": "markdown",
   "metadata": {},
   "source": [
    "## Take Log of SalePrice"
   ]
  },
  {
   "cell_type": "code",
   "execution_count": 24,
   "metadata": {},
   "outputs": [
    {
     "name": "stdout",
     "output_type": "stream",
     "text": [
      "Index(['MSSubClass', 'MSZoning', 'LotFrontage', 'LotArea', 'Street', 'Alley',\n",
      "       'LotShape', 'LandContour', 'Utilities', 'LotConfig', 'LandSlope',\n",
      "       'Neighborhood', 'Condition1', 'Condition2', 'BldgType', 'HouseStyle',\n",
      "       'OverallQual', 'OverallCond', 'YearBuilt', 'YearRemodAdd', 'RoofStyle',\n",
      "       'RoofMatl', 'Exterior1st', 'Exterior2nd', 'MasVnrType', 'MasVnrArea',\n",
      "       'ExterQual', 'ExterCond', 'Foundation', 'BsmtQual', 'BsmtCond',\n",
      "       'BsmtExposure', 'BsmtFinType1', 'BsmtFinSF1', 'BsmtFinType2',\n",
      "       'BsmtFinSF2', 'BsmtUnfSF', 'TotalBsmtSF', 'Heating', 'HeatingQC',\n",
      "       'CentralAir', 'Electrical', '1stFlrSF', '2ndFlrSF', 'LowQualFinSF',\n",
      "       'GrLivArea', 'BsmtFullBath', 'BsmtHalfBath', 'FullBath', 'HalfBath',\n",
      "       'BedroomAbvGr', 'KitchenAbvGr', 'KitchenQual', 'TotRmsAbvGrd',\n",
      "       'Functional', 'Fireplaces', 'FireplaceQu', 'GarageType', 'GarageYrBlt',\n",
      "       'GarageFinish', 'GarageCars', 'GarageArea', 'GarageQual', 'GarageCond',\n",
      "       'PavedDrive', 'WoodDeckSF', 'OpenPorchSF', 'EnclosedPorch', '3SsnPorch',\n",
      "       'ScreenPorch', 'PoolArea', 'PoolQC', 'Fence', 'MiscFeature', 'MiscVal',\n",
      "       'MoSold', 'YrSold', 'SaleType', 'SaleCondition'],\n",
      "      dtype='object')\n"
     ]
    }
   ],
   "source": [
    "columns_to_drop = ['Id']\n",
    "X_train, Y_train, X_test = prepareDataDrop(columns_to_drop, label, train_data, test_data, True)\n",
    "print(X_train.columns)"
   ]
  },
  {
   "cell_type": "code",
   "execution_count": 26,
   "metadata": {},
   "outputs": [],
   "source": [
    "X_train, X_test = preprocess(X_train, X_test)"
   ]
  },
  {
   "cell_type": "code",
   "execution_count": 27,
   "metadata": {},
   "outputs": [
    {
     "name": "stdout",
     "output_type": "stream",
     "text": [
      "                        name  score_mean\n",
      "0           LinearRegression    0.140600\n",
      "1                      Lasso    0.186531\n",
      "2                      Ridge    0.133502\n",
      "3      DecisionTreeRegressor    0.198165\n",
      "4      RandomForestRegressor    0.136668\n",
      "5  GradientBoostingRegressor    0.122738\n",
      "6               XGBRegressor    0.141680\n",
      "7          CatBoostRegressor    0.113981\n"
     ]
    }
   ],
   "source": [
    "cv_results = evaluation(models, X_train, Y_train, 'neg_root_mean_squared_error')\n",
    "print(cv_results)"
   ]
  },
  {
   "cell_type": "code",
   "execution_count": 29,
   "metadata": {},
   "outputs": [
    {
     "data": {
      "text/html": [
       "<div>\n",
       "<style scoped>\n",
       "    .dataframe tbody tr th:only-of-type {\n",
       "        vertical-align: middle;\n",
       "    }\n",
       "\n",
       "    .dataframe tbody tr th {\n",
       "        vertical-align: top;\n",
       "    }\n",
       "\n",
       "    .dataframe thead th {\n",
       "        text-align: right;\n",
       "    }\n",
       "</style>\n",
       "<table border=\"1\" class=\"dataframe\">\n",
       "  <thead>\n",
       "    <tr style=\"text-align: right;\">\n",
       "      <th></th>\n",
       "      <th>name</th>\n",
       "      <th>best_score</th>\n",
       "      <th>best_params</th>\n",
       "    </tr>\n",
       "  </thead>\n",
       "  <tbody>\n",
       "    <tr>\n",
       "      <th>0</th>\n",
       "      <td>RandomForestRegressor</td>\n",
       "      <td>-0.136071</td>\n",
       "      <td>{'min_samples_split': 2, 'n_estimators': 300}</td>\n",
       "    </tr>\n",
       "  </tbody>\n",
       "</table>\n",
       "</div>"
      ],
      "text/plain": [
       "                    name  best_score  \\\n",
       "0  RandomForestRegressor   -0.136071   \n",
       "\n",
       "                                     best_params  \n",
       "0  {'min_samples_split': 2, 'n_estimators': 300}  "
      ]
     },
     "execution_count": 29,
     "metadata": {},
     "output_type": "execute_result"
    }
   ],
   "source": [
    "tuning_parameters = {\n",
    "        'RandomForestRegressor': {\n",
    "            'n_estimators': [50, 100, 300],\n",
    "            'min_samples_split': [2, 4, 6, 8, 10]\n",
    "        }\n",
    "    }\n",
    "\n",
    "model = RandomForestRegressor(random_state=0, oob_score=True)\n",
    "\n",
    "tuneParameters([model], tuning_parameters, X_train, Y_train, 'neg_root_mean_squared_error', n_core)"
   ]
  },
  {
   "cell_type": "code",
   "execution_count": 21,
   "metadata": {},
   "outputs": [],
   "source": [
    "model = RandomForestRegressor(n_estimators=300, min_samples_split=10, random_state=0, oob_score=True)\n",
    "predict(model, X_train, Y_train, X_test, True, id, label)"
   ]
  },
  {
   "cell_type": "markdown",
   "metadata": {},
   "source": [
    "## Top 10 Features"
   ]
  },
  {
   "cell_type": "code",
   "execution_count": 31,
   "metadata": {},
   "outputs": [
    {
     "name": "stdout",
     "output_type": "stream",
     "text": [
      "Index(['OverallQual', 'GrLivArea', 'GarageCars', 'TotalBsmtSF', 'FullBath'], dtype='object')\n"
     ]
    }
   ],
   "source": [
    "columns_to_select = ['OverallQual', 'GrLivArea', 'GarageCars', 'TotalBsmtSF', 'FullBath']\n",
    "X_train, Y_train, X_test = prepareDataSelect(columns_to_select, label, train_data, test_data, True)\n",
    "print(X_train.columns)"
   ]
  },
  {
   "cell_type": "code",
   "execution_count": 32,
   "metadata": {},
   "outputs": [],
   "source": [
    "X_train, X_test = preprocess(X_train, X_test)"
   ]
  },
  {
   "cell_type": "code",
   "execution_count": 33,
   "metadata": {},
   "outputs": [
    {
     "name": "stdout",
     "output_type": "stream",
     "text": [
      "                        name  score_mean\n",
      "0           LinearRegression    0.173850\n",
      "1                      Lasso    0.247382\n",
      "2                      Ridge    0.173847\n",
      "3      DecisionTreeRegressor    0.217094\n",
      "4      RandomForestRegressor    0.169240\n",
      "5  GradientBoostingRegressor    0.163544\n",
      "6               XGBRegressor    0.180380\n",
      "7          CatBoostRegressor    0.165611\n"
     ]
    }
   ],
   "source": [
    "cv_results = evaluation(models, X_train, Y_train, 'neg_root_mean_squared_error')\n",
    "print(cv_results)"
   ]
  },
  {
   "cell_type": "code",
   "execution_count": 34,
   "metadata": {},
   "outputs": [
    {
     "data": {
      "text/html": [
       "<div>\n",
       "<style scoped>\n",
       "    .dataframe tbody tr th:only-of-type {\n",
       "        vertical-align: middle;\n",
       "    }\n",
       "\n",
       "    .dataframe tbody tr th {\n",
       "        vertical-align: top;\n",
       "    }\n",
       "\n",
       "    .dataframe thead th {\n",
       "        text-align: right;\n",
       "    }\n",
       "</style>\n",
       "<table border=\"1\" class=\"dataframe\">\n",
       "  <thead>\n",
       "    <tr style=\"text-align: right;\">\n",
       "      <th></th>\n",
       "      <th>name</th>\n",
       "      <th>best_score</th>\n",
       "      <th>best_params</th>\n",
       "    </tr>\n",
       "  </thead>\n",
       "  <tbody>\n",
       "    <tr>\n",
       "      <th>0</th>\n",
       "      <td>RandomForestRegressor</td>\n",
       "      <td>0.16701</td>\n",
       "      <td>{'min_samples_split': 10, 'n_estimators': 100}</td>\n",
       "    </tr>\n",
       "  </tbody>\n",
       "</table>\n",
       "</div>"
      ],
      "text/plain": [
       "                    name  best_score  \\\n",
       "0  RandomForestRegressor     0.16701   \n",
       "\n",
       "                                      best_params  \n",
       "0  {'min_samples_split': 10, 'n_estimators': 100}  "
      ]
     },
     "execution_count": 34,
     "metadata": {},
     "output_type": "execute_result"
    }
   ],
   "source": [
    "tuning_parameters = {\n",
    "        'RandomForestRegressor': {\n",
    "            'n_estimators': [50, 100, 300],\n",
    "            'min_samples_split': [2, 4, 6, 8, 10]\n",
    "        }\n",
    "    }\n",
    "\n",
    "model = RandomForestRegressor(random_state=0, oob_score=True)\n",
    "\n",
    "tuneParameters([model], tuning_parameters, X_train, Y_train, 'neg_root_mean_squared_error', n_core)"
   ]
  },
  {
   "cell_type": "markdown",
   "metadata": {},
   "source": [
    "## Drop Duplicated Features"
   ]
  },
  {
   "cell_type": "code",
   "execution_count": 35,
   "metadata": {},
   "outputs": [
    {
     "name": "stdout",
     "output_type": "stream",
     "text": [
      "Index(['MSSubClass', 'MSZoning', 'LotFrontage', 'LotArea', 'Street', 'Alley',\n",
      "       'LotShape', 'LandContour', 'Utilities', 'LotConfig', 'LandSlope',\n",
      "       'Neighborhood', 'Condition1', 'Condition2', 'BldgType', 'HouseStyle',\n",
      "       'OverallQual', 'OverallCond', 'YearBuilt', 'YearRemodAdd', 'RoofStyle',\n",
      "       'RoofMatl', 'Exterior1st', 'Exterior2nd', 'MasVnrType', 'MasVnrArea',\n",
      "       'ExterQual', 'ExterCond', 'Foundation', 'BsmtQual', 'BsmtExposure',\n",
      "       'BsmtFinType1', 'BsmtFinType2', 'BsmtUnfSF', 'TotalBsmtSF', 'Heating',\n",
      "       'HeatingQC', 'CentralAir', 'Electrical', '1stFlrSF', '2ndFlrSF',\n",
      "       'LowQualFinSF', 'GrLivArea', 'BsmtFullBath', 'BsmtHalfBath', 'FullBath',\n",
      "       'HalfBath', 'BedroomAbvGr', 'KitchenAbvGr', 'KitchenQual',\n",
      "       'TotRmsAbvGrd', 'Functional', 'Fireplaces', 'FireplaceQu', 'GarageType',\n",
      "       'GarageCars', 'PavedDrive', 'WoodDeckSF', 'OpenPorchSF',\n",
      "       'EnclosedPorch', '3SsnPorch', 'ScreenPorch', 'PoolArea', 'PoolQC',\n",
      "       'Fence', 'MiscFeature', 'MiscVal', 'MoSold', 'YrSold', 'SaleType',\n",
      "       'SaleCondition'],\n",
      "      dtype='object')\n"
     ]
    }
   ],
   "source": [
    "columns_to_drop = ['Id', 'GarageArea', 'GarageYrBlt', 'GarageFinish', 'GarageQual', 'GarageCond', 'BsmtCond', 'BsmtFinSF1', 'BsmtFinSF2']\n",
    "X_train, Y_train, X_test = prepareDataDrop(columns_to_drop, label, train_data, test_data, True)\n",
    "print(X_train.columns)"
   ]
  },
  {
   "cell_type": "code",
   "execution_count": 36,
   "metadata": {},
   "outputs": [],
   "source": [
    "X_train, X_test = preprocess(X_train, X_test)"
   ]
  },
  {
   "cell_type": "code",
   "execution_count": 37,
   "metadata": {},
   "outputs": [
    {
     "name": "stdout",
     "output_type": "stream",
     "text": [
      "                        name  score_mean\n",
      "0           LinearRegression    0.137710\n",
      "1                      Lasso    0.194112\n",
      "2                      Ridge    0.158227\n",
      "3      DecisionTreeRegressor    0.204177\n",
      "4      RandomForestRegressor    0.137304\n",
      "5  GradientBoostingRegressor    0.124008\n",
      "6               XGBRegressor    0.136576\n",
      "7          CatBoostRegressor    0.114739\n"
     ]
    }
   ],
   "source": [
    "cv_results = evaluation(models, X_train, Y_train, 'neg_root_mean_squared_error')\n",
    "print(cv_results)"
   ]
  },
  {
   "cell_type": "code",
   "execution_count": 38,
   "metadata": {},
   "outputs": [
    {
     "data": {
      "text/html": [
       "<div>\n",
       "<style scoped>\n",
       "    .dataframe tbody tr th:only-of-type {\n",
       "        vertical-align: middle;\n",
       "    }\n",
       "\n",
       "    .dataframe tbody tr th {\n",
       "        vertical-align: top;\n",
       "    }\n",
       "\n",
       "    .dataframe thead th {\n",
       "        text-align: right;\n",
       "    }\n",
       "</style>\n",
       "<table border=\"1\" class=\"dataframe\">\n",
       "  <thead>\n",
       "    <tr style=\"text-align: right;\">\n",
       "      <th></th>\n",
       "      <th>name</th>\n",
       "      <th>best_score</th>\n",
       "      <th>best_params</th>\n",
       "    </tr>\n",
       "  </thead>\n",
       "  <tbody>\n",
       "    <tr>\n",
       "      <th>0</th>\n",
       "      <td>RandomForestRegressor</td>\n",
       "      <td>0.136925</td>\n",
       "      <td>{'min_samples_split': 4, 'n_estimators': 50}</td>\n",
       "    </tr>\n",
       "  </tbody>\n",
       "</table>\n",
       "</div>"
      ],
      "text/plain": [
       "                    name  best_score  \\\n",
       "0  RandomForestRegressor    0.136925   \n",
       "\n",
       "                                    best_params  \n",
       "0  {'min_samples_split': 4, 'n_estimators': 50}  "
      ]
     },
     "execution_count": 38,
     "metadata": {},
     "output_type": "execute_result"
    }
   ],
   "source": [
    "tuning_parameters = {\n",
    "        'RandomForestRegressor': {\n",
    "            'n_estimators': [50, 100, 300],\n",
    "            'min_samples_split': [2, 4, 6, 8, 10]\n",
    "        }\n",
    "    }\n",
    "\n",
    "model = RandomForestRegressor(random_state=0, oob_score=True)\n",
    "\n",
    "tuneParameters([model], tuning_parameters, X_train, Y_train, 'neg_root_mean_squared_error', n_core)"
   ]
  },
  {
   "cell_type": "markdown",
   "metadata": {},
   "source": [
    "## Take Log of Top 10 Features"
   ]
  },
  {
   "cell_type": "code",
   "execution_count": 48,
   "metadata": {},
   "outputs": [],
   "source": [
    "train_data_new, test_data_new = train_data.copy(), test_data.copy()\n",
    "\n",
    "train_data_new['GrLivArea'] = np.log1p(train_data_new['GrLivArea'])\n",
    "train_data_new['TotalBsmtSF'] = np.log1p(train_data_new['TotalBsmtSF'])\n",
    "\n",
    "test_data_new['GrLivArea'] = np.log1p(test_data_new['GrLivArea'])\n",
    "test_data_new['TotalBsmtSF'] = np.log1p(test_data_new['TotalBsmtSF'])"
   ]
  },
  {
   "cell_type": "code",
   "execution_count": 50,
   "metadata": {},
   "outputs": [
    {
     "name": "stdout",
     "output_type": "stream",
     "text": [
      "Index(['OverallQual', 'GrLivArea', 'GarageCars', 'TotalBsmtSF', 'FullBath'], dtype='object')\n"
     ]
    }
   ],
   "source": [
    "columns_to_select = ['OverallQual', 'GrLivArea', 'GarageCars', 'TotalBsmtSF', 'FullBath']\n",
    "X_train, Y_train, X_test = prepareDataSelect(columns_to_select, label, train_data_new, test_data_new, True)\n",
    "print(X_train.columns)"
   ]
  },
  {
   "cell_type": "code",
   "execution_count": 51,
   "metadata": {},
   "outputs": [],
   "source": [
    "X_train, X_test = preprocess(X_train, X_test)"
   ]
  },
  {
   "cell_type": "code",
   "execution_count": 52,
   "metadata": {},
   "outputs": [
    {
     "name": "stdout",
     "output_type": "stream",
     "text": [
      "                        name  score_mean\n",
      "0           LinearRegression    0.176015\n",
      "1                      Lasso    0.404022\n",
      "2                      Ridge    0.176025\n",
      "3      DecisionTreeRegressor    0.216723\n",
      "4      RandomForestRegressor    0.169540\n",
      "5  GradientBoostingRegressor    0.163602\n",
      "6               XGBRegressor    0.180380\n",
      "7          CatBoostRegressor    0.165746\n"
     ]
    }
   ],
   "source": [
    "cv_results = evaluation(models, X_train, Y_train, 'neg_root_mean_squared_error')\n",
    "print(cv_results)"
   ]
  },
  {
   "cell_type": "code",
   "execution_count": 53,
   "metadata": {},
   "outputs": [
    {
     "data": {
      "text/html": [
       "<div>\n",
       "<style scoped>\n",
       "    .dataframe tbody tr th:only-of-type {\n",
       "        vertical-align: middle;\n",
       "    }\n",
       "\n",
       "    .dataframe tbody tr th {\n",
       "        vertical-align: top;\n",
       "    }\n",
       "\n",
       "    .dataframe thead th {\n",
       "        text-align: right;\n",
       "    }\n",
       "</style>\n",
       "<table border=\"1\" class=\"dataframe\">\n",
       "  <thead>\n",
       "    <tr style=\"text-align: right;\">\n",
       "      <th></th>\n",
       "      <th>name</th>\n",
       "      <th>best_score</th>\n",
       "      <th>best_params</th>\n",
       "    </tr>\n",
       "  </thead>\n",
       "  <tbody>\n",
       "    <tr>\n",
       "      <th>0</th>\n",
       "      <td>RandomForestRegressor</td>\n",
       "      <td>0.167096</td>\n",
       "      <td>{'min_samples_split': 10, 'n_estimators': 100}</td>\n",
       "    </tr>\n",
       "  </tbody>\n",
       "</table>\n",
       "</div>"
      ],
      "text/plain": [
       "                    name  best_score  \\\n",
       "0  RandomForestRegressor    0.167096   \n",
       "\n",
       "                                      best_params  \n",
       "0  {'min_samples_split': 10, 'n_estimators': 100}  "
      ]
     },
     "execution_count": 53,
     "metadata": {},
     "output_type": "execute_result"
    }
   ],
   "source": [
    "tuning_parameters = {\n",
    "        'RandomForestRegressor': {\n",
    "            'n_estimators': [50, 100, 300],\n",
    "            'min_samples_split': [2, 4, 6, 8, 10]\n",
    "        }\n",
    "    }\n",
    "\n",
    "model = RandomForestRegressor(random_state=0, oob_score=True)\n",
    "\n",
    "tuneParameters([model], tuning_parameters, X_train, Y_train, 'neg_root_mean_squared_error', n_core)"
   ]
  },
  {
   "cell_type": "markdown",
   "metadata": {},
   "source": [
    "##  Drop Duplicated Features and Take Log"
   ]
  },
  {
   "cell_type": "code",
   "execution_count": 57,
   "metadata": {},
   "outputs": [
    {
     "name": "stdout",
     "output_type": "stream",
     "text": [
      "Index(['LotFrontage', 'LotArea', 'Street', 'OverallCond', 'MasVnrArea',\n",
      "       'ExterQual', 'ExterCond', 'BsmtExposure', 'BsmtFinSF1', 'BsmtFinType2',\n",
      "       'BsmtFinSF2', 'BsmtUnfSF', 'TotalBsmtSF', '1stFlrSF', '2ndFlrSF',\n",
      "       'LowQualFinSF', 'GrLivArea', 'BsmtFullBath', 'BsmtHalfBath', 'HalfBath',\n",
      "       'KitchenAbvGr', 'TotRmsAbvGrd', 'Fireplaces', 'WoodDeckSF',\n",
      "       'OpenPorchSF', 'EnclosedPorch', '3SsnPorch', 'ScreenPorch', 'PoolArea',\n",
      "       'PoolQC', 'Fence', 'MiscVal'],\n",
      "      dtype='object')\n"
     ]
    }
   ],
   "source": [
    "train_data_new, test_data_new = train_data.copy(), test_data.copy()\n",
    "\n",
    "skews = train_data_new.select_dtypes(include='number').skew()\n",
    "columns_skew = skews[skews > 0.5].index\n",
    "columns_skew = columns_skew.drop(label)\n",
    "\n",
    "print(columns_skew)"
   ]
  },
  {
   "cell_type": "code",
   "execution_count": 58,
   "metadata": {},
   "outputs": [],
   "source": [
    "train_data_new[columns_skew] = np.log1p(train_data_new[columns_skew])\n",
    "test_data_new[columns_skew] = np.log1p(test_data_new[columns_skew])"
   ]
  },
  {
   "cell_type": "code",
   "execution_count": 59,
   "metadata": {},
   "outputs": [
    {
     "name": "stdout",
     "output_type": "stream",
     "text": [
      "Index(['MSSubClass', 'MSZoning', 'LotFrontage', 'LotArea', 'Street', 'Alley',\n",
      "       'LotShape', 'LandContour', 'Utilities', 'LotConfig', 'LandSlope',\n",
      "       'Neighborhood', 'Condition1', 'Condition2', 'BldgType', 'HouseStyle',\n",
      "       'OverallQual', 'OverallCond', 'YearBuilt', 'YearRemodAdd', 'RoofStyle',\n",
      "       'RoofMatl', 'Exterior1st', 'Exterior2nd', 'MasVnrType', 'MasVnrArea',\n",
      "       'ExterQual', 'ExterCond', 'Foundation', 'BsmtQual', 'BsmtExposure',\n",
      "       'BsmtFinType1', 'BsmtFinType2', 'BsmtUnfSF', 'TotalBsmtSF', 'Heating',\n",
      "       'HeatingQC', 'CentralAir', 'Electrical', '1stFlrSF', '2ndFlrSF',\n",
      "       'LowQualFinSF', 'GrLivArea', 'BsmtFullBath', 'BsmtHalfBath', 'FullBath',\n",
      "       'HalfBath', 'BedroomAbvGr', 'KitchenAbvGr', 'KitchenQual',\n",
      "       'TotRmsAbvGrd', 'Functional', 'Fireplaces', 'FireplaceQu', 'GarageType',\n",
      "       'GarageCars', 'PavedDrive', 'WoodDeckSF', 'OpenPorchSF',\n",
      "       'EnclosedPorch', '3SsnPorch', 'ScreenPorch', 'PoolArea', 'PoolQC',\n",
      "       'Fence', 'MiscFeature', 'MiscVal', 'MoSold', 'YrSold', 'SaleType',\n",
      "       'SaleCondition'],\n",
      "      dtype='object')\n"
     ]
    }
   ],
   "source": [
    "columns_to_drop = ['Id', 'GarageArea', 'GarageYrBlt', 'GarageFinish', 'GarageQual', 'GarageCond', 'BsmtCond', 'BsmtFinSF1', 'BsmtFinSF2']\n",
    "X_train, Y_train, X_test = prepareDataDrop(columns_to_drop, label, train_data_new, test_data_new, True)\n",
    "print(X_train.columns)"
   ]
  },
  {
   "cell_type": "code",
   "execution_count": 64,
   "metadata": {},
   "outputs": [],
   "source": [
    "X_train, X_test = preprocess(X_train, X_test)"
   ]
  },
  {
   "cell_type": "code",
   "execution_count": 65,
   "metadata": {},
   "outputs": [
    {
     "name": "stdout",
     "output_type": "stream",
     "text": [
      "                        name  score_mean\n",
      "0           LinearRegression    0.133716\n",
      "1                      Lasso    0.312743\n",
      "2                      Ridge    0.126092\n",
      "3      DecisionTreeRegressor    0.204854\n",
      "4      RandomForestRegressor    0.137337\n",
      "5  GradientBoostingRegressor    0.124076\n",
      "6               XGBRegressor    0.136576\n",
      "7          CatBoostRegressor    0.114717\n"
     ]
    }
   ],
   "source": [
    "cv_results = evaluation(models, X_train, Y_train, 'neg_root_mean_squared_error')\n",
    "print(cv_results)"
   ]
  },
  {
   "cell_type": "code",
   "execution_count": 66,
   "metadata": {},
   "outputs": [
    {
     "data": {
      "text/html": [
       "<div>\n",
       "<style scoped>\n",
       "    .dataframe tbody tr th:only-of-type {\n",
       "        vertical-align: middle;\n",
       "    }\n",
       "\n",
       "    .dataframe tbody tr th {\n",
       "        vertical-align: top;\n",
       "    }\n",
       "\n",
       "    .dataframe thead th {\n",
       "        text-align: right;\n",
       "    }\n",
       "</style>\n",
       "<table border=\"1\" class=\"dataframe\">\n",
       "  <thead>\n",
       "    <tr style=\"text-align: right;\">\n",
       "      <th></th>\n",
       "      <th>name</th>\n",
       "      <th>best_score</th>\n",
       "      <th>best_params</th>\n",
       "    </tr>\n",
       "  </thead>\n",
       "  <tbody>\n",
       "    <tr>\n",
       "      <th>0</th>\n",
       "      <td>RandomForestRegressor</td>\n",
       "      <td>0.136919</td>\n",
       "      <td>{'min_samples_split': 4, 'n_estimators': 50}</td>\n",
       "    </tr>\n",
       "  </tbody>\n",
       "</table>\n",
       "</div>"
      ],
      "text/plain": [
       "                    name  best_score  \\\n",
       "0  RandomForestRegressor    0.136919   \n",
       "\n",
       "                                    best_params  \n",
       "0  {'min_samples_split': 4, 'n_estimators': 50}  "
      ]
     },
     "execution_count": 66,
     "metadata": {},
     "output_type": "execute_result"
    }
   ],
   "source": [
    "tuning_parameters = {\n",
    "        'RandomForestRegressor': {\n",
    "            'n_estimators': [50, 100, 300],\n",
    "            'min_samples_split': [2, 4, 6, 8, 10]\n",
    "        }\n",
    "    }\n",
    "\n",
    "model = RandomForestRegressor(random_state=0, oob_score=True)\n",
    "\n",
    "tuneParameters([model], tuning_parameters, X_train, Y_train, 'neg_root_mean_squared_error', n_core)"
   ]
  }
 ],
 "metadata": {
  "kernelspec": {
   "display_name": "ml2",
   "language": "python",
   "name": "python3"
  },
  "language_info": {
   "codemirror_mode": {
    "name": "ipython",
    "version": 3
   },
   "file_extension": ".py",
   "mimetype": "text/x-python",
   "name": "python",
   "nbconvert_exporter": "python",
   "pygments_lexer": "ipython3",
   "version": "3.9.19"
  }
 },
 "nbformat": 4,
 "nbformat_minor": 2
}
